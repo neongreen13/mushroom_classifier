{
 "cells": [
  {
   "cell_type": "markdown",
   "metadata": {},
   "source": [
    "<font color='PaleVioletRed'> \n",
    "# Mushroom Classifier\n",
    "This notebook is a learning tool using the UCI machine learning repository dataset on mushrooms. The goal of this project is to examine the mushroom dataset and build a classifier to predict if a mushroom's physical attribute (as labeled in the dataset) determines whether it is edible or poisonous. \n",
    "- Dataset source: https://archive.ics.uci.edu/ml/datasets/mushroom"
   ]
  },
  {
   "cell_type": "markdown",
   "metadata": {},
   "source": [
    "<font color='PaleVioletRed'> \n",
    "### Load Mushroom Dataset"
   ]
  },
  {
   "cell_type": "code",
   "execution_count": 186,
   "metadata": {},
   "outputs": [],
   "source": [
    "column_names = ['class',\n",
    "                'cap-shape',\n",
    "                'cap-surface',\n",
    "                'cap-color',\n",
    "                'bruises?',\n",
    "                'odor',\n",
    "                'gill-attachment',\n",
    "                'gill-spacing',\n",
    "                'gill-size',\n",
    "                'gill-color',\n",
    "                'stalk-shape',\n",
    "                'stalk-root',\n",
    "                'stalk-surface-above-ring',\n",
    "                'stalk-surface-below-ring',\n",
    "                'stalk-color-above-ring',\n",
    "                'stalk-color-below-ring',\n",
    "                'veil-type',\n",
    "                'veil-color',\n",
    "                'ring-number',\n",
    "                'ring-type',\n",
    "                'spore-print-color',\n",
    "                'population',\n",
    "                'habitat']"
   ]
  },
  {
   "cell_type": "code",
   "execution_count": 187,
   "metadata": {
    "scrolled": true
   },
   "outputs": [],
   "source": [
    "import pandas as pd\n",
    "url = 'https://archive.ics.uci.edu/ml/machine-learning-databases/mushroom/agaricus-lepiota.data'\n",
    "df = pd.read_csv(url, header=None, names=column_names)"
   ]
  },
  {
   "cell_type": "markdown",
   "metadata": {},
   "source": [
    "<font color='PaleVioletRed'> \n",
    "### Exploratory Data Analysis"
   ]
  },
  {
   "cell_type": "code",
   "execution_count": 257,
   "metadata": {},
   "outputs": [
    {
     "data": {
      "text/plain": [
       "(8124, 23)"
      ]
     },
     "execution_count": 257,
     "metadata": {},
     "output_type": "execute_result"
    }
   ],
   "source": [
    "df.shape"
   ]
  },
  {
   "cell_type": "code",
   "execution_count": 258,
   "metadata": {},
   "outputs": [
    {
     "data": {
      "text/html": [
       "<div>\n",
       "<style scoped>\n",
       "    .dataframe tbody tr th:only-of-type {\n",
       "        vertical-align: middle;\n",
       "    }\n",
       "\n",
       "    .dataframe tbody tr th {\n",
       "        vertical-align: top;\n",
       "    }\n",
       "\n",
       "    .dataframe thead th {\n",
       "        text-align: right;\n",
       "    }\n",
       "</style>\n",
       "<table border=\"1\" class=\"dataframe\">\n",
       "  <thead>\n",
       "    <tr style=\"text-align: right;\">\n",
       "      <th></th>\n",
       "      <th>class</th>\n",
       "      <th>cap-shape</th>\n",
       "      <th>cap-surface</th>\n",
       "      <th>cap-color</th>\n",
       "      <th>bruises?</th>\n",
       "      <th>odor</th>\n",
       "      <th>gill-attachment</th>\n",
       "      <th>gill-spacing</th>\n",
       "      <th>gill-size</th>\n",
       "      <th>gill-color</th>\n",
       "      <th>...</th>\n",
       "      <th>stalk-surface-below-ring</th>\n",
       "      <th>stalk-color-above-ring</th>\n",
       "      <th>stalk-color-below-ring</th>\n",
       "      <th>veil-type</th>\n",
       "      <th>veil-color</th>\n",
       "      <th>ring-number</th>\n",
       "      <th>ring-type</th>\n",
       "      <th>spore-print-color</th>\n",
       "      <th>population</th>\n",
       "      <th>habitat</th>\n",
       "    </tr>\n",
       "  </thead>\n",
       "  <tbody>\n",
       "    <tr>\n",
       "      <th>count</th>\n",
       "      <td>8124</td>\n",
       "      <td>8124</td>\n",
       "      <td>8124</td>\n",
       "      <td>8124</td>\n",
       "      <td>8124</td>\n",
       "      <td>8124</td>\n",
       "      <td>8124</td>\n",
       "      <td>8124</td>\n",
       "      <td>8124</td>\n",
       "      <td>8124</td>\n",
       "      <td>...</td>\n",
       "      <td>8124</td>\n",
       "      <td>8124</td>\n",
       "      <td>8124</td>\n",
       "      <td>8124</td>\n",
       "      <td>8124</td>\n",
       "      <td>8124</td>\n",
       "      <td>8124</td>\n",
       "      <td>8124</td>\n",
       "      <td>8124</td>\n",
       "      <td>8124</td>\n",
       "    </tr>\n",
       "    <tr>\n",
       "      <th>unique</th>\n",
       "      <td>2</td>\n",
       "      <td>6</td>\n",
       "      <td>4</td>\n",
       "      <td>10</td>\n",
       "      <td>2</td>\n",
       "      <td>9</td>\n",
       "      <td>2</td>\n",
       "      <td>2</td>\n",
       "      <td>2</td>\n",
       "      <td>12</td>\n",
       "      <td>...</td>\n",
       "      <td>4</td>\n",
       "      <td>9</td>\n",
       "      <td>9</td>\n",
       "      <td>1</td>\n",
       "      <td>4</td>\n",
       "      <td>3</td>\n",
       "      <td>5</td>\n",
       "      <td>9</td>\n",
       "      <td>6</td>\n",
       "      <td>7</td>\n",
       "    </tr>\n",
       "    <tr>\n",
       "      <th>top</th>\n",
       "      <td>e</td>\n",
       "      <td>x</td>\n",
       "      <td>y</td>\n",
       "      <td>n</td>\n",
       "      <td>f</td>\n",
       "      <td>n</td>\n",
       "      <td>f</td>\n",
       "      <td>c</td>\n",
       "      <td>b</td>\n",
       "      <td>b</td>\n",
       "      <td>...</td>\n",
       "      <td>s</td>\n",
       "      <td>w</td>\n",
       "      <td>w</td>\n",
       "      <td>p</td>\n",
       "      <td>w</td>\n",
       "      <td>o</td>\n",
       "      <td>p</td>\n",
       "      <td>w</td>\n",
       "      <td>v</td>\n",
       "      <td>d</td>\n",
       "    </tr>\n",
       "    <tr>\n",
       "      <th>freq</th>\n",
       "      <td>4208</td>\n",
       "      <td>3656</td>\n",
       "      <td>3244</td>\n",
       "      <td>2284</td>\n",
       "      <td>4748</td>\n",
       "      <td>3528</td>\n",
       "      <td>7914</td>\n",
       "      <td>6812</td>\n",
       "      <td>5612</td>\n",
       "      <td>1728</td>\n",
       "      <td>...</td>\n",
       "      <td>4936</td>\n",
       "      <td>4464</td>\n",
       "      <td>4384</td>\n",
       "      <td>8124</td>\n",
       "      <td>7924</td>\n",
       "      <td>7488</td>\n",
       "      <td>3968</td>\n",
       "      <td>2388</td>\n",
       "      <td>4040</td>\n",
       "      <td>3148</td>\n",
       "    </tr>\n",
       "  </tbody>\n",
       "</table>\n",
       "<p>4 rows × 23 columns</p>\n",
       "</div>"
      ],
      "text/plain": [
       "       class cap-shape cap-surface cap-color bruises?  odor gill-attachment  \\\n",
       "count   8124      8124        8124      8124     8124  8124            8124   \n",
       "unique     2         6           4        10        2     9               2   \n",
       "top        e         x           y         n        f     n               f   \n",
       "freq    4208      3656        3244      2284     4748  3528            7914   \n",
       "\n",
       "       gill-spacing gill-size gill-color   ...   stalk-surface-below-ring  \\\n",
       "count          8124      8124       8124   ...                       8124   \n",
       "unique            2         2         12   ...                          4   \n",
       "top               c         b          b   ...                          s   \n",
       "freq           6812      5612       1728   ...                       4936   \n",
       "\n",
       "       stalk-color-above-ring stalk-color-below-ring veil-type veil-color  \\\n",
       "count                    8124                   8124      8124       8124   \n",
       "unique                      9                      9         1          4   \n",
       "top                         w                      w         p          w   \n",
       "freq                     4464                   4384      8124       7924   \n",
       "\n",
       "       ring-number ring-type spore-print-color population habitat  \n",
       "count         8124      8124              8124       8124    8124  \n",
       "unique           3         5                 9          6       7  \n",
       "top              o         p                 w          v       d  \n",
       "freq          7488      3968              2388       4040    3148  \n",
       "\n",
       "[4 rows x 23 columns]"
      ]
     },
     "execution_count": 258,
     "metadata": {},
     "output_type": "execute_result"
    }
   ],
   "source": [
    "df.describe() "
   ]
  },
  {
   "cell_type": "markdown",
   "metadata": {},
   "source": [
    "<font color='MediumVioletRed'>\n",
    "There are 22 attributes and one class - edible or poisonous - in the dataset. It does not consist of numerical features, but categorical features represented by a single letter to denote a physical feature of the mushroom. This will play into how we featureize the dataset later when building a classifier to determine the edibility of different mushroom types. "
   ]
  },
  {
   "cell_type": "code",
   "execution_count": 5,
   "metadata": {},
   "outputs": [
    {
     "data": {
      "text/plain": [
       "e    4208\n",
       "p    3916\n",
       "Name: class, dtype: int64"
      ]
     },
     "execution_count": 5,
     "metadata": {},
     "output_type": "execute_result"
    }
   ],
   "source": [
    "df['class'].value_counts()"
   ]
  },
  {
   "cell_type": "markdown",
   "metadata": {},
   "source": [
    "<font color='MediumVioletRed'>\n",
    "The class is fairly evening distributed between edible and poisonous."
   ]
  },
  {
   "cell_type": "code",
   "execution_count": 6,
   "metadata": {},
   "outputs": [
    {
     "data": {
      "text/plain": [
       "n    28.114229\n",
       "g    22.648941\n",
       "e    18.463811\n",
       "y    13.195470\n",
       "w    12.801576\n",
       "b     2.067947\n",
       "p     1.772526\n",
       "c     0.541605\n",
       "u     0.196947\n",
       "r     0.196947\n",
       "Name: cap-color, dtype: float64"
      ]
     },
     "execution_count": 6,
     "metadata": {},
     "output_type": "execute_result"
    }
   ],
   "source": [
    "df['cap-color'].value_counts(normalize=True)*100 #run value counts on one of the features"
   ]
  },
  {
   "cell_type": "code",
   "execution_count": 8,
   "metadata": {},
   "outputs": [
    {
     "data": {
      "text/plain": [
       "(<Figure size 1440x216 with 1 Axes>,\n",
       " <matplotlib.axes._subplots.AxesSubplot at 0x7fa7bc674f98>)"
      ]
     },
     "execution_count": 8,
     "metadata": {},
     "output_type": "execute_result"
    },
    {
     "data": {
      "image/png": "[encoded data removed]",
      "text/plain": [
       "<Figure size 1440x216 with 1 Axes>"
      ]
     },
     "metadata": {},
     "output_type": "display_data"
    }
   ],
   "source": [
    "#plot text data into stacked chart equal to 100% distribution\n",
    "import numpy as np\n",
    "import matplotlib.pyplot as plt\n",
    "\n",
    "\n",
    "category_names = ['brown','gray','red','yellow','white','buff','pink','cinnamon','purple','green']\n",
    "results = {\n",
    "    'Cap-Color': [28.105380,22.651730,18.466084,13.197095,12.803152,2.068201,1.772744,0.541672,0.196972,0.196972],}\n",
    "def survey(results, category_names):\n",
    "    labels = list(results.keys())\n",
    "    data = np.array(list(results.values()))\n",
    "    data_cum = data.cumsum(axis=1)\n",
    "    category_colors = plt.get_cmap('RdYlGn')(\n",
    "        np.linspace(0.15, 0.85, data.shape[1]))\n",
    "\n",
    "    fig, ax = plt.subplots(figsize=(20, 3))\n",
    "    ax.invert_yaxis()\n",
    "    ax.xaxis.set_visible(False)\n",
    "    ax.set_xlim(0, np.sum(data, axis=1).max())\n",
    "\n",
    "    for i, (colname, color) in enumerate(zip(category_names, category_colors)):\n",
    "        widths = data[:, i]\n",
    "        starts = data_cum[:, i] - widths\n",
    "        ax.barh(labels, widths, left=starts, height=0.5,\n",
    "                label=colname, color=color)\n",
    "        xcenters = starts + widths / 2\n",
    "\n",
    "        r, g, b, _ = color\n",
    "        text_color = 'white' if r * g * b < 0.5 else 'darkgrey'\n",
    "        for y, (x, c) in enumerate(zip(xcenters, widths)):\n",
    "            ax.text(x, y, str(int(c)), ha='center', va='center',\n",
    "                    color=text_color)\n",
    "    ax.legend(ncol=len(category_names), bbox_to_anchor=(0, 1),\n",
    "              loc='lower left', fontsize='small')\n",
    "\n",
    "    return fig, ax\n",
    "\n",
    "\n",
    "survey(results, category_names)"
   ]
  },
  {
   "cell_type": "markdown",
   "metadata": {},
   "source": [
    "<font color='MediumVioletRed'>\n",
    "\n",
    "#### Categories by Feature"
   ]
  },
  {
   "cell_type": "code",
   "execution_count": 7,
   "metadata": {},
   "outputs": [],
   "source": [
    "categories = {'class': {'e':'edibile', 'p':'posionous'},\n",
    "                'cap-shape': {'b':'bell','c':'conical','x':'convex','f':'flat','k':'knobbed','s':'sunken'},\n",
    "                'cap-surface': {'f':'fibrous','g':'grooves','y':'scaly','s':'smooth'}, \n",
    "                'cap-color': {'n':'brown','b':'buff','c':'cinnamon','g':'gray','r':'green','p':'pink','u':'purple','e':'red','w':'white','y':'yellow'},\n",
    "                'bruises': {'t':'bruises','f':'no'}, \n",
    "                'odor': {'a':'almond','l':'anise','c':'creosote','y':'fishy','f':'foul','m':'musty','n':'none','p':'pungent','s':'spicy'},\n",
    "                'gill-attachment': {'a':'attached','d':'descending','f':'free','n':'notched'},\n",
    "                'gill-spacing': {'c':'close','w':'crowded','d':'distant'},\n",
    "                'gill-size':{'b':'broad','n':'narrow'},\n",
    "                'gill-color':{'k':'black','o':'orange','n':'brown','b':'buff','c':'cinnamon','g':'gray','r':'green','p':'pink','u':'purple','e':'red','w':'white','y':'yellow'},\n",
    "                'stalk-shape':{'e':'enlarging','t':'tapering'},\n",
    "                'stalk-root':{'b':'bulbous','c':'club','u':'cup','e':'equal','z':'rhizomorphs','r':'rooted'},\n",
    "                'stalk-surface-above-ring':{'f':'fibrous','y':'scaly','k':'silky','s':'smooth'},\n",
    "                'stalk-surface-below-ring':{'f':'fibrous','y':'scaly','k':'silky','s':'smooth'},\n",
    "                'stalk-color-above-ring':{'n':'brown','b':'buff','c':'cinnamon','g':'gray','o':'orange','p':'pink','e':'red','w':'white','y':'yellow'},\n",
    "                'stalk-color-below-ring':{'n':'brown','b':'buff','c':'cinnamon','g':'gray','o':'orange','p':'pink','e':'red','w':'white','y':'yellow'},\n",
    "                'veil-type':{'p':'partial','u':'universal'},\n",
    "                'veil-color':{'o':'orange','n':'brown','w':'white','y':'yellow'},\n",
    "                'ring-number':{'n':'none','o':'one','t':'two'},\n",
    "                'ring-type':{'c':'cobwebby','e':'evanescent','f':'flaring','l':'large','n':'none','p':'pendant','s':'sheathing','z':'zone'},\n",
    "                'spore-print-color':{'k':'black','n':'brown','b':'buff', 'h':'chocolate','r':'green','o':'orange','u':'purple','w':'white','y':'yellow'},\n",
    "                'population':{'a':'abundant','c':'clustered','n':'numerous','s':'scattered','v':'several','y':'solitary'},\n",
    "                'habitat':{'g':'grasses','l':'leaves','m':'meadows','p':'paths','u':'urban','w':'waste','d':'woods'},\n",
    "             }"
   ]
  },
  {
   "cell_type": "markdown",
   "metadata": {},
   "source": [
    "<font color='MediumVioletRed'>\n",
    "\n",
    "By constructing a groupby for each feature, we find the following insights:\n",
    "    \n",
    "- For the cap shape, only edible mushrooms have a sunken (s feature) shape and only poisonous mushrooms have a conical (c feature) shape.\n",
    "- For the cap surface, only poisonous mushrooms have grooves (s feature) on the cap surface, but there are only 4 instances so it is not likely a strong indicator of class. \n",
    "- For the cap color, only edible mushrooms are green and purple (r and u features) in color, but their instances are low as well.\n",
    "- Bruises have only two attributes that are somewhat evenly distributed between edible and poinsonous, so this feature is not likely a strong influencer of class. This is the same for gill attachment,gill spacing, gill size, stalk shape, and stalk shape.\n",
    "- For the odor, only edible mushrooms smell of almond and anise (a and l features) and only poisonous mushrooms creosote, foul, musty, pungent, fishy, spicey, or have no odor smell.\n",
    "- For gill color, buff and green colors (b and r features) are only poisonous, and red and orange colors (e and o featues) are only edible but have a smaller set of instances. B is the strongest indicator in gill color. \n",
    "- For stalk root, a rooted stalk (r feature) is only edible. This feature has missing values that were imputed with '?' in the datasset. \n",
    "- For stalk color above and below the ring, buff, cinnamon, and yellow colors (b,c, and y features) are only poisonous, and red, gray, and orange colors (e, g, and o features) are only edible. \n",
    "- Veil type has only one attribute, so this is not an indicator of class. This feature can be removed from the dataset as it does not impact class prediction.\n",
    "- For veil color, brown and orange colors (n and o features) are only edible and yellow color (y feature) is only poisonous.\n",
    "- For ring number, haing no rings (n feature) is only poisonous.\n",
    "- For ring type, large or no rings (l and n features) are only poisonous and flaring rings (f feature) are only edible.\n",
    "- For spore print color, buff, chocolate, purple, organge, and yellow colors (b,h,o,u, and y features) are only edible and green color (r feature) is only poisonous.\n",
    "- For population, abundant and numerous (a and n feature) are only edible.\n",
    "- For habitat, in waste (w feature) is only edible.\n",
    "\n",
    "What this indicates is that some features are stronger indicators of the edibility class."
   ]
  },
  {
   "cell_type": "code",
   "execution_count": 9,
   "metadata": {},
   "outputs": [
    {
     "data": {
      "text/html": [
       "<div>\n",
       "<style scoped>\n",
       "    .dataframe tbody tr th:only-of-type {\n",
       "        vertical-align: middle;\n",
       "    }\n",
       "\n",
       "    .dataframe tbody tr th {\n",
       "        vertical-align: top;\n",
       "    }\n",
       "\n",
       "    .dataframe thead th {\n",
       "        text-align: right;\n",
       "    }\n",
       "</style>\n",
       "<table border=\"1\" class=\"dataframe\">\n",
       "  <thead>\n",
       "    <tr style=\"text-align: right;\">\n",
       "      <th>cap-shape</th>\n",
       "      <th>b</th>\n",
       "      <th>c</th>\n",
       "      <th>f</th>\n",
       "      <th>k</th>\n",
       "      <th>s</th>\n",
       "      <th>x</th>\n",
       "    </tr>\n",
       "    <tr>\n",
       "      <th>class</th>\n",
       "      <th></th>\n",
       "      <th></th>\n",
       "      <th></th>\n",
       "      <th></th>\n",
       "      <th></th>\n",
       "      <th></th>\n",
       "    </tr>\n",
       "  </thead>\n",
       "  <tbody>\n",
       "    <tr>\n",
       "      <th>e</th>\n",
       "      <td>404.0</td>\n",
       "      <td>0.0</td>\n",
       "      <td>1596.0</td>\n",
       "      <td>228.0</td>\n",
       "      <td>32.0</td>\n",
       "      <td>1948.0</td>\n",
       "    </tr>\n",
       "    <tr>\n",
       "      <th>p</th>\n",
       "      <td>48.0</td>\n",
       "      <td>4.0</td>\n",
       "      <td>1556.0</td>\n",
       "      <td>600.0</td>\n",
       "      <td>0.0</td>\n",
       "      <td>1708.0</td>\n",
       "    </tr>\n",
       "  </tbody>\n",
       "</table>\n",
       "</div>"
      ],
      "text/plain": [
       "cap-shape      b    c       f      k     s       x\n",
       "class                                             \n",
       "e          404.0  0.0  1596.0  228.0  32.0  1948.0\n",
       "p           48.0  4.0  1556.0  600.0   0.0  1708.0"
      ]
     },
     "metadata": {},
     "output_type": "display_data"
    },
    {
     "data": {
      "text/plain": [
       "<matplotlib.axes._subplots.AxesSubplot at 0x7f35a896d240>"
      ]
     },
     "execution_count": 9,
     "metadata": {},
     "output_type": "execute_result"
    },
    {
     "data": {
      "image/png": "[encoded data removed]",
      "text/plain": [
       "<Figure size 432x288 with 1 Axes>"
      ]
     },
     "metadata": {
      "needs_background": "light"
     },
     "output_type": "display_data"
    }
   ],
   "source": [
    "capShape = df.groupby('class')['cap-shape'].value_counts().unstack().fillna(0)\n",
    "display(capShape)\n",
    "capShape.plot.barh()"
   ]
  },
  {
   "cell_type": "code",
   "execution_count": 10,
   "metadata": {},
   "outputs": [
    {
     "data": {
      "text/html": [
       "<div>\n",
       "<style scoped>\n",
       "    .dataframe tbody tr th:only-of-type {\n",
       "        vertical-align: middle;\n",
       "    }\n",
       "\n",
       "    .dataframe tbody tr th {\n",
       "        vertical-align: top;\n",
       "    }\n",
       "\n",
       "    .dataframe thead th {\n",
       "        text-align: right;\n",
       "    }\n",
       "</style>\n",
       "<table border=\"1\" class=\"dataframe\">\n",
       "  <thead>\n",
       "    <tr style=\"text-align: right;\">\n",
       "      <th>cap-surface</th>\n",
       "      <th>f</th>\n",
       "      <th>g</th>\n",
       "      <th>s</th>\n",
       "      <th>y</th>\n",
       "    </tr>\n",
       "    <tr>\n",
       "      <th>class</th>\n",
       "      <th></th>\n",
       "      <th></th>\n",
       "      <th></th>\n",
       "      <th></th>\n",
       "    </tr>\n",
       "  </thead>\n",
       "  <tbody>\n",
       "    <tr>\n",
       "      <th>e</th>\n",
       "      <td>1560.0</td>\n",
       "      <td>0.0</td>\n",
       "      <td>1144.0</td>\n",
       "      <td>1504.0</td>\n",
       "    </tr>\n",
       "    <tr>\n",
       "      <th>p</th>\n",
       "      <td>760.0</td>\n",
       "      <td>4.0</td>\n",
       "      <td>1412.0</td>\n",
       "      <td>1740.0</td>\n",
       "    </tr>\n",
       "  </tbody>\n",
       "</table>\n",
       "</div>"
      ],
      "text/plain": [
       "cap-surface       f    g       s       y\n",
       "class                                   \n",
       "e            1560.0  0.0  1144.0  1504.0\n",
       "p             760.0  4.0  1412.0  1740.0"
      ]
     },
     "metadata": {},
     "output_type": "display_data"
    },
    {
     "data": {
      "text/plain": [
       "<matplotlib.axes._subplots.AxesSubplot at 0x7f35a8945c18>"
      ]
     },
     "execution_count": 10,
     "metadata": {},
     "output_type": "execute_result"
    },
    {
     "data": {
      "image/png": "[encoded data removed]",
      "text/plain": [
       "<Figure size 432x288 with 1 Axes>"
      ]
     },
     "metadata": {
      "needs_background": "light"
     },
     "output_type": "display_data"
    }
   ],
   "source": [
    "capSurface = df.groupby('class')['cap-surface'].value_counts().unstack().fillna(0)\n",
    "display(capSurface)\n",
    "capSurface.plot.barh()"
   ]
  },
  {
   "cell_type": "code",
   "execution_count": 11,
   "metadata": {},
   "outputs": [
    {
     "data": {
      "text/html": [
       "<div>\n",
       "<style scoped>\n",
       "    .dataframe tbody tr th:only-of-type {\n",
       "        vertical-align: middle;\n",
       "    }\n",
       "\n",
       "    .dataframe tbody tr th {\n",
       "        vertical-align: top;\n",
       "    }\n",
       "\n",
       "    .dataframe thead th {\n",
       "        text-align: right;\n",
       "    }\n",
       "</style>\n",
       "<table border=\"1\" class=\"dataframe\">\n",
       "  <thead>\n",
       "    <tr style=\"text-align: right;\">\n",
       "      <th>cap-color</th>\n",
       "      <th>b</th>\n",
       "      <th>c</th>\n",
       "      <th>e</th>\n",
       "      <th>g</th>\n",
       "      <th>n</th>\n",
       "      <th>p</th>\n",
       "      <th>r</th>\n",
       "      <th>u</th>\n",
       "      <th>w</th>\n",
       "      <th>y</th>\n",
       "    </tr>\n",
       "    <tr>\n",
       "      <th>class</th>\n",
       "      <th></th>\n",
       "      <th></th>\n",
       "      <th></th>\n",
       "      <th></th>\n",
       "      <th></th>\n",
       "      <th></th>\n",
       "      <th></th>\n",
       "      <th></th>\n",
       "      <th></th>\n",
       "      <th></th>\n",
       "    </tr>\n",
       "  </thead>\n",
       "  <tbody>\n",
       "    <tr>\n",
       "      <th>e</th>\n",
       "      <td>48.0</td>\n",
       "      <td>32.0</td>\n",
       "      <td>624.0</td>\n",
       "      <td>1032.0</td>\n",
       "      <td>1264.0</td>\n",
       "      <td>56.0</td>\n",
       "      <td>16.0</td>\n",
       "      <td>16.0</td>\n",
       "      <td>720.0</td>\n",
       "      <td>400.0</td>\n",
       "    </tr>\n",
       "    <tr>\n",
       "      <th>p</th>\n",
       "      <td>120.0</td>\n",
       "      <td>12.0</td>\n",
       "      <td>876.0</td>\n",
       "      <td>808.0</td>\n",
       "      <td>1020.0</td>\n",
       "      <td>88.0</td>\n",
       "      <td>0.0</td>\n",
       "      <td>0.0</td>\n",
       "      <td>320.0</td>\n",
       "      <td>672.0</td>\n",
       "    </tr>\n",
       "  </tbody>\n",
       "</table>\n",
       "</div>"
      ],
      "text/plain": [
       "cap-color      b     c      e       g       n     p     r     u      w      y\n",
       "class                                                                        \n",
       "e           48.0  32.0  624.0  1032.0  1264.0  56.0  16.0  16.0  720.0  400.0\n",
       "p          120.0  12.0  876.0   808.0  1020.0  88.0   0.0   0.0  320.0  672.0"
      ]
     },
     "metadata": {},
     "output_type": "display_data"
    },
    {
     "data": {
      "text/plain": [
       "<matplotlib.axes._subplots.AxesSubplot at 0x7f35a8911e48>"
      ]
     },
     "execution_count": 11,
     "metadata": {},
     "output_type": "execute_result"
    },
    {
     "data": {
      "image/png": "[encoded data removed]",
      "text/plain": [
       "<Figure size 432x288 with 1 Axes>"
      ]
     },
     "metadata": {
      "needs_background": "light"
     },
     "output_type": "display_data"
    }
   ],
   "source": [
    "capColor = df.groupby('class')['cap-color'].value_counts().unstack().fillna(0)\n",
    "display(capColor)\n",
    "df.groupby('class')['cap-color'].value_counts().unstack(0).fillna(0).plot.barh() #0 in unstack switches the features on the plot axis"
   ]
  },
  {
   "cell_type": "code",
   "execution_count": 12,
   "metadata": {},
   "outputs": [
    {
     "data": {
      "text/html": [
       "<div>\n",
       "<style scoped>\n",
       "    .dataframe tbody tr th:only-of-type {\n",
       "        vertical-align: middle;\n",
       "    }\n",
       "\n",
       "    .dataframe tbody tr th {\n",
       "        vertical-align: top;\n",
       "    }\n",
       "\n",
       "    .dataframe thead th {\n",
       "        text-align: right;\n",
       "    }\n",
       "</style>\n",
       "<table border=\"1\" class=\"dataframe\">\n",
       "  <thead>\n",
       "    <tr style=\"text-align: right;\">\n",
       "      <th>bruises?</th>\n",
       "      <th>f</th>\n",
       "      <th>t</th>\n",
       "    </tr>\n",
       "    <tr>\n",
       "      <th>class</th>\n",
       "      <th></th>\n",
       "      <th></th>\n",
       "    </tr>\n",
       "  </thead>\n",
       "  <tbody>\n",
       "    <tr>\n",
       "      <th>e</th>\n",
       "      <td>1456</td>\n",
       "      <td>2752</td>\n",
       "    </tr>\n",
       "    <tr>\n",
       "      <th>p</th>\n",
       "      <td>3292</td>\n",
       "      <td>624</td>\n",
       "    </tr>\n",
       "  </tbody>\n",
       "</table>\n",
       "</div>"
      ],
      "text/plain": [
       "bruises?     f     t\n",
       "class               \n",
       "e         1456  2752\n",
       "p         3292   624"
      ]
     },
     "metadata": {},
     "output_type": "display_data"
    },
    {
     "data": {
      "text/plain": [
       "<matplotlib.axes._subplots.AxesSubplot at 0x7f35a887d4e0>"
      ]
     },
     "execution_count": 12,
     "metadata": {},
     "output_type": "execute_result"
    },
    {
     "data": {
      "image/png": "[encoded data removed]",
      "text/plain": [
       "<Figure size 432x288 with 1 Axes>"
      ]
     },
     "metadata": {
      "needs_background": "light"
     },
     "output_type": "display_data"
    }
   ],
   "source": [
    "bruises = df.groupby('class')['bruises?'].value_counts().unstack().fillna(0)\n",
    "display(bruises)\n",
    "bruises.plot.barh()"
   ]
  },
  {
   "cell_type": "code",
   "execution_count": 13,
   "metadata": {},
   "outputs": [
    {
     "data": {
      "text/html": [
       "<div>\n",
       "<style scoped>\n",
       "    .dataframe tbody tr th:only-of-type {\n",
       "        vertical-align: middle;\n",
       "    }\n",
       "\n",
       "    .dataframe tbody tr th {\n",
       "        vertical-align: top;\n",
       "    }\n",
       "\n",
       "    .dataframe thead th {\n",
       "        text-align: right;\n",
       "    }\n",
       "</style>\n",
       "<table border=\"1\" class=\"dataframe\">\n",
       "  <thead>\n",
       "    <tr style=\"text-align: right;\">\n",
       "      <th>odor</th>\n",
       "      <th>a</th>\n",
       "      <th>c</th>\n",
       "      <th>f</th>\n",
       "      <th>l</th>\n",
       "      <th>m</th>\n",
       "      <th>n</th>\n",
       "      <th>p</th>\n",
       "      <th>s</th>\n",
       "      <th>y</th>\n",
       "    </tr>\n",
       "    <tr>\n",
       "      <th>class</th>\n",
       "      <th></th>\n",
       "      <th></th>\n",
       "      <th></th>\n",
       "      <th></th>\n",
       "      <th></th>\n",
       "      <th></th>\n",
       "      <th></th>\n",
       "      <th></th>\n",
       "      <th></th>\n",
       "    </tr>\n",
       "  </thead>\n",
       "  <tbody>\n",
       "    <tr>\n",
       "      <th>e</th>\n",
       "      <td>400.0</td>\n",
       "      <td>0.0</td>\n",
       "      <td>0.0</td>\n",
       "      <td>400.0</td>\n",
       "      <td>0.0</td>\n",
       "      <td>3408.0</td>\n",
       "      <td>0.0</td>\n",
       "      <td>0.0</td>\n",
       "      <td>0.0</td>\n",
       "    </tr>\n",
       "    <tr>\n",
       "      <th>p</th>\n",
       "      <td>0.0</td>\n",
       "      <td>192.0</td>\n",
       "      <td>2160.0</td>\n",
       "      <td>0.0</td>\n",
       "      <td>36.0</td>\n",
       "      <td>120.0</td>\n",
       "      <td>256.0</td>\n",
       "      <td>576.0</td>\n",
       "      <td>576.0</td>\n",
       "    </tr>\n",
       "  </tbody>\n",
       "</table>\n",
       "</div>"
      ],
      "text/plain": [
       "odor       a      c       f      l     m       n      p      s      y\n",
       "class                                                                \n",
       "e      400.0    0.0     0.0  400.0   0.0  3408.0    0.0    0.0    0.0\n",
       "p        0.0  192.0  2160.0    0.0  36.0   120.0  256.0  576.0  576.0"
      ]
     },
     "metadata": {},
     "output_type": "display_data"
    },
    {
     "data": {
      "text/plain": [
       "<matplotlib.axes._subplots.AxesSubplot at 0x7f35a8849e80>"
      ]
     },
     "execution_count": 13,
     "metadata": {},
     "output_type": "execute_result"
    },
    {
     "data": {
      "image/png": "[encoded data removed]",
      "text/plain": [
       "<Figure size 432x288 with 1 Axes>"
      ]
     },
     "metadata": {
      "needs_background": "light"
     },
     "output_type": "display_data"
    }
   ],
   "source": [
    "odor = df.groupby('class')['odor'].value_counts().unstack().fillna(0)\n",
    "display(odor)\n",
    "odor.plot.barh()"
   ]
  },
  {
   "cell_type": "code",
   "execution_count": 20,
   "metadata": {},
   "outputs": [
    {
     "data": {
      "text/html": [
       "<div>\n",
       "<style scoped>\n",
       "    .dataframe tbody tr th:only-of-type {\n",
       "        vertical-align: middle;\n",
       "    }\n",
       "\n",
       "    .dataframe tbody tr th {\n",
       "        vertical-align: top;\n",
       "    }\n",
       "\n",
       "    .dataframe thead th {\n",
       "        text-align: right;\n",
       "    }\n",
       "</style>\n",
       "<table border=\"1\" class=\"dataframe\">\n",
       "  <thead>\n",
       "    <tr style=\"text-align: right;\">\n",
       "      <th>gill-attachment</th>\n",
       "      <th>a</th>\n",
       "      <th>f</th>\n",
       "    </tr>\n",
       "    <tr>\n",
       "      <th>class</th>\n",
       "      <th></th>\n",
       "      <th></th>\n",
       "    </tr>\n",
       "  </thead>\n",
       "  <tbody>\n",
       "    <tr>\n",
       "      <th>e</th>\n",
       "      <td>192</td>\n",
       "      <td>4016</td>\n",
       "    </tr>\n",
       "    <tr>\n",
       "      <th>p</th>\n",
       "      <td>18</td>\n",
       "      <td>3898</td>\n",
       "    </tr>\n",
       "  </tbody>\n",
       "</table>\n",
       "</div>"
      ],
      "text/plain": [
       "gill-attachment    a     f\n",
       "class                     \n",
       "e                192  4016\n",
       "p                 18  3898"
      ]
     },
     "metadata": {},
     "output_type": "display_data"
    },
    {
     "data": {
      "text/plain": [
       "<matplotlib.axes._subplots.AxesSubplot at 0x7fdebd7a4748>"
      ]
     },
     "execution_count": 20,
     "metadata": {},
     "output_type": "execute_result"
    },
    {
     "data": {
      "image/png": "[encoded data removed]",
      "text/plain": [
       "<Figure size 432x288 with 1 Axes>"
      ]
     },
     "metadata": {},
     "output_type": "display_data"
    }
   ],
   "source": [
    "gillAttachment = df.groupby('class')['gill-attachment'].value_counts().unstack().fillna(0)\n",
    "display(gillAttachment)\n",
    "gillAttachment.plot.barh()"
   ]
  },
  {
   "cell_type": "code",
   "execution_count": 4,
   "metadata": {},
   "outputs": [
    {
     "data": {
      "text/html": [
       "<div>\n",
       "<style scoped>\n",
       "    .dataframe tbody tr th:only-of-type {\n",
       "        vertical-align: middle;\n",
       "    }\n",
       "\n",
       "    .dataframe tbody tr th {\n",
       "        vertical-align: top;\n",
       "    }\n",
       "\n",
       "    .dataframe thead th {\n",
       "        text-align: right;\n",
       "    }\n",
       "</style>\n",
       "<table border=\"1\" class=\"dataframe\">\n",
       "  <thead>\n",
       "    <tr style=\"text-align: right;\">\n",
       "      <th>gill-spacing</th>\n",
       "      <th>c</th>\n",
       "      <th>w</th>\n",
       "    </tr>\n",
       "    <tr>\n",
       "      <th>class</th>\n",
       "      <th></th>\n",
       "      <th></th>\n",
       "    </tr>\n",
       "  </thead>\n",
       "  <tbody>\n",
       "    <tr>\n",
       "      <th>e</th>\n",
       "      <td>3008</td>\n",
       "      <td>1200</td>\n",
       "    </tr>\n",
       "    <tr>\n",
       "      <th>p</th>\n",
       "      <td>3804</td>\n",
       "      <td>112</td>\n",
       "    </tr>\n",
       "  </tbody>\n",
       "</table>\n",
       "</div>"
      ],
      "text/plain": [
       "gill-spacing     c     w\n",
       "class                   \n",
       "e             3008  1200\n",
       "p             3804   112"
      ]
     },
     "metadata": {},
     "output_type": "display_data"
    },
    {
     "data": {
      "text/plain": [
       "<matplotlib.axes._subplots.AxesSubplot at 0x7fdebdcd6630>"
      ]
     },
     "execution_count": 4,
     "metadata": {},
     "output_type": "execute_result"
    },
    {
     "data": {
      "image/png": "[encoded data removed]",
      "text/plain": [
       "<Figure size 432x288 with 1 Axes>"
      ]
     },
     "metadata": {},
     "output_type": "display_data"
    }
   ],
   "source": [
    "gillSpacing = df.groupby('class')['gill-spacing'].value_counts().unstack().fillna(0)\n",
    "display(gillSpacing)\n",
    "gillSpacing.plot.barh()"
   ]
  },
  {
   "cell_type": "code",
   "execution_count": 5,
   "metadata": {},
   "outputs": [
    {
     "data": {
      "text/html": [
       "<div>\n",
       "<style scoped>\n",
       "    .dataframe tbody tr th:only-of-type {\n",
       "        vertical-align: middle;\n",
       "    }\n",
       "\n",
       "    .dataframe tbody tr th {\n",
       "        vertical-align: top;\n",
       "    }\n",
       "\n",
       "    .dataframe thead th {\n",
       "        text-align: right;\n",
       "    }\n",
       "</style>\n",
       "<table border=\"1\" class=\"dataframe\">\n",
       "  <thead>\n",
       "    <tr style=\"text-align: right;\">\n",
       "      <th>gill-size</th>\n",
       "      <th>b</th>\n",
       "      <th>n</th>\n",
       "    </tr>\n",
       "    <tr>\n",
       "      <th>class</th>\n",
       "      <th></th>\n",
       "      <th></th>\n",
       "    </tr>\n",
       "  </thead>\n",
       "  <tbody>\n",
       "    <tr>\n",
       "      <th>e</th>\n",
       "      <td>3920</td>\n",
       "      <td>288</td>\n",
       "    </tr>\n",
       "    <tr>\n",
       "      <th>p</th>\n",
       "      <td>1692</td>\n",
       "      <td>2224</td>\n",
       "    </tr>\n",
       "  </tbody>\n",
       "</table>\n",
       "</div>"
      ],
      "text/plain": [
       "gill-size     b     n\n",
       "class                \n",
       "e          3920   288\n",
       "p          1692  2224"
      ]
     },
     "metadata": {},
     "output_type": "display_data"
    },
    {
     "data": {
      "text/plain": [
       "<matplotlib.axes._subplots.AxesSubplot at 0x7fdebdc9d438>"
      ]
     },
     "execution_count": 5,
     "metadata": {},
     "output_type": "execute_result"
    },
    {
     "data": {
      "image/png": "[encoded data removed]",
      "text/plain": [
       "<Figure size 432x288 with 1 Axes>"
      ]
     },
     "metadata": {},
     "output_type": "display_data"
    }
   ],
   "source": [
    "gillSize = df.groupby('class')['gill-size'].value_counts().unstack().fillna(0)\n",
    "display(gillSize)\n",
    "gillSize.plot.barh()"
   ]
  },
  {
   "cell_type": "code",
   "execution_count": 6,
   "metadata": {},
   "outputs": [
    {
     "data": {
      "text/html": [
       "<div>\n",
       "<style scoped>\n",
       "    .dataframe tbody tr th:only-of-type {\n",
       "        vertical-align: middle;\n",
       "    }\n",
       "\n",
       "    .dataframe tbody tr th {\n",
       "        vertical-align: top;\n",
       "    }\n",
       "\n",
       "    .dataframe thead th {\n",
       "        text-align: right;\n",
       "    }\n",
       "</style>\n",
       "<table border=\"1\" class=\"dataframe\">\n",
       "  <thead>\n",
       "    <tr style=\"text-align: right;\">\n",
       "      <th>gill-color</th>\n",
       "      <th>b</th>\n",
       "      <th>e</th>\n",
       "      <th>g</th>\n",
       "      <th>h</th>\n",
       "      <th>k</th>\n",
       "      <th>n</th>\n",
       "      <th>o</th>\n",
       "      <th>p</th>\n",
       "      <th>r</th>\n",
       "      <th>u</th>\n",
       "      <th>w</th>\n",
       "      <th>y</th>\n",
       "    </tr>\n",
       "    <tr>\n",
       "      <th>class</th>\n",
       "      <th></th>\n",
       "      <th></th>\n",
       "      <th></th>\n",
       "      <th></th>\n",
       "      <th></th>\n",
       "      <th></th>\n",
       "      <th></th>\n",
       "      <th></th>\n",
       "      <th></th>\n",
       "      <th></th>\n",
       "      <th></th>\n",
       "      <th></th>\n",
       "    </tr>\n",
       "  </thead>\n",
       "  <tbody>\n",
       "    <tr>\n",
       "      <th>e</th>\n",
       "      <td>0.0</td>\n",
       "      <td>96.0</td>\n",
       "      <td>248.0</td>\n",
       "      <td>204.0</td>\n",
       "      <td>344.0</td>\n",
       "      <td>936.0</td>\n",
       "      <td>64.0</td>\n",
       "      <td>852.0</td>\n",
       "      <td>0.0</td>\n",
       "      <td>444.0</td>\n",
       "      <td>956.0</td>\n",
       "      <td>64.0</td>\n",
       "    </tr>\n",
       "    <tr>\n",
       "      <th>p</th>\n",
       "      <td>1728.0</td>\n",
       "      <td>0.0</td>\n",
       "      <td>504.0</td>\n",
       "      <td>528.0</td>\n",
       "      <td>64.0</td>\n",
       "      <td>112.0</td>\n",
       "      <td>0.0</td>\n",
       "      <td>640.0</td>\n",
       "      <td>24.0</td>\n",
       "      <td>48.0</td>\n",
       "      <td>246.0</td>\n",
       "      <td>22.0</td>\n",
       "    </tr>\n",
       "  </tbody>\n",
       "</table>\n",
       "</div>"
      ],
      "text/plain": [
       "gill-color       b     e      g      h      k      n     o      p     r  \\\n",
       "class                                                                     \n",
       "e              0.0  96.0  248.0  204.0  344.0  936.0  64.0  852.0   0.0   \n",
       "p           1728.0   0.0  504.0  528.0   64.0  112.0   0.0  640.0  24.0   \n",
       "\n",
       "gill-color      u      w     y  \n",
       "class                           \n",
       "e           444.0  956.0  64.0  \n",
       "p            48.0  246.0  22.0  "
      ]
     },
     "metadata": {},
     "output_type": "display_data"
    },
    {
     "data": {
      "text/plain": [
       "<matplotlib.axes._subplots.AxesSubplot at 0x7fdebdc60ac8>"
      ]
     },
     "execution_count": 6,
     "metadata": {},
     "output_type": "execute_result"
    },
    {
     "data": {
      "image/png": "[encoded data removed]",
      "text/plain": [
       "<Figure size 432x288 with 1 Axes>"
      ]
     },
     "metadata": {},
     "output_type": "display_data"
    }
   ],
   "source": [
    "gillColor = df.groupby('class')['gill-color'].value_counts().unstack().fillna(0)\n",
    "display(gillColor)\n",
    "gillColor.plot.barh()"
   ]
  },
  {
   "cell_type": "code",
   "execution_count": 7,
   "metadata": {},
   "outputs": [
    {
     "data": {
      "text/html": [
       "<div>\n",
       "<style scoped>\n",
       "    .dataframe tbody tr th:only-of-type {\n",
       "        vertical-align: middle;\n",
       "    }\n",
       "\n",
       "    .dataframe tbody tr th {\n",
       "        vertical-align: top;\n",
       "    }\n",
       "\n",
       "    .dataframe thead th {\n",
       "        text-align: right;\n",
       "    }\n",
       "</style>\n",
       "<table border=\"1\" class=\"dataframe\">\n",
       "  <thead>\n",
       "    <tr style=\"text-align: right;\">\n",
       "      <th>stalk-shape</th>\n",
       "      <th>e</th>\n",
       "      <th>t</th>\n",
       "    </tr>\n",
       "    <tr>\n",
       "      <th>class</th>\n",
       "      <th></th>\n",
       "      <th></th>\n",
       "    </tr>\n",
       "  </thead>\n",
       "  <tbody>\n",
       "    <tr>\n",
       "      <th>e</th>\n",
       "      <td>1616</td>\n",
       "      <td>2592</td>\n",
       "    </tr>\n",
       "    <tr>\n",
       "      <th>p</th>\n",
       "      <td>1900</td>\n",
       "      <td>2016</td>\n",
       "    </tr>\n",
       "  </tbody>\n",
       "</table>\n",
       "</div>"
      ],
      "text/plain": [
       "stalk-shape     e     t\n",
       "class                  \n",
       "e            1616  2592\n",
       "p            1900  2016"
      ]
     },
     "metadata": {},
     "output_type": "display_data"
    },
    {
     "data": {
      "text/plain": [
       "<matplotlib.axes._subplots.AxesSubplot at 0x7fdebdbd26d8>"
      ]
     },
     "execution_count": 7,
     "metadata": {},
     "output_type": "execute_result"
    },
    {
     "data": {
      "image/png": "[encoded data removed]",
      "text/plain": [
       "<Figure size 432x288 with 1 Axes>"
      ]
     },
     "metadata": {},
     "output_type": "display_data"
    }
   ],
   "source": [
    "stalkShape = df.groupby('class')['stalk-shape'].value_counts().unstack().fillna(0)\n",
    "display(stalkShape)\n",
    "stalkShape.plot.barh()"
   ]
  },
  {
   "cell_type": "code",
   "execution_count": 8,
   "metadata": {},
   "outputs": [
    {
     "data": {
      "text/html": [
       "<div>\n",
       "<style scoped>\n",
       "    .dataframe tbody tr th:only-of-type {\n",
       "        vertical-align: middle;\n",
       "    }\n",
       "\n",
       "    .dataframe tbody tr th {\n",
       "        vertical-align: top;\n",
       "    }\n",
       "\n",
       "    .dataframe thead th {\n",
       "        text-align: right;\n",
       "    }\n",
       "</style>\n",
       "<table border=\"1\" class=\"dataframe\">\n",
       "  <thead>\n",
       "    <tr style=\"text-align: right;\">\n",
       "      <th>stalk-root</th>\n",
       "      <th>?</th>\n",
       "      <th>b</th>\n",
       "      <th>c</th>\n",
       "      <th>e</th>\n",
       "      <th>r</th>\n",
       "    </tr>\n",
       "    <tr>\n",
       "      <th>class</th>\n",
       "      <th></th>\n",
       "      <th></th>\n",
       "      <th></th>\n",
       "      <th></th>\n",
       "      <th></th>\n",
       "    </tr>\n",
       "  </thead>\n",
       "  <tbody>\n",
       "    <tr>\n",
       "      <th>e</th>\n",
       "      <td>720.0</td>\n",
       "      <td>1920.0</td>\n",
       "      <td>512.0</td>\n",
       "      <td>864.0</td>\n",
       "      <td>192.0</td>\n",
       "    </tr>\n",
       "    <tr>\n",
       "      <th>p</th>\n",
       "      <td>1760.0</td>\n",
       "      <td>1856.0</td>\n",
       "      <td>44.0</td>\n",
       "      <td>256.0</td>\n",
       "      <td>0.0</td>\n",
       "    </tr>\n",
       "  </tbody>\n",
       "</table>\n",
       "</div>"
      ],
      "text/plain": [
       "stalk-root       ?       b      c      e      r\n",
       "class                                          \n",
       "e            720.0  1920.0  512.0  864.0  192.0\n",
       "p           1760.0  1856.0   44.0  256.0    0.0"
      ]
     },
     "metadata": {},
     "output_type": "display_data"
    },
    {
     "data": {
      "text/plain": [
       "<matplotlib.axes._subplots.AxesSubplot at 0x7fdebdba1780>"
      ]
     },
     "execution_count": 8,
     "metadata": {},
     "output_type": "execute_result"
    },
    {
     "data": {
      "image/png": "[encoded data removed]",
      "text/plain": [
       "<Figure size 432x288 with 1 Axes>"
      ]
     },
     "metadata": {},
     "output_type": "display_data"
    }
   ],
   "source": [
    "stalkRoot = df.groupby('class')['stalk-root'].value_counts().unstack().fillna(0)\n",
    "display(stalkRoot)\n",
    "stalkRoot.plot.barh()"
   ]
  },
  {
   "cell_type": "code",
   "execution_count": 9,
   "metadata": {},
   "outputs": [
    {
     "data": {
      "text/html": [
       "<div>\n",
       "<style scoped>\n",
       "    .dataframe tbody tr th:only-of-type {\n",
       "        vertical-align: middle;\n",
       "    }\n",
       "\n",
       "    .dataframe tbody tr th {\n",
       "        vertical-align: top;\n",
       "    }\n",
       "\n",
       "    .dataframe thead th {\n",
       "        text-align: right;\n",
       "    }\n",
       "</style>\n",
       "<table border=\"1\" class=\"dataframe\">\n",
       "  <thead>\n",
       "    <tr style=\"text-align: right;\">\n",
       "      <th>stalk-surface-above-ring</th>\n",
       "      <th>f</th>\n",
       "      <th>k</th>\n",
       "      <th>s</th>\n",
       "      <th>y</th>\n",
       "    </tr>\n",
       "    <tr>\n",
       "      <th>class</th>\n",
       "      <th></th>\n",
       "      <th></th>\n",
       "      <th></th>\n",
       "      <th></th>\n",
       "    </tr>\n",
       "  </thead>\n",
       "  <tbody>\n",
       "    <tr>\n",
       "      <th>e</th>\n",
       "      <td>408</td>\n",
       "      <td>144</td>\n",
       "      <td>3640</td>\n",
       "      <td>16</td>\n",
       "    </tr>\n",
       "    <tr>\n",
       "      <th>p</th>\n",
       "      <td>144</td>\n",
       "      <td>2228</td>\n",
       "      <td>1536</td>\n",
       "      <td>8</td>\n",
       "    </tr>\n",
       "  </tbody>\n",
       "</table>\n",
       "</div>"
      ],
      "text/plain": [
       "stalk-surface-above-ring    f     k     s   y\n",
       "class                                        \n",
       "e                         408   144  3640  16\n",
       "p                         144  2228  1536   8"
      ]
     },
     "metadata": {},
     "output_type": "display_data"
    },
    {
     "data": {
      "text/plain": [
       "<matplotlib.axes._subplots.AxesSubplot at 0x7fdebdb6c860>"
      ]
     },
     "execution_count": 9,
     "metadata": {},
     "output_type": "execute_result"
    },
    {
     "data": {
      "image/png": "[encoded data removed]",
      "text/plain": [
       "<Figure size 432x288 with 1 Axes>"
      ]
     },
     "metadata": {},
     "output_type": "display_data"
    }
   ],
   "source": [
    "stalkSurface_above = df.groupby('class')['stalk-surface-above-ring'].value_counts().unstack().fillna(0)\n",
    "display(stalkSurface_above)\n",
    "stalkSurface_above.plot.barh()"
   ]
  },
  {
   "cell_type": "code",
   "execution_count": 10,
   "metadata": {},
   "outputs": [
    {
     "data": {
      "text/html": [
       "<div>\n",
       "<style scoped>\n",
       "    .dataframe tbody tr th:only-of-type {\n",
       "        vertical-align: middle;\n",
       "    }\n",
       "\n",
       "    .dataframe tbody tr th {\n",
       "        vertical-align: top;\n",
       "    }\n",
       "\n",
       "    .dataframe thead th {\n",
       "        text-align: right;\n",
       "    }\n",
       "</style>\n",
       "<table border=\"1\" class=\"dataframe\">\n",
       "  <thead>\n",
       "    <tr style=\"text-align: right;\">\n",
       "      <th>stalk-surface-below-ring</th>\n",
       "      <th>f</th>\n",
       "      <th>k</th>\n",
       "      <th>s</th>\n",
       "      <th>y</th>\n",
       "    </tr>\n",
       "    <tr>\n",
       "      <th>class</th>\n",
       "      <th></th>\n",
       "      <th></th>\n",
       "      <th></th>\n",
       "      <th></th>\n",
       "    </tr>\n",
       "  </thead>\n",
       "  <tbody>\n",
       "    <tr>\n",
       "      <th>e</th>\n",
       "      <td>456</td>\n",
       "      <td>144</td>\n",
       "      <td>3400</td>\n",
       "      <td>208</td>\n",
       "    </tr>\n",
       "    <tr>\n",
       "      <th>p</th>\n",
       "      <td>144</td>\n",
       "      <td>2160</td>\n",
       "      <td>1536</td>\n",
       "      <td>76</td>\n",
       "    </tr>\n",
       "  </tbody>\n",
       "</table>\n",
       "</div>"
      ],
      "text/plain": [
       "stalk-surface-below-ring    f     k     s    y\n",
       "class                                         \n",
       "e                         456   144  3400  208\n",
       "p                         144  2160  1536   76"
      ]
     },
     "metadata": {},
     "output_type": "display_data"
    },
    {
     "data": {
      "text/plain": [
       "<matplotlib.axes._subplots.AxesSubplot at 0x7fdebdb3d390>"
      ]
     },
     "execution_count": 10,
     "metadata": {},
     "output_type": "execute_result"
    },
    {
     "data": {
      "image/png": "[encoded data removed]",
      "text/plain": [
       "<Figure size 432x288 with 1 Axes>"
      ]
     },
     "metadata": {},
     "output_type": "display_data"
    }
   ],
   "source": [
    "stalkSurface_below = df.groupby('class')['stalk-surface-below-ring'].value_counts().unstack().fillna(0)\n",
    "display(stalkSurface_below)\n",
    "stalkSurface_below.plot.barh()"
   ]
  },
  {
   "cell_type": "code",
   "execution_count": 11,
   "metadata": {},
   "outputs": [
    {
     "data": {
      "text/html": [
       "<div>\n",
       "<style scoped>\n",
       "    .dataframe tbody tr th:only-of-type {\n",
       "        vertical-align: middle;\n",
       "    }\n",
       "\n",
       "    .dataframe tbody tr th {\n",
       "        vertical-align: top;\n",
       "    }\n",
       "\n",
       "    .dataframe thead th {\n",
       "        text-align: right;\n",
       "    }\n",
       "</style>\n",
       "<table border=\"1\" class=\"dataframe\">\n",
       "  <thead>\n",
       "    <tr style=\"text-align: right;\">\n",
       "      <th>stalk-color-above-ring</th>\n",
       "      <th>b</th>\n",
       "      <th>c</th>\n",
       "      <th>e</th>\n",
       "      <th>g</th>\n",
       "      <th>n</th>\n",
       "      <th>o</th>\n",
       "      <th>p</th>\n",
       "      <th>w</th>\n",
       "      <th>y</th>\n",
       "    </tr>\n",
       "    <tr>\n",
       "      <th>class</th>\n",
       "      <th></th>\n",
       "      <th></th>\n",
       "      <th></th>\n",
       "      <th></th>\n",
       "      <th></th>\n",
       "      <th></th>\n",
       "      <th></th>\n",
       "      <th></th>\n",
       "      <th></th>\n",
       "    </tr>\n",
       "  </thead>\n",
       "  <tbody>\n",
       "    <tr>\n",
       "      <th>e</th>\n",
       "      <td>0.0</td>\n",
       "      <td>0.0</td>\n",
       "      <td>96.0</td>\n",
       "      <td>576.0</td>\n",
       "      <td>16.0</td>\n",
       "      <td>192.0</td>\n",
       "      <td>576.0</td>\n",
       "      <td>2752.0</td>\n",
       "      <td>0.0</td>\n",
       "    </tr>\n",
       "    <tr>\n",
       "      <th>p</th>\n",
       "      <td>432.0</td>\n",
       "      <td>36.0</td>\n",
       "      <td>0.0</td>\n",
       "      <td>0.0</td>\n",
       "      <td>432.0</td>\n",
       "      <td>0.0</td>\n",
       "      <td>1296.0</td>\n",
       "      <td>1712.0</td>\n",
       "      <td>8.0</td>\n",
       "    </tr>\n",
       "  </tbody>\n",
       "</table>\n",
       "</div>"
      ],
      "text/plain": [
       "stalk-color-above-ring      b     c     e      g      n      o       p  \\\n",
       "class                                                                    \n",
       "e                         0.0   0.0  96.0  576.0   16.0  192.0   576.0   \n",
       "p                       432.0  36.0   0.0    0.0  432.0    0.0  1296.0   \n",
       "\n",
       "stalk-color-above-ring       w    y  \n",
       "class                                \n",
       "e                       2752.0  0.0  \n",
       "p                       1712.0  8.0  "
      ]
     },
     "metadata": {},
     "output_type": "display_data"
    },
    {
     "data": {
      "text/plain": [
       "<matplotlib.axes._subplots.AxesSubplot at 0x7fdebda8d550>"
      ]
     },
     "execution_count": 11,
     "metadata": {},
     "output_type": "execute_result"
    },
    {
     "data": {
      "image/png": "[encoded data removed]",
      "text/plain": [
       "<Figure size 432x288 with 1 Axes>"
      ]
     },
     "metadata": {},
     "output_type": "display_data"
    }
   ],
   "source": [
    "stalkColor_above = df.groupby('class')['stalk-color-above-ring'].value_counts().unstack().fillna(0)\n",
    "display(stalkColor_above)\n",
    "stalkColor_above.plot.barh()"
   ]
  },
  {
   "cell_type": "code",
   "execution_count": 12,
   "metadata": {},
   "outputs": [
    {
     "data": {
      "text/html": [
       "<div>\n",
       "<style scoped>\n",
       "    .dataframe tbody tr th:only-of-type {\n",
       "        vertical-align: middle;\n",
       "    }\n",
       "\n",
       "    .dataframe tbody tr th {\n",
       "        vertical-align: top;\n",
       "    }\n",
       "\n",
       "    .dataframe thead th {\n",
       "        text-align: right;\n",
       "    }\n",
       "</style>\n",
       "<table border=\"1\" class=\"dataframe\">\n",
       "  <thead>\n",
       "    <tr style=\"text-align: right;\">\n",
       "      <th>stalk-color-below-ring</th>\n",
       "      <th>b</th>\n",
       "      <th>c</th>\n",
       "      <th>e</th>\n",
       "      <th>g</th>\n",
       "      <th>n</th>\n",
       "      <th>o</th>\n",
       "      <th>p</th>\n",
       "      <th>w</th>\n",
       "      <th>y</th>\n",
       "    </tr>\n",
       "    <tr>\n",
       "      <th>class</th>\n",
       "      <th></th>\n",
       "      <th></th>\n",
       "      <th></th>\n",
       "      <th></th>\n",
       "      <th></th>\n",
       "      <th></th>\n",
       "      <th></th>\n",
       "      <th></th>\n",
       "      <th></th>\n",
       "    </tr>\n",
       "  </thead>\n",
       "  <tbody>\n",
       "    <tr>\n",
       "      <th>e</th>\n",
       "      <td>0.0</td>\n",
       "      <td>0.0</td>\n",
       "      <td>96.0</td>\n",
       "      <td>576.0</td>\n",
       "      <td>64.0</td>\n",
       "      <td>192.0</td>\n",
       "      <td>576.0</td>\n",
       "      <td>2704.0</td>\n",
       "      <td>0.0</td>\n",
       "    </tr>\n",
       "    <tr>\n",
       "      <th>p</th>\n",
       "      <td>432.0</td>\n",
       "      <td>36.0</td>\n",
       "      <td>0.0</td>\n",
       "      <td>0.0</td>\n",
       "      <td>448.0</td>\n",
       "      <td>0.0</td>\n",
       "      <td>1296.0</td>\n",
       "      <td>1680.0</td>\n",
       "      <td>24.0</td>\n",
       "    </tr>\n",
       "  </tbody>\n",
       "</table>\n",
       "</div>"
      ],
      "text/plain": [
       "stalk-color-below-ring      b     c     e      g      n      o       p  \\\n",
       "class                                                                    \n",
       "e                         0.0   0.0  96.0  576.0   64.0  192.0   576.0   \n",
       "p                       432.0  36.0   0.0    0.0  448.0    0.0  1296.0   \n",
       "\n",
       "stalk-color-below-ring       w     y  \n",
       "class                                 \n",
       "e                       2704.0   0.0  \n",
       "p                       1680.0  24.0  "
      ]
     },
     "metadata": {},
     "output_type": "display_data"
    },
    {
     "data": {
      "text/plain": [
       "<matplotlib.axes._subplots.AxesSubplot at 0x7fdebdb147b8>"
      ]
     },
     "execution_count": 12,
     "metadata": {},
     "output_type": "execute_result"
    },
    {
     "data": {
      "image/png": "[encoded data removed]",
      "text/plain": [
       "<Figure size 432x288 with 1 Axes>"
      ]
     },
     "metadata": {},
     "output_type": "display_data"
    }
   ],
   "source": [
    "stalkColor_below = df.groupby('class')['stalk-color-below-ring'].value_counts().unstack().fillna(0)\n",
    "display(stalkColor_below)\n",
    "stalkColor_below.plot.barh()"
   ]
  },
  {
   "cell_type": "code",
   "execution_count": 13,
   "metadata": {},
   "outputs": [
    {
     "data": {
      "text/html": [
       "<div>\n",
       "<style scoped>\n",
       "    .dataframe tbody tr th:only-of-type {\n",
       "        vertical-align: middle;\n",
       "    }\n",
       "\n",
       "    .dataframe tbody tr th {\n",
       "        vertical-align: top;\n",
       "    }\n",
       "\n",
       "    .dataframe thead th {\n",
       "        text-align: right;\n",
       "    }\n",
       "</style>\n",
       "<table border=\"1\" class=\"dataframe\">\n",
       "  <thead>\n",
       "    <tr style=\"text-align: right;\">\n",
       "      <th>veil-type</th>\n",
       "      <th>p</th>\n",
       "    </tr>\n",
       "    <tr>\n",
       "      <th>class</th>\n",
       "      <th></th>\n",
       "    </tr>\n",
       "  </thead>\n",
       "  <tbody>\n",
       "    <tr>\n",
       "      <th>e</th>\n",
       "      <td>4208</td>\n",
       "    </tr>\n",
       "    <tr>\n",
       "      <th>p</th>\n",
       "      <td>3916</td>\n",
       "    </tr>\n",
       "  </tbody>\n",
       "</table>\n",
       "</div>"
      ],
      "text/plain": [
       "veil-type     p\n",
       "class          \n",
       "e          4208\n",
       "p          3916"
      ]
     },
     "metadata": {},
     "output_type": "display_data"
    },
    {
     "data": {
      "text/plain": [
       "<matplotlib.axes._subplots.AxesSubplot at 0x7fdebd9d1ac8>"
      ]
     },
     "execution_count": 13,
     "metadata": {},
     "output_type": "execute_result"
    },
    {
     "data": {
      "image/png": "[encoded data removed]",
      "text/plain": [
       "<Figure size 432x288 with 1 Axes>"
      ]
     },
     "metadata": {},
     "output_type": "display_data"
    }
   ],
   "source": [
    "veilType = df.groupby('class')['veil-type'].value_counts().unstack().fillna(0)\n",
    "display(veilType)\n",
    "veilType.plot.barh()"
   ]
  },
  {
   "cell_type": "code",
   "execution_count": 14,
   "metadata": {},
   "outputs": [
    {
     "data": {
      "text/html": [
       "<div>\n",
       "<style scoped>\n",
       "    .dataframe tbody tr th:only-of-type {\n",
       "        vertical-align: middle;\n",
       "    }\n",
       "\n",
       "    .dataframe tbody tr th {\n",
       "        vertical-align: top;\n",
       "    }\n",
       "\n",
       "    .dataframe thead th {\n",
       "        text-align: right;\n",
       "    }\n",
       "</style>\n",
       "<table border=\"1\" class=\"dataframe\">\n",
       "  <thead>\n",
       "    <tr style=\"text-align: right;\">\n",
       "      <th>veil-color</th>\n",
       "      <th>n</th>\n",
       "      <th>o</th>\n",
       "      <th>w</th>\n",
       "      <th>y</th>\n",
       "    </tr>\n",
       "    <tr>\n",
       "      <th>class</th>\n",
       "      <th></th>\n",
       "      <th></th>\n",
       "      <th></th>\n",
       "      <th></th>\n",
       "    </tr>\n",
       "  </thead>\n",
       "  <tbody>\n",
       "    <tr>\n",
       "      <th>e</th>\n",
       "      <td>96.0</td>\n",
       "      <td>96.0</td>\n",
       "      <td>4016.0</td>\n",
       "      <td>0.0</td>\n",
       "    </tr>\n",
       "    <tr>\n",
       "      <th>p</th>\n",
       "      <td>0.0</td>\n",
       "      <td>0.0</td>\n",
       "      <td>3908.0</td>\n",
       "      <td>8.0</td>\n",
       "    </tr>\n",
       "  </tbody>\n",
       "</table>\n",
       "</div>"
      ],
      "text/plain": [
       "veil-color     n     o       w    y\n",
       "class                              \n",
       "e           96.0  96.0  4016.0  0.0\n",
       "p            0.0   0.0  3908.0  8.0"
      ]
     },
     "metadata": {},
     "output_type": "display_data"
    },
    {
     "data": {
      "text/plain": [
       "<matplotlib.axes._subplots.AxesSubplot at 0x7fdebd99e5f8>"
      ]
     },
     "execution_count": 14,
     "metadata": {},
     "output_type": "execute_result"
    },
    {
     "data": {
      "image/png": "[encoded data removed]",
      "text/plain": [
       "<Figure size 432x288 with 1 Axes>"
      ]
     },
     "metadata": {},
     "output_type": "display_data"
    }
   ],
   "source": [
    "veilColor = df.groupby('class')['veil-color'].value_counts().unstack().fillna(0)\n",
    "display(veilColor)\n",
    "veilColor.plot.barh()"
   ]
  },
  {
   "cell_type": "code",
   "execution_count": 15,
   "metadata": {},
   "outputs": [
    {
     "data": {
      "text/html": [
       "<div>\n",
       "<style scoped>\n",
       "    .dataframe tbody tr th:only-of-type {\n",
       "        vertical-align: middle;\n",
       "    }\n",
       "\n",
       "    .dataframe tbody tr th {\n",
       "        vertical-align: top;\n",
       "    }\n",
       "\n",
       "    .dataframe thead th {\n",
       "        text-align: right;\n",
       "    }\n",
       "</style>\n",
       "<table border=\"1\" class=\"dataframe\">\n",
       "  <thead>\n",
       "    <tr style=\"text-align: right;\">\n",
       "      <th>ring-number</th>\n",
       "      <th>n</th>\n",
       "      <th>o</th>\n",
       "      <th>t</th>\n",
       "    </tr>\n",
       "    <tr>\n",
       "      <th>class</th>\n",
       "      <th></th>\n",
       "      <th></th>\n",
       "      <th></th>\n",
       "    </tr>\n",
       "  </thead>\n",
       "  <tbody>\n",
       "    <tr>\n",
       "      <th>e</th>\n",
       "      <td>0.0</td>\n",
       "      <td>3680.0</td>\n",
       "      <td>528.0</td>\n",
       "    </tr>\n",
       "    <tr>\n",
       "      <th>p</th>\n",
       "      <td>36.0</td>\n",
       "      <td>3808.0</td>\n",
       "      <td>72.0</td>\n",
       "    </tr>\n",
       "  </tbody>\n",
       "</table>\n",
       "</div>"
      ],
      "text/plain": [
       "ring-number     n       o      t\n",
       "class                           \n",
       "e             0.0  3680.0  528.0\n",
       "p            36.0  3808.0   72.0"
      ]
     },
     "metadata": {},
     "output_type": "display_data"
    },
    {
     "data": {
      "text/plain": [
       "<matplotlib.axes._subplots.AxesSubplot at 0x7fdebd96b320>"
      ]
     },
     "execution_count": 15,
     "metadata": {},
     "output_type": "execute_result"
    },
    {
     "data": {
      "image/png": "[encoded data removed]",
      "text/plain": [
       "<Figure size 432x288 with 1 Axes>"
      ]
     },
     "metadata": {},
     "output_type": "display_data"
    }
   ],
   "source": [
    "ringNumber = df.groupby('class')['ring-number'].value_counts().unstack().fillna(0)\n",
    "display(ringNumber)\n",
    "ringNumber.plot.barh()"
   ]
  },
  {
   "cell_type": "code",
   "execution_count": 16,
   "metadata": {},
   "outputs": [
    {
     "data": {
      "text/html": [
       "<div>\n",
       "<style scoped>\n",
       "    .dataframe tbody tr th:only-of-type {\n",
       "        vertical-align: middle;\n",
       "    }\n",
       "\n",
       "    .dataframe tbody tr th {\n",
       "        vertical-align: top;\n",
       "    }\n",
       "\n",
       "    .dataframe thead th {\n",
       "        text-align: right;\n",
       "    }\n",
       "</style>\n",
       "<table border=\"1\" class=\"dataframe\">\n",
       "  <thead>\n",
       "    <tr style=\"text-align: right;\">\n",
       "      <th>ring-type</th>\n",
       "      <th>e</th>\n",
       "      <th>f</th>\n",
       "      <th>l</th>\n",
       "      <th>n</th>\n",
       "      <th>p</th>\n",
       "    </tr>\n",
       "    <tr>\n",
       "      <th>class</th>\n",
       "      <th></th>\n",
       "      <th></th>\n",
       "      <th></th>\n",
       "      <th></th>\n",
       "      <th></th>\n",
       "    </tr>\n",
       "  </thead>\n",
       "  <tbody>\n",
       "    <tr>\n",
       "      <th>e</th>\n",
       "      <td>1008.0</td>\n",
       "      <td>48.0</td>\n",
       "      <td>0.0</td>\n",
       "      <td>0.0</td>\n",
       "      <td>3152.0</td>\n",
       "    </tr>\n",
       "    <tr>\n",
       "      <th>p</th>\n",
       "      <td>1768.0</td>\n",
       "      <td>0.0</td>\n",
       "      <td>1296.0</td>\n",
       "      <td>36.0</td>\n",
       "      <td>816.0</td>\n",
       "    </tr>\n",
       "  </tbody>\n",
       "</table>\n",
       "</div>"
      ],
      "text/plain": [
       "ring-type       e     f       l     n       p\n",
       "class                                        \n",
       "e          1008.0  48.0     0.0   0.0  3152.0\n",
       "p          1768.0   0.0  1296.0  36.0   816.0"
      ]
     },
     "metadata": {},
     "output_type": "display_data"
    },
    {
     "data": {
      "text/plain": [
       "<matplotlib.axes._subplots.AxesSubplot at 0x7fdebd937c50>"
      ]
     },
     "execution_count": 16,
     "metadata": {},
     "output_type": "execute_result"
    },
    {
     "data": {
      "image/png": "[encoded data removed]",
      "text/plain": [
       "<Figure size 432x288 with 1 Axes>"
      ]
     },
     "metadata": {},
     "output_type": "display_data"
    }
   ],
   "source": [
    "ringType = df.groupby('class')['ring-type'].value_counts().unstack().fillna(0)\n",
    "display(ringType)\n",
    "ringType.plot.barh()"
   ]
  },
  {
   "cell_type": "code",
   "execution_count": 17,
   "metadata": {},
   "outputs": [
    {
     "data": {
      "text/html": [
       "<div>\n",
       "<style scoped>\n",
       "    .dataframe tbody tr th:only-of-type {\n",
       "        vertical-align: middle;\n",
       "    }\n",
       "\n",
       "    .dataframe tbody tr th {\n",
       "        vertical-align: top;\n",
       "    }\n",
       "\n",
       "    .dataframe thead th {\n",
       "        text-align: right;\n",
       "    }\n",
       "</style>\n",
       "<table border=\"1\" class=\"dataframe\">\n",
       "  <thead>\n",
       "    <tr style=\"text-align: right;\">\n",
       "      <th>spore-print-color</th>\n",
       "      <th>b</th>\n",
       "      <th>h</th>\n",
       "      <th>k</th>\n",
       "      <th>n</th>\n",
       "      <th>o</th>\n",
       "      <th>r</th>\n",
       "      <th>u</th>\n",
       "      <th>w</th>\n",
       "      <th>y</th>\n",
       "    </tr>\n",
       "    <tr>\n",
       "      <th>class</th>\n",
       "      <th></th>\n",
       "      <th></th>\n",
       "      <th></th>\n",
       "      <th></th>\n",
       "      <th></th>\n",
       "      <th></th>\n",
       "      <th></th>\n",
       "      <th></th>\n",
       "      <th></th>\n",
       "    </tr>\n",
       "  </thead>\n",
       "  <tbody>\n",
       "    <tr>\n",
       "      <th>e</th>\n",
       "      <td>48.0</td>\n",
       "      <td>48.0</td>\n",
       "      <td>1648.0</td>\n",
       "      <td>1744.0</td>\n",
       "      <td>48.0</td>\n",
       "      <td>0.0</td>\n",
       "      <td>48.0</td>\n",
       "      <td>576.0</td>\n",
       "      <td>48.0</td>\n",
       "    </tr>\n",
       "    <tr>\n",
       "      <th>p</th>\n",
       "      <td>0.0</td>\n",
       "      <td>1584.0</td>\n",
       "      <td>224.0</td>\n",
       "      <td>224.0</td>\n",
       "      <td>0.0</td>\n",
       "      <td>72.0</td>\n",
       "      <td>0.0</td>\n",
       "      <td>1812.0</td>\n",
       "      <td>0.0</td>\n",
       "    </tr>\n",
       "  </tbody>\n",
       "</table>\n",
       "</div>"
      ],
      "text/plain": [
       "spore-print-color     b       h       k       n     o     r     u       w  \\\n",
       "class                                                                       \n",
       "e                  48.0    48.0  1648.0  1744.0  48.0   0.0  48.0   576.0   \n",
       "p                   0.0  1584.0   224.0   224.0   0.0  72.0   0.0  1812.0   \n",
       "\n",
       "spore-print-color     y  \n",
       "class                    \n",
       "e                  48.0  \n",
       "p                   0.0  "
      ]
     },
     "metadata": {},
     "output_type": "display_data"
    },
    {
     "data": {
      "text/plain": [
       "<matplotlib.axes._subplots.AxesSubplot at 0x7fdebd886b38>"
      ]
     },
     "execution_count": 17,
     "metadata": {},
     "output_type": "execute_result"
    },
    {
     "data": {
      "image/png": "[encoded data removed]",
      "text/plain": [
       "<Figure size 432x288 with 1 Axes>"
      ]
     },
     "metadata": {},
     "output_type": "display_data"
    }
   ],
   "source": [
    "sporePrint_color = df.groupby('class')['spore-print-color'].value_counts().unstack().fillna(0)\n",
    "display(sporePrint_color)\n",
    "sporePrint_color.plot.barh()"
   ]
  },
  {
   "cell_type": "code",
   "execution_count": 18,
   "metadata": {},
   "outputs": [
    {
     "data": {
      "text/html": [
       "<div>\n",
       "<style scoped>\n",
       "    .dataframe tbody tr th:only-of-type {\n",
       "        vertical-align: middle;\n",
       "    }\n",
       "\n",
       "    .dataframe tbody tr th {\n",
       "        vertical-align: top;\n",
       "    }\n",
       "\n",
       "    .dataframe thead th {\n",
       "        text-align: right;\n",
       "    }\n",
       "</style>\n",
       "<table border=\"1\" class=\"dataframe\">\n",
       "  <thead>\n",
       "    <tr style=\"text-align: right;\">\n",
       "      <th>population</th>\n",
       "      <th>a</th>\n",
       "      <th>c</th>\n",
       "      <th>n</th>\n",
       "      <th>s</th>\n",
       "      <th>v</th>\n",
       "      <th>y</th>\n",
       "    </tr>\n",
       "    <tr>\n",
       "      <th>class</th>\n",
       "      <th></th>\n",
       "      <th></th>\n",
       "      <th></th>\n",
       "      <th></th>\n",
       "      <th></th>\n",
       "      <th></th>\n",
       "    </tr>\n",
       "  </thead>\n",
       "  <tbody>\n",
       "    <tr>\n",
       "      <th>e</th>\n",
       "      <td>384.0</td>\n",
       "      <td>288.0</td>\n",
       "      <td>400.0</td>\n",
       "      <td>880.0</td>\n",
       "      <td>1192.0</td>\n",
       "      <td>1064.0</td>\n",
       "    </tr>\n",
       "    <tr>\n",
       "      <th>p</th>\n",
       "      <td>0.0</td>\n",
       "      <td>52.0</td>\n",
       "      <td>0.0</td>\n",
       "      <td>368.0</td>\n",
       "      <td>2848.0</td>\n",
       "      <td>648.0</td>\n",
       "    </tr>\n",
       "  </tbody>\n",
       "</table>\n",
       "</div>"
      ],
      "text/plain": [
       "population      a      c      n      s       v       y\n",
       "class                                                 \n",
       "e           384.0  288.0  400.0  880.0  1192.0  1064.0\n",
       "p             0.0   52.0    0.0  368.0  2848.0   648.0"
      ]
     },
     "metadata": {},
     "output_type": "display_data"
    },
    {
     "data": {
      "text/plain": [
       "<matplotlib.axes._subplots.AxesSubplot at 0x7fdebd861be0>"
      ]
     },
     "execution_count": 18,
     "metadata": {},
     "output_type": "execute_result"
    },
    {
     "data": {
      "image/png": "[encoded data removed]",
      "text/plain": [
       "<Figure size 432x288 with 1 Axes>"
      ]
     },
     "metadata": {},
     "output_type": "display_data"
    }
   ],
   "source": [
    "population = df.groupby('class')['population'].value_counts().unstack().fillna(0)\n",
    "display(population)\n",
    "population.plot.barh()"
   ]
  },
  {
   "cell_type": "code",
   "execution_count": 19,
   "metadata": {},
   "outputs": [
    {
     "data": {
      "text/html": [
       "<div>\n",
       "<style scoped>\n",
       "    .dataframe tbody tr th:only-of-type {\n",
       "        vertical-align: middle;\n",
       "    }\n",
       "\n",
       "    .dataframe tbody tr th {\n",
       "        vertical-align: top;\n",
       "    }\n",
       "\n",
       "    .dataframe thead th {\n",
       "        text-align: right;\n",
       "    }\n",
       "</style>\n",
       "<table border=\"1\" class=\"dataframe\">\n",
       "  <thead>\n",
       "    <tr style=\"text-align: right;\">\n",
       "      <th>habitat</th>\n",
       "      <th>d</th>\n",
       "      <th>g</th>\n",
       "      <th>l</th>\n",
       "      <th>m</th>\n",
       "      <th>p</th>\n",
       "      <th>u</th>\n",
       "      <th>w</th>\n",
       "    </tr>\n",
       "    <tr>\n",
       "      <th>class</th>\n",
       "      <th></th>\n",
       "      <th></th>\n",
       "      <th></th>\n",
       "      <th></th>\n",
       "      <th></th>\n",
       "      <th></th>\n",
       "      <th></th>\n",
       "    </tr>\n",
       "  </thead>\n",
       "  <tbody>\n",
       "    <tr>\n",
       "      <th>e</th>\n",
       "      <td>1880.0</td>\n",
       "      <td>1408.0</td>\n",
       "      <td>240.0</td>\n",
       "      <td>256.0</td>\n",
       "      <td>136.0</td>\n",
       "      <td>96.0</td>\n",
       "      <td>192.0</td>\n",
       "    </tr>\n",
       "    <tr>\n",
       "      <th>p</th>\n",
       "      <td>1268.0</td>\n",
       "      <td>740.0</td>\n",
       "      <td>592.0</td>\n",
       "      <td>36.0</td>\n",
       "      <td>1008.0</td>\n",
       "      <td>272.0</td>\n",
       "      <td>0.0</td>\n",
       "    </tr>\n",
       "  </tbody>\n",
       "</table>\n",
       "</div>"
      ],
      "text/plain": [
       "habitat       d       g      l      m       p      u      w\n",
       "class                                                      \n",
       "e        1880.0  1408.0  240.0  256.0   136.0   96.0  192.0\n",
       "p        1268.0   740.0  592.0   36.0  1008.0  272.0    0.0"
      ]
     },
     "metadata": {},
     "output_type": "display_data"
    },
    {
     "data": {
      "text/plain": [
       "<matplotlib.axes._subplots.AxesSubplot at 0x7fdebd83e278>"
      ]
     },
     "execution_count": 19,
     "metadata": {},
     "output_type": "execute_result"
    },
    {
     "data": {
      "image/png": "[encoded data removed]",
      "text/plain": [
       "<Figure size 432x288 with 1 Axes>"
      ]
     },
     "metadata": {},
     "output_type": "display_data"
    }
   ],
   "source": [
    "habitat = df.groupby('class')['habitat'].value_counts().unstack().fillna(0)\n",
    "display(habitat)\n",
    "habitat.plot.barh()"
   ]
  },
  {
   "cell_type": "markdown",
   "metadata": {},
   "source": [
    "<font color='MediumVioletRed'>\n",
    "Odor so far is the most interesting as the categories are either 100% edible or 100% poisonous. This will be interesting to see how it plays out when we build the classifier. We will also drop the veil type as it has only one category across all instances in this dataset, so it is not useful in predcting class."
   ]
  },
  {
   "cell_type": "code",
   "execution_count": 193,
   "metadata": {},
   "outputs": [],
   "source": [
    "df.drop(columns=['veil-type'], inplace=True)"
   ]
  },
  {
   "cell_type": "markdown",
   "metadata": {},
   "source": [
    "<font color='MediumVioletRed'>\n",
    "\n",
    "#### Correlation Tests"
   ]
  },
  {
   "cell_type": "code",
   "execution_count": 28,
   "metadata": {},
   "outputs": [],
   "source": [
    "#encode all column features into array\n",
    "df_enc = pd.get_dummies(df)"
   ]
  },
  {
   "cell_type": "code",
   "execution_count": 29,
   "metadata": {
    "scrolled": true
   },
   "outputs": [
    {
     "data": {
      "text/html": [
       "<div>\n",
       "<style scoped>\n",
       "    .dataframe tbody tr th:only-of-type {\n",
       "        vertical-align: middle;\n",
       "    }\n",
       "\n",
       "    .dataframe tbody tr th {\n",
       "        vertical-align: top;\n",
       "    }\n",
       "\n",
       "    .dataframe thead th {\n",
       "        text-align: right;\n",
       "    }\n",
       "</style>\n",
       "<table border=\"1\" class=\"dataframe\">\n",
       "  <thead>\n",
       "    <tr style=\"text-align: right;\">\n",
       "      <th></th>\n",
       "      <th>class_e</th>\n",
       "      <th>class_p</th>\n",
       "      <th>cap-shape_b</th>\n",
       "      <th>cap-shape_c</th>\n",
       "      <th>cap-shape_f</th>\n",
       "      <th>cap-shape_k</th>\n",
       "      <th>cap-shape_s</th>\n",
       "      <th>cap-shape_x</th>\n",
       "      <th>cap-surface_f</th>\n",
       "      <th>cap-surface_g</th>\n",
       "      <th>...</th>\n",
       "      <th>population_s</th>\n",
       "      <th>population_v</th>\n",
       "      <th>population_y</th>\n",
       "      <th>habitat_d</th>\n",
       "      <th>habitat_g</th>\n",
       "      <th>habitat_l</th>\n",
       "      <th>habitat_m</th>\n",
       "      <th>habitat_p</th>\n",
       "      <th>habitat_u</th>\n",
       "      <th>habitat_w</th>\n",
       "    </tr>\n",
       "  </thead>\n",
       "  <tbody>\n",
       "    <tr>\n",
       "      <th>class_e</th>\n",
       "      <td>1.000000</td>\n",
       "      <td>-1.000000</td>\n",
       "      <td>0.182567</td>\n",
       "      <td>-0.023007</td>\n",
       "      <td>-0.018526</td>\n",
       "      <td>-0.163565</td>\n",
       "      <td>0.060664</td>\n",
       "      <td>0.026886</td>\n",
       "      <td>0.195415</td>\n",
       "      <td>-0.023007</td>\n",
       "      <td>...</td>\n",
       "      <td>0.159572</td>\n",
       "      <td>-0.443722</td>\n",
       "      <td>0.107055</td>\n",
       "      <td>0.126123</td>\n",
       "      <td>0.165004</td>\n",
       "      <td>-0.155150</td>\n",
       "      <td>0.138627</td>\n",
       "      <td>-0.323346</td>\n",
       "      <td>-0.112078</td>\n",
       "      <td>0.150087</td>\n",
       "    </tr>\n",
       "    <tr>\n",
       "      <th>class_p</th>\n",
       "      <td>-1.000000</td>\n",
       "      <td>1.000000</td>\n",
       "      <td>-0.182567</td>\n",
       "      <td>0.023007</td>\n",
       "      <td>0.018526</td>\n",
       "      <td>0.163565</td>\n",
       "      <td>-0.060664</td>\n",
       "      <td>-0.026886</td>\n",
       "      <td>-0.195415</td>\n",
       "      <td>0.023007</td>\n",
       "      <td>...</td>\n",
       "      <td>-0.159572</td>\n",
       "      <td>0.443722</td>\n",
       "      <td>-0.107055</td>\n",
       "      <td>-0.126123</td>\n",
       "      <td>-0.165004</td>\n",
       "      <td>0.155150</td>\n",
       "      <td>-0.138627</td>\n",
       "      <td>0.323346</td>\n",
       "      <td>0.112078</td>\n",
       "      <td>-0.150087</td>\n",
       "    </tr>\n",
       "    <tr>\n",
       "      <th>cap-shape_b</th>\n",
       "      <td>0.182567</td>\n",
       "      <td>-0.182567</td>\n",
       "      <td>1.000000</td>\n",
       "      <td>-0.005387</td>\n",
       "      <td>-0.193260</td>\n",
       "      <td>-0.081769</td>\n",
       "      <td>-0.015264</td>\n",
       "      <td>-0.219564</td>\n",
       "      <td>-0.091638</td>\n",
       "      <td>0.018820</td>\n",
       "      <td>...</td>\n",
       "      <td>0.158702</td>\n",
       "      <td>-0.168381</td>\n",
       "      <td>-0.120154</td>\n",
       "      <td>-0.182037</td>\n",
       "      <td>0.149151</td>\n",
       "      <td>0.010113</td>\n",
       "      <td>0.374316</td>\n",
       "      <td>-0.095178</td>\n",
       "      <td>-0.052871</td>\n",
       "      <td>-0.037764</td>\n",
       "    </tr>\n",
       "    <tr>\n",
       "      <th>cap-shape_c</th>\n",
       "      <td>-0.023007</td>\n",
       "      <td>0.023007</td>\n",
       "      <td>-0.005387</td>\n",
       "      <td>1.000000</td>\n",
       "      <td>-0.017672</td>\n",
       "      <td>-0.007477</td>\n",
       "      <td>-0.001396</td>\n",
       "      <td>-0.020077</td>\n",
       "      <td>-0.014032</td>\n",
       "      <td>0.249631</td>\n",
       "      <td>...</td>\n",
       "      <td>-0.009456</td>\n",
       "      <td>-0.022075</td>\n",
       "      <td>-0.011469</td>\n",
       "      <td>-0.017653</td>\n",
       "      <td>-0.013306</td>\n",
       "      <td>0.065707</td>\n",
       "      <td>-0.004286</td>\n",
       "      <td>-0.008985</td>\n",
       "      <td>-0.004835</td>\n",
       "      <td>-0.003453</td>\n",
       "    </tr>\n",
       "    <tr>\n",
       "      <th>cap-shape_f</th>\n",
       "      <td>-0.018526</td>\n",
       "      <td>0.018526</td>\n",
       "      <td>-0.193260</td>\n",
       "      <td>-0.017672</td>\n",
       "      <td>1.000000</td>\n",
       "      <td>-0.268226</td>\n",
       "      <td>-0.050070</td>\n",
       "      <td>-0.720235</td>\n",
       "      <td>0.064801</td>\n",
       "      <td>-0.006285</td>\n",
       "      <td>...</td>\n",
       "      <td>-0.075804</td>\n",
       "      <td>0.034625</td>\n",
       "      <td>0.111346</td>\n",
       "      <td>0.074986</td>\n",
       "      <td>-0.017982</td>\n",
       "      <td>-0.052326</td>\n",
       "      <td>-0.129312</td>\n",
       "      <td>0.021891</td>\n",
       "      <td>0.030636</td>\n",
       "      <td>-0.017450</td>\n",
       "    </tr>\n",
       "    <tr>\n",
       "      <th>cap-shape_k</th>\n",
       "      <td>-0.163565</td>\n",
       "      <td>0.163565</td>\n",
       "      <td>-0.081769</td>\n",
       "      <td>-0.007477</td>\n",
       "      <td>-0.268226</td>\n",
       "      <td>1.000000</td>\n",
       "      <td>-0.021185</td>\n",
       "      <td>-0.304733</td>\n",
       "      <td>-0.158942</td>\n",
       "      <td>0.010863</td>\n",
       "      <td>...</td>\n",
       "      <td>-0.089360</td>\n",
       "      <td>0.172707</td>\n",
       "      <td>-0.170081</td>\n",
       "      <td>-0.089230</td>\n",
       "      <td>-0.113404</td>\n",
       "      <td>0.235108</td>\n",
       "      <td>-0.065047</td>\n",
       "      <td>0.090538</td>\n",
       "      <td>-0.073380</td>\n",
       "      <td>0.119003</td>\n",
       "    </tr>\n",
       "    <tr>\n",
       "      <th>cap-shape_s</th>\n",
       "      <td>0.060664</td>\n",
       "      <td>-0.060664</td>\n",
       "      <td>-0.015264</td>\n",
       "      <td>-0.001396</td>\n",
       "      <td>-0.050070</td>\n",
       "      <td>-0.021185</td>\n",
       "      <td>1.000000</td>\n",
       "      <td>-0.056884</td>\n",
       "      <td>0.099464</td>\n",
       "      <td>-0.001396</td>\n",
       "      <td>...</td>\n",
       "      <td>-0.026791</td>\n",
       "      <td>0.000341</td>\n",
       "      <td>0.044603</td>\n",
       "      <td>-0.050018</td>\n",
       "      <td>-0.037702</td>\n",
       "      <td>-0.021242</td>\n",
       "      <td>-0.012142</td>\n",
       "      <td>-0.025458</td>\n",
       "      <td>0.288697</td>\n",
       "      <td>-0.009784</td>\n",
       "    </tr>\n",
       "    <tr>\n",
       "      <th>cap-shape_x</th>\n",
       "      <td>0.026886</td>\n",
       "      <td>-0.026886</td>\n",
       "      <td>-0.219564</td>\n",
       "      <td>-0.020077</td>\n",
       "      <td>-0.720235</td>\n",
       "      <td>-0.304733</td>\n",
       "      <td>-0.056884</td>\n",
       "      <td>1.000000</td>\n",
       "      <td>0.063511</td>\n",
       "      <td>-0.020077</td>\n",
       "      <td>...</td>\n",
       "      <td>0.059264</td>\n",
       "      <td>-0.060421</td>\n",
       "      <td>0.044626</td>\n",
       "      <td>0.071773</td>\n",
       "      <td>0.023197</td>\n",
       "      <td>-0.096639</td>\n",
       "      <td>-0.004529</td>\n",
       "      <td>-0.029042</td>\n",
       "      <td>0.002845</td>\n",
       "      <td>-0.036493</td>\n",
       "    </tr>\n",
       "    <tr>\n",
       "      <th>cap-surface_f</th>\n",
       "      <td>0.195415</td>\n",
       "      <td>-0.195415</td>\n",
       "      <td>-0.091638</td>\n",
       "      <td>-0.014032</td>\n",
       "      <td>0.064801</td>\n",
       "      <td>-0.158942</td>\n",
       "      <td>0.099464</td>\n",
       "      <td>0.063511</td>\n",
       "      <td>1.000000</td>\n",
       "      <td>-0.014032</td>\n",
       "      <td>...</td>\n",
       "      <td>-0.033553</td>\n",
       "      <td>-0.116485</td>\n",
       "      <td>0.210552</td>\n",
       "      <td>0.190756</td>\n",
       "      <td>0.080694</td>\n",
       "      <td>-0.191987</td>\n",
       "      <td>-0.122077</td>\n",
       "      <td>-0.086727</td>\n",
       "      <td>-0.011913</td>\n",
       "      <td>-0.098365</td>\n",
       "    </tr>\n",
       "    <tr>\n",
       "      <th>cap-surface_g</th>\n",
       "      <td>-0.023007</td>\n",
       "      <td>0.023007</td>\n",
       "      <td>0.018820</td>\n",
       "      <td>0.249631</td>\n",
       "      <td>-0.006285</td>\n",
       "      <td>0.010863</td>\n",
       "      <td>-0.001396</td>\n",
       "      <td>-0.020077</td>\n",
       "      <td>-0.014032</td>\n",
       "      <td>1.000000</td>\n",
       "      <td>...</td>\n",
       "      <td>-0.009456</td>\n",
       "      <td>-0.022075</td>\n",
       "      <td>-0.011469</td>\n",
       "      <td>-0.017653</td>\n",
       "      <td>-0.013306</td>\n",
       "      <td>0.065707</td>\n",
       "      <td>-0.004286</td>\n",
       "      <td>-0.008985</td>\n",
       "      <td>-0.004835</td>\n",
       "      <td>-0.003453</td>\n",
       "    </tr>\n",
       "    <tr>\n",
       "      <th>cap-surface_s</th>\n",
       "      <td>-0.095454</td>\n",
       "      <td>0.095454</td>\n",
       "      <td>0.117712</td>\n",
       "      <td>-0.015038</td>\n",
       "      <td>-0.093397</td>\n",
       "      <td>0.137988</td>\n",
       "      <td>-0.042607</td>\n",
       "      <td>-0.040634</td>\n",
       "      <td>-0.428362</td>\n",
       "      <td>-0.015038</td>\n",
       "      <td>...</td>\n",
       "      <td>0.187716</td>\n",
       "      <td>0.019574</td>\n",
       "      <td>-0.339696</td>\n",
       "      <td>-0.301670</td>\n",
       "      <td>0.123932</td>\n",
       "      <td>0.190799</td>\n",
       "      <td>0.077081</td>\n",
       "      <td>-0.039574</td>\n",
       "      <td>0.117548</td>\n",
       "      <td>0.062109</td>\n",
       "    </tr>\n",
       "    <tr>\n",
       "      <th>cap-surface_y</th>\n",
       "      <td>-0.088677</td>\n",
       "      <td>0.088677</td>\n",
       "      <td>-0.027947</td>\n",
       "      <td>0.015893</td>\n",
       "      <td>0.029076</td>\n",
       "      <td>0.015261</td>\n",
       "      <td>-0.051272</td>\n",
       "      <td>-0.019137</td>\n",
       "      <td>-0.515479</td>\n",
       "      <td>-0.018096</td>\n",
       "      <td>...</td>\n",
       "      <td>-0.146611</td>\n",
       "      <td>0.089870</td>\n",
       "      <td>0.128418</td>\n",
       "      <td>0.110902</td>\n",
       "      <td>-0.191326</td>\n",
       "      <td>-0.006819</td>\n",
       "      <td>0.039697</td>\n",
       "      <td>0.117915</td>\n",
       "      <td>-0.100248</td>\n",
       "      <td>0.031986</td>\n",
       "    </tr>\n",
       "    <tr>\n",
       "      <th>cap-color_b</th>\n",
       "      <td>-0.067544</td>\n",
       "      <td>0.067544</td>\n",
       "      <td>0.010011</td>\n",
       "      <td>-0.003225</td>\n",
       "      <td>0.019203</td>\n",
       "      <td>-0.003209</td>\n",
       "      <td>-0.009138</td>\n",
       "      <td>-0.020175</td>\n",
       "      <td>-0.091873</td>\n",
       "      <td>-0.003225</td>\n",
       "      <td>...</td>\n",
       "      <td>0.053234</td>\n",
       "      <td>-0.019972</td>\n",
       "      <td>-0.075087</td>\n",
       "      <td>-0.115580</td>\n",
       "      <td>0.030558</td>\n",
       "      <td>-0.049085</td>\n",
       "      <td>0.027701</td>\n",
       "      <td>-0.058829</td>\n",
       "      <td>0.167996</td>\n",
       "      <td>0.250709</td>\n",
       "    </tr>\n",
       "    <tr>\n",
       "      <th>cap-color_c</th>\n",
       "      <td>0.030910</td>\n",
       "      <td>-0.030910</td>\n",
       "      <td>-0.017912</td>\n",
       "      <td>-0.001638</td>\n",
       "      <td>-0.003687</td>\n",
       "      <td>0.041662</td>\n",
       "      <td>-0.004641</td>\n",
       "      <td>-0.012814</td>\n",
       "      <td>-0.002099</td>\n",
       "      <td>-0.001638</td>\n",
       "      <td>...</td>\n",
       "      <td>-0.031438</td>\n",
       "      <td>0.020526</td>\n",
       "      <td>-0.021681</td>\n",
       "      <td>-0.017384</td>\n",
       "      <td>-0.044242</td>\n",
       "      <td>0.107833</td>\n",
       "      <td>-0.014249</td>\n",
       "      <td>0.008698</td>\n",
       "      <td>-0.016074</td>\n",
       "      <td>-0.011481</td>\n",
       "    </tr>\n",
       "    <tr>\n",
       "      <th>cap-color_e</th>\n",
       "      <td>-0.097112</td>\n",
       "      <td>0.097112</td>\n",
       "      <td>-0.115505</td>\n",
       "      <td>-0.010562</td>\n",
       "      <td>0.009128</td>\n",
       "      <td>0.162657</td>\n",
       "      <td>-0.029925</td>\n",
       "      <td>-0.050400</td>\n",
       "      <td>-0.098583</td>\n",
       "      <td>-0.010562</td>\n",
       "      <td>...</td>\n",
       "      <td>-0.202733</td>\n",
       "      <td>0.257646</td>\n",
       "      <td>-0.021859</td>\n",
       "      <td>0.191944</td>\n",
       "      <td>-0.285297</td>\n",
       "      <td>0.140610</td>\n",
       "      <td>-0.091884</td>\n",
       "      <td>0.070022</td>\n",
       "      <td>-0.103655</td>\n",
       "      <td>0.026209</td>\n",
       "    </tr>\n",
       "    <tr>\n",
       "      <th>cap-color_g</th>\n",
       "      <td>0.046456</td>\n",
       "      <td>-0.046456</td>\n",
       "      <td>-0.069760</td>\n",
       "      <td>-0.012010</td>\n",
       "      <td>0.056794</td>\n",
       "      <td>-0.135632</td>\n",
       "      <td>0.041093</td>\n",
       "      <td>0.054357</td>\n",
       "      <td>0.238650</td>\n",
       "      <td>-0.012010</td>\n",
       "      <td>...</td>\n",
       "      <td>-0.002168</td>\n",
       "      <td>-0.114705</td>\n",
       "      <td>0.181897</td>\n",
       "      <td>0.086329</td>\n",
       "      <td>0.118364</td>\n",
       "      <td>-0.182780</td>\n",
       "      <td>-0.104483</td>\n",
       "      <td>-0.029680</td>\n",
       "      <td>0.017892</td>\n",
       "      <td>-0.084188</td>\n",
       "    </tr>\n",
       "    <tr>\n",
       "      <th>cap-color_n</th>\n",
       "      <td>0.044360</td>\n",
       "      <td>-0.044360</td>\n",
       "      <td>-0.084902</td>\n",
       "      <td>-0.013880</td>\n",
       "      <td>0.019014</td>\n",
       "      <td>0.125992</td>\n",
       "      <td>0.030614</td>\n",
       "      <td>-0.059361</td>\n",
       "      <td>-0.101991</td>\n",
       "      <td>-0.013880</td>\n",
       "      <td>...</td>\n",
       "      <td>-0.084185</td>\n",
       "      <td>0.133721</td>\n",
       "      <td>-0.068021</td>\n",
       "      <td>0.008410</td>\n",
       "      <td>-0.146457</td>\n",
       "      <td>0.243915</td>\n",
       "      <td>-0.120753</td>\n",
       "      <td>0.023909</td>\n",
       "      <td>0.011244</td>\n",
       "      <td>-0.010778</td>\n",
       "    </tr>\n",
       "    <tr>\n",
       "      <th>cap-color_p</th>\n",
       "      <td>-0.034702</td>\n",
       "      <td>0.034702</td>\n",
       "      <td>0.016231</td>\n",
       "      <td>-0.002981</td>\n",
       "      <td>-0.045696</td>\n",
       "      <td>0.004081</td>\n",
       "      <td>-0.008447</td>\n",
       "      <td>0.035996</td>\n",
       "      <td>-0.018841</td>\n",
       "      <td>-0.002981</td>\n",
       "      <td>...</td>\n",
       "      <td>0.025558</td>\n",
       "      <td>-0.021661</td>\n",
       "      <td>-0.060263</td>\n",
       "      <td>0.015703</td>\n",
       "      <td>-0.055153</td>\n",
       "      <td>-0.045375</td>\n",
       "      <td>0.034199</td>\n",
       "      <td>-0.032928</td>\n",
       "      <td>-0.029261</td>\n",
       "      <td>0.273873</td>\n",
       "    </tr>\n",
       "    <tr>\n",
       "      <th>cap-color_r</th>\n",
       "      <td>0.042854</td>\n",
       "      <td>-0.042854</td>\n",
       "      <td>-0.010782</td>\n",
       "      <td>-0.000986</td>\n",
       "      <td>0.010211</td>\n",
       "      <td>-0.014965</td>\n",
       "      <td>-0.002794</td>\n",
       "      <td>0.004462</td>\n",
       "      <td>-0.028086</td>\n",
       "      <td>-0.000986</td>\n",
       "      <td>...</td>\n",
       "      <td>-0.018925</td>\n",
       "      <td>0.000241</td>\n",
       "      <td>0.031508</td>\n",
       "      <td>0.055850</td>\n",
       "      <td>-0.026633</td>\n",
       "      <td>-0.015005</td>\n",
       "      <td>-0.008577</td>\n",
       "      <td>-0.017984</td>\n",
       "      <td>-0.009676</td>\n",
       "      <td>-0.006911</td>\n",
       "    </tr>\n",
       "    <tr>\n",
       "      <th>cap-color_u</th>\n",
       "      <td>0.042854</td>\n",
       "      <td>-0.042854</td>\n",
       "      <td>-0.010782</td>\n",
       "      <td>-0.000986</td>\n",
       "      <td>0.010211</td>\n",
       "      <td>-0.014965</td>\n",
       "      <td>-0.002794</td>\n",
       "      <td>0.004462</td>\n",
       "      <td>-0.028086</td>\n",
       "      <td>-0.000986</td>\n",
       "      <td>...</td>\n",
       "      <td>-0.018925</td>\n",
       "      <td>0.000241</td>\n",
       "      <td>0.031508</td>\n",
       "      <td>0.055850</td>\n",
       "      <td>-0.026633</td>\n",
       "      <td>-0.015005</td>\n",
       "      <td>-0.008577</td>\n",
       "      <td>-0.017984</td>\n",
       "      <td>-0.009676</td>\n",
       "      <td>-0.006911</td>\n",
       "    </tr>\n",
       "    <tr>\n",
       "      <th>cap-color_w</th>\n",
       "      <td>0.133683</td>\n",
       "      <td>-0.133683</td>\n",
       "      <td>0.212380</td>\n",
       "      <td>0.024711</td>\n",
       "      <td>-0.088841</td>\n",
       "      <td>-0.068190</td>\n",
       "      <td>-0.024095</td>\n",
       "      <td>0.032565</td>\n",
       "      <td>-0.033439</td>\n",
       "      <td>0.057926</td>\n",
       "      <td>...</td>\n",
       "      <td>0.319023</td>\n",
       "      <td>-0.216033</td>\n",
       "      <td>-0.190758</td>\n",
       "      <td>-0.207960</td>\n",
       "      <td>0.314962</td>\n",
       "      <td>-0.119703</td>\n",
       "      <td>0.203103</td>\n",
       "      <td>-0.155118</td>\n",
       "      <td>0.114961</td>\n",
       "      <td>-0.059612</td>\n",
       "    </tr>\n",
       "    <tr>\n",
       "      <th>cap-color_y</th>\n",
       "      <td>-0.113014</td>\n",
       "      <td>0.113014</td>\n",
       "      <td>0.117981</td>\n",
       "      <td>0.024136</td>\n",
       "      <td>-0.010390</td>\n",
       "      <td>-0.124132</td>\n",
       "      <td>-0.024518</td>\n",
       "      <td>0.033317</td>\n",
       "      <td>0.040152</td>\n",
       "      <td>-0.008654</td>\n",
       "      <td>...</td>\n",
       "      <td>0.011418</td>\n",
       "      <td>-0.105546</td>\n",
       "      <td>0.130286</td>\n",
       "      <td>-0.101078</td>\n",
       "      <td>0.089530</td>\n",
       "      <td>-0.122101</td>\n",
       "      <td>0.174808</td>\n",
       "      <td>0.118201</td>\n",
       "      <td>-0.084927</td>\n",
       "      <td>-0.060660</td>\n",
       "    </tr>\n",
       "    <tr>\n",
       "      <th>bruises?_f</th>\n",
       "      <td>-0.501530</td>\n",
       "      <td>0.501530</td>\n",
       "      <td>-0.115686</td>\n",
       "      <td>-0.003803</td>\n",
       "      <td>-0.045188</td>\n",
       "      <td>0.229578</td>\n",
       "      <td>0.053026</td>\n",
       "      <td>-0.048557</td>\n",
       "      <td>0.028808</td>\n",
       "      <td>-0.026321</td>\n",
       "      <td>...</td>\n",
       "      <td>-0.072997</td>\n",
       "      <td>0.179268</td>\n",
       "      <td>-0.162030</td>\n",
       "      <td>-0.264457</td>\n",
       "      <td>0.131746</td>\n",
       "      <td>0.278238</td>\n",
       "      <td>-0.228986</td>\n",
       "      <td>0.249460</td>\n",
       "      <td>-0.143017</td>\n",
       "      <td>-0.184507</td>\n",
       "    </tr>\n",
       "    <tr>\n",
       "      <th>bruises?_t</th>\n",
       "      <td>0.501530</td>\n",
       "      <td>-0.501530</td>\n",
       "      <td>0.115686</td>\n",
       "      <td>0.003803</td>\n",
       "      <td>0.045188</td>\n",
       "      <td>-0.229578</td>\n",
       "      <td>-0.053026</td>\n",
       "      <td>0.048557</td>\n",
       "      <td>-0.028808</td>\n",
       "      <td>0.026321</td>\n",
       "      <td>...</td>\n",
       "      <td>0.072997</td>\n",
       "      <td>-0.179268</td>\n",
       "      <td>0.162030</td>\n",
       "      <td>0.264457</td>\n",
       "      <td>-0.131746</td>\n",
       "      <td>-0.278238</td>\n",
       "      <td>0.228986</td>\n",
       "      <td>-0.249460</td>\n",
       "      <td>0.143017</td>\n",
       "      <td>0.184507</td>\n",
       "    </tr>\n",
       "    <tr>\n",
       "      <th>odor_a</th>\n",
       "      <td>0.219529</td>\n",
       "      <td>-0.219529</td>\n",
       "      <td>0.262455</td>\n",
       "      <td>-0.005051</td>\n",
       "      <td>-0.097130</td>\n",
       "      <td>-0.076662</td>\n",
       "      <td>-0.014311</td>\n",
       "      <td>0.022860</td>\n",
       "      <td>-0.113647</td>\n",
       "      <td>-0.005051</td>\n",
       "      <td>...</td>\n",
       "      <td>0.180737</td>\n",
       "      <td>-0.171721</td>\n",
       "      <td>-0.050629</td>\n",
       "      <td>-0.124950</td>\n",
       "      <td>0.090610</td>\n",
       "      <td>-0.076868</td>\n",
       "      <td>0.347262</td>\n",
       "      <td>-0.013620</td>\n",
       "      <td>-0.049569</td>\n",
       "      <td>-0.035405</td>\n",
       "    </tr>\n",
       "    <tr>\n",
       "      <th>odor_c</th>\n",
       "      <td>-0.161278</td>\n",
       "      <td>0.161278</td>\n",
       "      <td>-0.037764</td>\n",
       "      <td>-0.003453</td>\n",
       "      <td>-0.123876</td>\n",
       "      <td>-0.052412</td>\n",
       "      <td>-0.009784</td>\n",
       "      <td>0.171994</td>\n",
       "      <td>0.073858</td>\n",
       "      <td>-0.003453</td>\n",
       "      <td>...</td>\n",
       "      <td>0.149454</td>\n",
       "      <td>0.000843</td>\n",
       "      <td>-0.080392</td>\n",
       "      <td>0.195606</td>\n",
       "      <td>-0.093276</td>\n",
       "      <td>-0.052553</td>\n",
       "      <td>-0.030041</td>\n",
       "      <td>-0.062986</td>\n",
       "      <td>-0.033889</td>\n",
       "      <td>-0.024206</td>\n",
       "    </tr>\n",
       "    <tr>\n",
       "      <th>odor_f</th>\n",
       "      <td>-0.623842</td>\n",
       "      <td>0.623842</td>\n",
       "      <td>-0.146074</td>\n",
       "      <td>-0.013357</td>\n",
       "      <td>0.083449</td>\n",
       "      <td>-0.025921</td>\n",
       "      <td>-0.037845</td>\n",
       "      <td>0.006691</td>\n",
       "      <td>0.019221</td>\n",
       "      <td>-0.013357</td>\n",
       "      <td>...</td>\n",
       "      <td>-0.145122</td>\n",
       "      <td>0.163744</td>\n",
       "      <td>0.131725</td>\n",
       "      <td>-0.121806</td>\n",
       "      <td>0.003091</td>\n",
       "      <td>-0.026843</td>\n",
       "      <td>-0.116202</td>\n",
       "      <td>0.256188</td>\n",
       "      <td>0.061839</td>\n",
       "      <td>-0.093630</td>\n",
       "    </tr>\n",
       "    <tr>\n",
       "      <th>odor_l</th>\n",
       "      <td>0.219529</td>\n",
       "      <td>-0.219529</td>\n",
       "      <td>0.262455</td>\n",
       "      <td>-0.005051</td>\n",
       "      <td>-0.097130</td>\n",
       "      <td>-0.076662</td>\n",
       "      <td>-0.014311</td>\n",
       "      <td>0.022860</td>\n",
       "      <td>-0.113647</td>\n",
       "      <td>-0.005051</td>\n",
       "      <td>...</td>\n",
       "      <td>0.180737</td>\n",
       "      <td>-0.171721</td>\n",
       "      <td>-0.050629</td>\n",
       "      <td>-0.124950</td>\n",
       "      <td>0.090610</td>\n",
       "      <td>-0.076868</td>\n",
       "      <td>0.347262</td>\n",
       "      <td>-0.013620</td>\n",
       "      <td>-0.049569</td>\n",
       "      <td>-0.035405</td>\n",
       "    </tr>\n",
       "    <tr>\n",
       "      <th>odor_m</th>\n",
       "      <td>-0.069159</td>\n",
       "      <td>0.069159</td>\n",
       "      <td>-0.016194</td>\n",
       "      <td>-0.001481</td>\n",
       "      <td>-0.007483</td>\n",
       "      <td>0.051031</td>\n",
       "      <td>-0.004195</td>\n",
       "      <td>-0.015649</td>\n",
       "      <td>-0.042180</td>\n",
       "      <td>-0.001481</td>\n",
       "      <td>...</td>\n",
       "      <td>-0.028423</td>\n",
       "      <td>-0.066356</td>\n",
       "      <td>-0.034474</td>\n",
       "      <td>0.083879</td>\n",
       "      <td>-0.039998</td>\n",
       "      <td>-0.022536</td>\n",
       "      <td>-0.012882</td>\n",
       "      <td>-0.027009</td>\n",
       "      <td>-0.014532</td>\n",
       "      <td>-0.010380</td>\n",
       "    </tr>\n",
       "    <tr>\n",
       "      <th>odor_n</th>\n",
       "      <td>0.785557</td>\n",
       "      <td>-0.785557</td>\n",
       "      <td>-0.000314</td>\n",
       "      <td>0.025332</td>\n",
       "      <td>0.066856</td>\n",
       "      <td>-0.098152</td>\n",
       "      <td>0.071775</td>\n",
       "      <td>-0.015817</td>\n",
       "      <td>0.286171</td>\n",
       "      <td>0.025332</td>\n",
       "      <td>...</td>\n",
       "      <td>-0.009620</td>\n",
       "      <td>-0.275386</td>\n",
       "      <td>0.136724</td>\n",
       "      <td>0.228838</td>\n",
       "      <td>0.089642</td>\n",
       "      <td>-0.086260</td>\n",
       "      <td>-0.121145</td>\n",
       "      <td>-0.326140</td>\n",
       "      <td>-0.076202</td>\n",
       "      <td>0.177576</td>\n",
       "    </tr>\n",
       "    <tr>\n",
       "      <th>...</th>\n",
       "      <td>...</td>\n",
       "      <td>...</td>\n",
       "      <td>...</td>\n",
       "      <td>...</td>\n",
       "      <td>...</td>\n",
       "      <td>...</td>\n",
       "      <td>...</td>\n",
       "      <td>...</td>\n",
       "      <td>...</td>\n",
       "      <td>...</td>\n",
       "      <td>...</td>\n",
       "      <td>...</td>\n",
       "      <td>...</td>\n",
       "      <td>...</td>\n",
       "      <td>...</td>\n",
       "      <td>...</td>\n",
       "      <td>...</td>\n",
       "      <td>...</td>\n",
       "      <td>...</td>\n",
       "      <td>...</td>\n",
       "      <td>...</td>\n",
       "    </tr>\n",
       "    <tr>\n",
       "      <th>ring-number_n</th>\n",
       "      <td>-0.069159</td>\n",
       "      <td>0.069159</td>\n",
       "      <td>-0.016194</td>\n",
       "      <td>-0.001481</td>\n",
       "      <td>-0.007483</td>\n",
       "      <td>0.051031</td>\n",
       "      <td>-0.004195</td>\n",
       "      <td>-0.015649</td>\n",
       "      <td>-0.042180</td>\n",
       "      <td>-0.001481</td>\n",
       "      <td>...</td>\n",
       "      <td>-0.028423</td>\n",
       "      <td>-0.066356</td>\n",
       "      <td>-0.034474</td>\n",
       "      <td>0.083879</td>\n",
       "      <td>-0.039998</td>\n",
       "      <td>-0.022536</td>\n",
       "      <td>-0.012882</td>\n",
       "      <td>-0.027009</td>\n",
       "      <td>-0.014532</td>\n",
       "      <td>-0.010380</td>\n",
       "    </tr>\n",
       "    <tr>\n",
       "      <th>ring-number_o</th>\n",
       "      <td>-0.182101</td>\n",
       "      <td>0.182101</td>\n",
       "      <td>-0.201139</td>\n",
       "      <td>0.006468</td>\n",
       "      <td>0.107916</td>\n",
       "      <td>-0.168392</td>\n",
       "      <td>0.018327</td>\n",
       "      <td>0.086780</td>\n",
       "      <td>0.038170</td>\n",
       "      <td>0.006468</td>\n",
       "      <td>...</td>\n",
       "      <td>-0.058837</td>\n",
       "      <td>0.209213</td>\n",
       "      <td>0.114637</td>\n",
       "      <td>0.190419</td>\n",
       "      <td>-0.161926</td>\n",
       "      <td>0.098443</td>\n",
       "      <td>-0.032347</td>\n",
       "      <td>0.065290</td>\n",
       "      <td>0.063482</td>\n",
       "      <td>-0.533843</td>\n",
       "    </tr>\n",
       "    <tr>\n",
       "      <th>ring-number_t</th>\n",
       "      <td>0.204600</td>\n",
       "      <td>-0.204600</td>\n",
       "      <td>0.210701</td>\n",
       "      <td>-0.006268</td>\n",
       "      <td>-0.108940</td>\n",
       "      <td>0.159995</td>\n",
       "      <td>-0.017758</td>\n",
       "      <td>-0.085158</td>\n",
       "      <td>-0.028492</td>\n",
       "      <td>-0.006268</td>\n",
       "      <td>...</td>\n",
       "      <td>0.067650</td>\n",
       "      <td>-0.198030</td>\n",
       "      <td>-0.108988</td>\n",
       "      <td>-0.216881</td>\n",
       "      <td>0.176472</td>\n",
       "      <td>-0.095387</td>\n",
       "      <td>0.036495</td>\n",
       "      <td>-0.060200</td>\n",
       "      <td>-0.061511</td>\n",
       "      <td>0.550945</td>\n",
       "    </tr>\n",
       "    <tr>\n",
       "      <th>ring-type_e</th>\n",
       "      <td>-0.223286</td>\n",
       "      <td>0.223286</td>\n",
       "      <td>-0.163553</td>\n",
       "      <td>0.007408</td>\n",
       "      <td>-0.014407</td>\n",
       "      <td>0.328613</td>\n",
       "      <td>-0.045307</td>\n",
       "      <td>-0.104998</td>\n",
       "      <td>-0.211881</td>\n",
       "      <td>-0.015991</td>\n",
       "      <td>...</td>\n",
       "      <td>-0.030551</td>\n",
       "      <td>0.221914</td>\n",
       "      <td>-0.372280</td>\n",
       "      <td>-0.249149</td>\n",
       "      <td>0.020021</td>\n",
       "      <td>0.297637</td>\n",
       "      <td>-0.139113</td>\n",
       "      <td>0.138105</td>\n",
       "      <td>-0.156935</td>\n",
       "      <td>0.215946</td>\n",
       "    </tr>\n",
       "    <tr>\n",
       "      <th>ring-type_f</th>\n",
       "      <td>0.074371</td>\n",
       "      <td>-0.074371</td>\n",
       "      <td>-0.018713</td>\n",
       "      <td>-0.001711</td>\n",
       "      <td>0.017722</td>\n",
       "      <td>-0.025971</td>\n",
       "      <td>-0.004848</td>\n",
       "      <td>0.007744</td>\n",
       "      <td>-0.048742</td>\n",
       "      <td>-0.001711</td>\n",
       "      <td>...</td>\n",
       "      <td>-0.032844</td>\n",
       "      <td>0.000418</td>\n",
       "      <td>0.054682</td>\n",
       "      <td>0.096927</td>\n",
       "      <td>-0.046220</td>\n",
       "      <td>-0.026041</td>\n",
       "      <td>-0.014886</td>\n",
       "      <td>-0.031211</td>\n",
       "      <td>-0.016793</td>\n",
       "      <td>-0.011994</td>\n",
       "    </tr>\n",
       "    <tr>\n",
       "      <th>ring-type_l</th>\n",
       "      <td>-0.451619</td>\n",
       "      <td>0.451619</td>\n",
       "      <td>-0.105748</td>\n",
       "      <td>-0.009670</td>\n",
       "      <td>0.100147</td>\n",
       "      <td>-0.146767</td>\n",
       "      <td>-0.027397</td>\n",
       "      <td>0.043765</td>\n",
       "      <td>0.206822</td>\n",
       "      <td>-0.009670</td>\n",
       "      <td>...</td>\n",
       "      <td>-0.185607</td>\n",
       "      <td>0.002360</td>\n",
       "      <td>0.309012</td>\n",
       "      <td>-0.048434</td>\n",
       "      <td>0.068096</td>\n",
       "      <td>-0.147161</td>\n",
       "      <td>-0.084122</td>\n",
       "      <td>0.241130</td>\n",
       "      <td>-0.094899</td>\n",
       "      <td>-0.067782</td>\n",
       "    </tr>\n",
       "    <tr>\n",
       "      <th>ring-type_n</th>\n",
       "      <td>-0.069159</td>\n",
       "      <td>0.069159</td>\n",
       "      <td>-0.016194</td>\n",
       "      <td>-0.001481</td>\n",
       "      <td>-0.007483</td>\n",
       "      <td>0.051031</td>\n",
       "      <td>-0.004195</td>\n",
       "      <td>-0.015649</td>\n",
       "      <td>-0.042180</td>\n",
       "      <td>-0.001481</td>\n",
       "      <td>...</td>\n",
       "      <td>-0.028423</td>\n",
       "      <td>-0.066356</td>\n",
       "      <td>-0.034474</td>\n",
       "      <td>0.083879</td>\n",
       "      <td>-0.039998</td>\n",
       "      <td>-0.022536</td>\n",
       "      <td>-0.012882</td>\n",
       "      <td>-0.027009</td>\n",
       "      <td>-0.014532</td>\n",
       "      <td>-0.010380</td>\n",
       "    </tr>\n",
       "    <tr>\n",
       "      <th>ring-type_p</th>\n",
       "      <td>0.540469</td>\n",
       "      <td>-0.540469</td>\n",
       "      <td>0.237666</td>\n",
       "      <td>0.000514</td>\n",
       "      <td>-0.061414</td>\n",
       "      <td>-0.207080</td>\n",
       "      <td>0.064357</td>\n",
       "      <td>0.068457</td>\n",
       "      <td>0.062610</td>\n",
       "      <td>0.022715</td>\n",
       "      <td>...</td>\n",
       "      <td>0.173763</td>\n",
       "      <td>-0.203531</td>\n",
       "      <td>0.123061</td>\n",
       "      <td>0.245869</td>\n",
       "      <td>-0.056477</td>\n",
       "      <td>-0.167616</td>\n",
       "      <td>0.197609</td>\n",
       "      <td>-0.299297</td>\n",
       "      <td>0.222924</td>\n",
       "      <td>-0.152022</td>\n",
       "    </tr>\n",
       "    <tr>\n",
       "      <th>spore-print-color_b</th>\n",
       "      <td>0.074371</td>\n",
       "      <td>-0.074371</td>\n",
       "      <td>0.065370</td>\n",
       "      <td>-0.001711</td>\n",
       "      <td>-0.021831</td>\n",
       "      <td>0.037734</td>\n",
       "      <td>-0.004848</td>\n",
       "      <td>-0.030997</td>\n",
       "      <td>-0.048742</td>\n",
       "      <td>-0.001711</td>\n",
       "      <td>...</td>\n",
       "      <td>-0.032844</td>\n",
       "      <td>0.000418</td>\n",
       "      <td>-0.039836</td>\n",
       "      <td>-0.061320</td>\n",
       "      <td>-0.046220</td>\n",
       "      <td>0.228236</td>\n",
       "      <td>-0.014886</td>\n",
       "      <td>-0.031211</td>\n",
       "      <td>-0.016793</td>\n",
       "      <td>-0.011994</td>\n",
       "    </tr>\n",
       "    <tr>\n",
       "      <th>spore-print-color_h</th>\n",
       "      <td>-0.490229</td>\n",
       "      <td>0.490229</td>\n",
       "      <td>-0.121699</td>\n",
       "      <td>-0.011128</td>\n",
       "      <td>0.115253</td>\n",
       "      <td>-0.168905</td>\n",
       "      <td>-0.031530</td>\n",
       "      <td>0.050366</td>\n",
       "      <td>0.123751</td>\n",
       "      <td>-0.011128</td>\n",
       "      <td>...</td>\n",
       "      <td>-0.090915</td>\n",
       "      <td>0.002716</td>\n",
       "      <td>0.247147</td>\n",
       "      <td>-0.096099</td>\n",
       "      <td>0.100660</td>\n",
       "      <td>-0.169359</td>\n",
       "      <td>-0.096811</td>\n",
       "      <td>0.178579</td>\n",
       "      <td>0.103522</td>\n",
       "      <td>-0.078006</td>\n",
       "    </tr>\n",
       "    <tr>\n",
       "      <th>spore-print-color_k</th>\n",
       "      <td>0.396832</td>\n",
       "      <td>-0.396832</td>\n",
       "      <td>0.030409</td>\n",
       "      <td>-0.012145</td>\n",
       "      <td>0.015410</td>\n",
       "      <td>-0.184339</td>\n",
       "      <td>0.040256</td>\n",
       "      <td>0.078470</td>\n",
       "      <td>0.119984</td>\n",
       "      <td>-0.012145</td>\n",
       "      <td>...</td>\n",
       "      <td>0.155989</td>\n",
       "      <td>-0.212177</td>\n",
       "      <td>0.078487</td>\n",
       "      <td>0.140766</td>\n",
       "      <td>0.085528</td>\n",
       "      <td>-0.184834</td>\n",
       "      <td>0.095340</td>\n",
       "      <td>-0.181191</td>\n",
       "      <td>0.038236</td>\n",
       "      <td>-0.085134</td>\n",
       "    </tr>\n",
       "    <tr>\n",
       "      <th>spore-print-color_n</th>\n",
       "      <td>0.416645</td>\n",
       "      <td>-0.416645</td>\n",
       "      <td>0.038235</td>\n",
       "      <td>-0.012549</td>\n",
       "      <td>0.014411</td>\n",
       "      <td>-0.179079</td>\n",
       "      <td>0.037832</td>\n",
       "      <td>0.072967</td>\n",
       "      <td>0.115758</td>\n",
       "      <td>-0.012549</td>\n",
       "      <td>...</td>\n",
       "      <td>0.141568</td>\n",
       "      <td>-0.194604</td>\n",
       "      <td>0.062892</td>\n",
       "      <td>0.144726</td>\n",
       "      <td>0.067528</td>\n",
       "      <td>-0.145501</td>\n",
       "      <td>0.088382</td>\n",
       "      <td>-0.189255</td>\n",
       "      <td>0.031574</td>\n",
       "      <td>-0.087968</td>\n",
       "    </tr>\n",
       "    <tr>\n",
       "      <th>spore-print-color_o</th>\n",
       "      <td>0.074371</td>\n",
       "      <td>-0.074371</td>\n",
       "      <td>0.065370</td>\n",
       "      <td>-0.001711</td>\n",
       "      <td>-0.021831</td>\n",
       "      <td>0.037734</td>\n",
       "      <td>-0.004848</td>\n",
       "      <td>-0.030997</td>\n",
       "      <td>-0.048742</td>\n",
       "      <td>-0.001711</td>\n",
       "      <td>...</td>\n",
       "      <td>-0.032844</td>\n",
       "      <td>0.000418</td>\n",
       "      <td>-0.039836</td>\n",
       "      <td>-0.061320</td>\n",
       "      <td>-0.046220</td>\n",
       "      <td>0.228236</td>\n",
       "      <td>-0.014886</td>\n",
       "      <td>-0.031211</td>\n",
       "      <td>-0.016793</td>\n",
       "      <td>-0.011994</td>\n",
       "    </tr>\n",
       "    <tr>\n",
       "      <th>spore-print-color_r</th>\n",
       "      <td>-0.098024</td>\n",
       "      <td>0.098024</td>\n",
       "      <td>0.183315</td>\n",
       "      <td>-0.002099</td>\n",
       "      <td>0.021737</td>\n",
       "      <td>-0.031856</td>\n",
       "      <td>-0.005946</td>\n",
       "      <td>-0.085538</td>\n",
       "      <td>-0.059785</td>\n",
       "      <td>-0.002099</td>\n",
       "      <td>...</td>\n",
       "      <td>-0.040286</td>\n",
       "      <td>0.095075</td>\n",
       "      <td>-0.048862</td>\n",
       "      <td>-0.075213</td>\n",
       "      <td>0.050517</td>\n",
       "      <td>-0.031941</td>\n",
       "      <td>0.235737</td>\n",
       "      <td>-0.038282</td>\n",
       "      <td>-0.020598</td>\n",
       "      <td>-0.014712</td>\n",
       "    </tr>\n",
       "    <tr>\n",
       "      <th>spore-print-color_u</th>\n",
       "      <td>0.074371</td>\n",
       "      <td>-0.074371</td>\n",
       "      <td>-0.018713</td>\n",
       "      <td>-0.001711</td>\n",
       "      <td>0.017722</td>\n",
       "      <td>-0.025971</td>\n",
       "      <td>-0.004848</td>\n",
       "      <td>0.007744</td>\n",
       "      <td>0.036598</td>\n",
       "      <td>-0.001711</td>\n",
       "      <td>...</td>\n",
       "      <td>-0.032844</td>\n",
       "      <td>0.077513</td>\n",
       "      <td>-0.039836</td>\n",
       "      <td>0.096927</td>\n",
       "      <td>-0.046220</td>\n",
       "      <td>-0.026041</td>\n",
       "      <td>-0.014886</td>\n",
       "      <td>-0.031211</td>\n",
       "      <td>-0.016793</td>\n",
       "      <td>-0.011994</td>\n",
       "    </tr>\n",
       "    <tr>\n",
       "      <th>spore-print-color_w</th>\n",
       "      <td>-0.357384</td>\n",
       "      <td>0.357384</td>\n",
       "      <td>-0.024592</td>\n",
       "      <td>0.034398</td>\n",
       "      <td>-0.125597</td>\n",
       "      <td>0.479240</td>\n",
       "      <td>-0.040575</td>\n",
       "      <td>-0.153515</td>\n",
       "      <td>-0.297869</td>\n",
       "      <td>0.034398</td>\n",
       "      <td>...</td>\n",
       "      <td>-0.166982</td>\n",
       "      <td>0.343946</td>\n",
       "      <td>-0.312201</td>\n",
       "      <td>-0.151596</td>\n",
       "      <td>-0.210385</td>\n",
       "      <td>0.352405</td>\n",
       "      <td>-0.124586</td>\n",
       "      <td>0.217292</td>\n",
       "      <td>-0.140546</td>\n",
       "      <td>0.241127</td>\n",
       "    </tr>\n",
       "    <tr>\n",
       "      <th>spore-print-color_y</th>\n",
       "      <td>0.074371</td>\n",
       "      <td>-0.074371</td>\n",
       "      <td>0.065370</td>\n",
       "      <td>-0.001711</td>\n",
       "      <td>-0.021831</td>\n",
       "      <td>0.037734</td>\n",
       "      <td>-0.004848</td>\n",
       "      <td>-0.030997</td>\n",
       "      <td>-0.048742</td>\n",
       "      <td>-0.001711</td>\n",
       "      <td>...</td>\n",
       "      <td>-0.032844</td>\n",
       "      <td>0.000418</td>\n",
       "      <td>-0.039836</td>\n",
       "      <td>-0.061320</td>\n",
       "      <td>-0.046220</td>\n",
       "      <td>0.228236</td>\n",
       "      <td>-0.014886</td>\n",
       "      <td>-0.031211</td>\n",
       "      <td>-0.016793</td>\n",
       "      <td>-0.011994</td>\n",
       "    </tr>\n",
       "    <tr>\n",
       "      <th>population_a</th>\n",
       "      <td>0.214871</td>\n",
       "      <td>-0.214871</td>\n",
       "      <td>-0.054064</td>\n",
       "      <td>-0.004944</td>\n",
       "      <td>0.051201</td>\n",
       "      <td>-0.075036</td>\n",
       "      <td>-0.014007</td>\n",
       "      <td>0.022375</td>\n",
       "      <td>0.105739</td>\n",
       "      <td>-0.004944</td>\n",
       "      <td>...</td>\n",
       "      <td>-0.094893</td>\n",
       "      <td>-0.221535</td>\n",
       "      <td>-0.115093</td>\n",
       "      <td>-0.177163</td>\n",
       "      <td>0.371521</td>\n",
       "      <td>-0.075237</td>\n",
       "      <td>-0.043008</td>\n",
       "      <td>-0.090174</td>\n",
       "      <td>-0.048518</td>\n",
       "      <td>-0.034654</td>\n",
       "    </tr>\n",
       "    <tr>\n",
       "      <th>population_c</th>\n",
       "      <td>0.137645</td>\n",
       "      <td>-0.137645</td>\n",
       "      <td>0.024358</td>\n",
       "      <td>0.106197</td>\n",
       "      <td>-0.035214</td>\n",
       "      <td>0.140896</td>\n",
       "      <td>-0.013143</td>\n",
       "      <td>-0.065496</td>\n",
       "      <td>-0.132135</td>\n",
       "      <td>0.106197</td>\n",
       "      <td>...</td>\n",
       "      <td>-0.089038</td>\n",
       "      <td>-0.207867</td>\n",
       "      <td>-0.107992</td>\n",
       "      <td>-0.120809</td>\n",
       "      <td>-0.125300</td>\n",
       "      <td>0.156476</td>\n",
       "      <td>-0.040355</td>\n",
       "      <td>-0.084610</td>\n",
       "      <td>-0.045524</td>\n",
       "      <td>0.744425</td>\n",
       "    </tr>\n",
       "    <tr>\n",
       "      <th>population_n</th>\n",
       "      <td>0.219529</td>\n",
       "      <td>-0.219529</td>\n",
       "      <td>0.381589</td>\n",
       "      <td>-0.005051</td>\n",
       "      <td>-0.181191</td>\n",
       "      <td>0.013599</td>\n",
       "      <td>-0.014311</td>\n",
       "      <td>-0.004586</td>\n",
       "      <td>-0.053190</td>\n",
       "      <td>-0.005051</td>\n",
       "      <td>...</td>\n",
       "      <td>-0.096950</td>\n",
       "      <td>-0.226338</td>\n",
       "      <td>-0.117588</td>\n",
       "      <td>-0.181003</td>\n",
       "      <td>0.214452</td>\n",
       "      <td>-0.076868</td>\n",
       "      <td>0.347262</td>\n",
       "      <td>-0.092129</td>\n",
       "      <td>-0.049569</td>\n",
       "      <td>-0.035405</td>\n",
       "    </tr>\n",
       "    <tr>\n",
       "      <th>population_s</th>\n",
       "      <td>0.159572</td>\n",
       "      <td>-0.159572</td>\n",
       "      <td>0.158702</td>\n",
       "      <td>-0.009456</td>\n",
       "      <td>-0.075804</td>\n",
       "      <td>-0.089360</td>\n",
       "      <td>-0.026791</td>\n",
       "      <td>0.059264</td>\n",
       "      <td>-0.033553</td>\n",
       "      <td>-0.009456</td>\n",
       "      <td>...</td>\n",
       "      <td>1.000000</td>\n",
       "      <td>-0.423728</td>\n",
       "      <td>-0.220138</td>\n",
       "      <td>-0.271589</td>\n",
       "      <td>0.394789</td>\n",
       "      <td>-0.143906</td>\n",
       "      <td>0.152473</td>\n",
       "      <td>-0.125366</td>\n",
       "      <td>0.130450</td>\n",
       "      <td>-0.066282</td>\n",
       "    </tr>\n",
       "    <tr>\n",
       "      <th>population_v</th>\n",
       "      <td>-0.443722</td>\n",
       "      <td>0.443722</td>\n",
       "      <td>-0.168381</td>\n",
       "      <td>-0.022075</td>\n",
       "      <td>0.034625</td>\n",
       "      <td>0.172707</td>\n",
       "      <td>0.000341</td>\n",
       "      <td>-0.060421</td>\n",
       "      <td>-0.116485</td>\n",
       "      <td>-0.022075</td>\n",
       "      <td>...</td>\n",
       "      <td>-0.423728</td>\n",
       "      <td>1.000000</td>\n",
       "      <td>-0.513929</td>\n",
       "      <td>0.171068</td>\n",
       "      <td>-0.379699</td>\n",
       "      <td>0.248675</td>\n",
       "      <td>-0.144434</td>\n",
       "      <td>0.169228</td>\n",
       "      <td>0.001180</td>\n",
       "      <td>-0.154742</td>\n",
       "    </tr>\n",
       "    <tr>\n",
       "      <th>population_y</th>\n",
       "      <td>0.107055</td>\n",
       "      <td>-0.107055</td>\n",
       "      <td>-0.120154</td>\n",
       "      <td>-0.011469</td>\n",
       "      <td>0.111346</td>\n",
       "      <td>-0.170081</td>\n",
       "      <td>0.044603</td>\n",
       "      <td>0.044626</td>\n",
       "      <td>0.210552</td>\n",
       "      <td>-0.011469</td>\n",
       "      <td>...</td>\n",
       "      <td>-0.220138</td>\n",
       "      <td>-0.513929</td>\n",
       "      <td>1.000000</td>\n",
       "      <td>0.277929</td>\n",
       "      <td>-0.129113</td>\n",
       "      <td>-0.174539</td>\n",
       "      <td>-0.099772</td>\n",
       "      <td>0.040714</td>\n",
       "      <td>-0.042888</td>\n",
       "      <td>-0.080392</td>\n",
       "    </tr>\n",
       "    <tr>\n",
       "      <th>habitat_d</th>\n",
       "      <td>0.126123</td>\n",
       "      <td>-0.126123</td>\n",
       "      <td>-0.182037</td>\n",
       "      <td>-0.017653</td>\n",
       "      <td>0.074986</td>\n",
       "      <td>-0.089230</td>\n",
       "      <td>-0.050018</td>\n",
       "      <td>0.071773</td>\n",
       "      <td>0.190756</td>\n",
       "      <td>-0.017653</td>\n",
       "      <td>...</td>\n",
       "      <td>-0.271589</td>\n",
       "      <td>0.171068</td>\n",
       "      <td>0.277929</td>\n",
       "      <td>1.000000</td>\n",
       "      <td>-0.476858</td>\n",
       "      <td>-0.268668</td>\n",
       "      <td>-0.153579</td>\n",
       "      <td>-0.322005</td>\n",
       "      <td>-0.173254</td>\n",
       "      <td>-0.123748</td>\n",
       "    </tr>\n",
       "    <tr>\n",
       "      <th>habitat_g</th>\n",
       "      <td>0.165004</td>\n",
       "      <td>-0.165004</td>\n",
       "      <td>0.149151</td>\n",
       "      <td>-0.013306</td>\n",
       "      <td>-0.017982</td>\n",
       "      <td>-0.113404</td>\n",
       "      <td>-0.037702</td>\n",
       "      <td>0.023197</td>\n",
       "      <td>0.080694</td>\n",
       "      <td>-0.013306</td>\n",
       "      <td>...</td>\n",
       "      <td>0.394789</td>\n",
       "      <td>-0.379699</td>\n",
       "      <td>-0.129113</td>\n",
       "      <td>-0.476858</td>\n",
       "      <td>1.000000</td>\n",
       "      <td>-0.202512</td>\n",
       "      <td>-0.115762</td>\n",
       "      <td>-0.242715</td>\n",
       "      <td>-0.130592</td>\n",
       "      <td>-0.093276</td>\n",
       "    </tr>\n",
       "    <tr>\n",
       "      <th>habitat_l</th>\n",
       "      <td>-0.155150</td>\n",
       "      <td>0.155150</td>\n",
       "      <td>0.010113</td>\n",
       "      <td>0.065707</td>\n",
       "      <td>-0.052326</td>\n",
       "      <td>0.235108</td>\n",
       "      <td>-0.021242</td>\n",
       "      <td>-0.096639</td>\n",
       "      <td>-0.191987</td>\n",
       "      <td>0.065707</td>\n",
       "      <td>...</td>\n",
       "      <td>-0.143906</td>\n",
       "      <td>0.248675</td>\n",
       "      <td>-0.174539</td>\n",
       "      <td>-0.268668</td>\n",
       "      <td>-0.202512</td>\n",
       "      <td>1.000000</td>\n",
       "      <td>-0.065222</td>\n",
       "      <td>-0.136749</td>\n",
       "      <td>-0.073577</td>\n",
       "      <td>-0.052553</td>\n",
       "    </tr>\n",
       "    <tr>\n",
       "      <th>habitat_m</th>\n",
       "      <td>0.138627</td>\n",
       "      <td>-0.138627</td>\n",
       "      <td>0.374316</td>\n",
       "      <td>-0.004286</td>\n",
       "      <td>-0.129312</td>\n",
       "      <td>-0.065047</td>\n",
       "      <td>-0.012142</td>\n",
       "      <td>-0.004529</td>\n",
       "      <td>-0.122077</td>\n",
       "      <td>-0.004286</td>\n",
       "      <td>...</td>\n",
       "      <td>0.152473</td>\n",
       "      <td>-0.144434</td>\n",
       "      <td>-0.099772</td>\n",
       "      <td>-0.153579</td>\n",
       "      <td>-0.115762</td>\n",
       "      <td>-0.065222</td>\n",
       "      <td>1.000000</td>\n",
       "      <td>-0.078170</td>\n",
       "      <td>-0.042059</td>\n",
       "      <td>-0.030041</td>\n",
       "    </tr>\n",
       "    <tr>\n",
       "      <th>habitat_p</th>\n",
       "      <td>-0.323346</td>\n",
       "      <td>0.323346</td>\n",
       "      <td>-0.095178</td>\n",
       "      <td>-0.008985</td>\n",
       "      <td>0.021891</td>\n",
       "      <td>0.090538</td>\n",
       "      <td>-0.025458</td>\n",
       "      <td>-0.029042</td>\n",
       "      <td>-0.086727</td>\n",
       "      <td>-0.008985</td>\n",
       "      <td>...</td>\n",
       "      <td>-0.125366</td>\n",
       "      <td>0.169228</td>\n",
       "      <td>0.040714</td>\n",
       "      <td>-0.322005</td>\n",
       "      <td>-0.242715</td>\n",
       "      <td>-0.136749</td>\n",
       "      <td>-0.078170</td>\n",
       "      <td>1.000000</td>\n",
       "      <td>-0.088184</td>\n",
       "      <td>-0.062986</td>\n",
       "    </tr>\n",
       "    <tr>\n",
       "      <th>habitat_u</th>\n",
       "      <td>-0.112078</td>\n",
       "      <td>0.112078</td>\n",
       "      <td>-0.052871</td>\n",
       "      <td>-0.004835</td>\n",
       "      <td>0.030636</td>\n",
       "      <td>-0.073380</td>\n",
       "      <td>0.288697</td>\n",
       "      <td>0.002845</td>\n",
       "      <td>-0.011913</td>\n",
       "      <td>-0.004835</td>\n",
       "      <td>...</td>\n",
       "      <td>0.130450</td>\n",
       "      <td>0.001180</td>\n",
       "      <td>-0.042888</td>\n",
       "      <td>-0.173254</td>\n",
       "      <td>-0.130592</td>\n",
       "      <td>-0.073577</td>\n",
       "      <td>-0.042059</td>\n",
       "      <td>-0.088184</td>\n",
       "      <td>1.000000</td>\n",
       "      <td>-0.033889</td>\n",
       "    </tr>\n",
       "    <tr>\n",
       "      <th>habitat_w</th>\n",
       "      <td>0.150087</td>\n",
       "      <td>-0.150087</td>\n",
       "      <td>-0.037764</td>\n",
       "      <td>-0.003453</td>\n",
       "      <td>-0.017450</td>\n",
       "      <td>0.119003</td>\n",
       "      <td>-0.009784</td>\n",
       "      <td>-0.036493</td>\n",
       "      <td>-0.098365</td>\n",
       "      <td>-0.003453</td>\n",
       "      <td>...</td>\n",
       "      <td>-0.066282</td>\n",
       "      <td>-0.154742</td>\n",
       "      <td>-0.080392</td>\n",
       "      <td>-0.123748</td>\n",
       "      <td>-0.093276</td>\n",
       "      <td>-0.052553</td>\n",
       "      <td>-0.030041</td>\n",
       "      <td>-0.062986</td>\n",
       "      <td>-0.033889</td>\n",
       "      <td>1.000000</td>\n",
       "    </tr>\n",
       "  </tbody>\n",
       "</table>\n",
       "<p>118 rows × 118 columns</p>\n",
       "</div>"
      ],
      "text/plain": [
       "                      class_e   class_p  cap-shape_b  cap-shape_c  \\\n",
       "class_e              1.000000 -1.000000     0.182567    -0.023007   \n",
       "class_p             -1.000000  1.000000    -0.182567     0.023007   \n",
       "cap-shape_b          0.182567 -0.182567     1.000000    -0.005387   \n",
       "cap-shape_c         -0.023007  0.023007    -0.005387     1.000000   \n",
       "cap-shape_f         -0.018526  0.018526    -0.193260    -0.017672   \n",
       "cap-shape_k         -0.163565  0.163565    -0.081769    -0.007477   \n",
       "cap-shape_s          0.060664 -0.060664    -0.015264    -0.001396   \n",
       "cap-shape_x          0.026886 -0.026886    -0.219564    -0.020077   \n",
       "cap-surface_f        0.195415 -0.195415    -0.091638    -0.014032   \n",
       "cap-surface_g       -0.023007  0.023007     0.018820     0.249631   \n",
       "cap-surface_s       -0.095454  0.095454     0.117712    -0.015038   \n",
       "cap-surface_y       -0.088677  0.088677    -0.027947     0.015893   \n",
       "cap-color_b         -0.067544  0.067544     0.010011    -0.003225   \n",
       "cap-color_c          0.030910 -0.030910    -0.017912    -0.001638   \n",
       "cap-color_e         -0.097112  0.097112    -0.115505    -0.010562   \n",
       "cap-color_g          0.046456 -0.046456    -0.069760    -0.012010   \n",
       "cap-color_n          0.044360 -0.044360    -0.084902    -0.013880   \n",
       "cap-color_p         -0.034702  0.034702     0.016231    -0.002981   \n",
       "cap-color_r          0.042854 -0.042854    -0.010782    -0.000986   \n",
       "cap-color_u          0.042854 -0.042854    -0.010782    -0.000986   \n",
       "cap-color_w          0.133683 -0.133683     0.212380     0.024711   \n",
       "cap-color_y         -0.113014  0.113014     0.117981     0.024136   \n",
       "bruises?_f          -0.501530  0.501530    -0.115686    -0.003803   \n",
       "bruises?_t           0.501530 -0.501530     0.115686     0.003803   \n",
       "odor_a               0.219529 -0.219529     0.262455    -0.005051   \n",
       "odor_c              -0.161278  0.161278    -0.037764    -0.003453   \n",
       "odor_f              -0.623842  0.623842    -0.146074    -0.013357   \n",
       "odor_l               0.219529 -0.219529     0.262455    -0.005051   \n",
       "odor_m              -0.069159  0.069159    -0.016194    -0.001481   \n",
       "odor_n               0.785557 -0.785557    -0.000314     0.025332   \n",
       "...                       ...       ...          ...          ...   \n",
       "ring-number_n       -0.069159  0.069159    -0.016194    -0.001481   \n",
       "ring-number_o       -0.182101  0.182101    -0.201139     0.006468   \n",
       "ring-number_t        0.204600 -0.204600     0.210701    -0.006268   \n",
       "ring-type_e         -0.223286  0.223286    -0.163553     0.007408   \n",
       "ring-type_f          0.074371 -0.074371    -0.018713    -0.001711   \n",
       "ring-type_l         -0.451619  0.451619    -0.105748    -0.009670   \n",
       "ring-type_n         -0.069159  0.069159    -0.016194    -0.001481   \n",
       "ring-type_p          0.540469 -0.540469     0.237666     0.000514   \n",
       "spore-print-color_b  0.074371 -0.074371     0.065370    -0.001711   \n",
       "spore-print-color_h -0.490229  0.490229    -0.121699    -0.011128   \n",
       "spore-print-color_k  0.396832 -0.396832     0.030409    -0.012145   \n",
       "spore-print-color_n  0.416645 -0.416645     0.038235    -0.012549   \n",
       "spore-print-color_o  0.074371 -0.074371     0.065370    -0.001711   \n",
       "spore-print-color_r -0.098024  0.098024     0.183315    -0.002099   \n",
       "spore-print-color_u  0.074371 -0.074371    -0.018713    -0.001711   \n",
       "spore-print-color_w -0.357384  0.357384    -0.024592     0.034398   \n",
       "spore-print-color_y  0.074371 -0.074371     0.065370    -0.001711   \n",
       "population_a         0.214871 -0.214871    -0.054064    -0.004944   \n",
       "population_c         0.137645 -0.137645     0.024358     0.106197   \n",
       "population_n         0.219529 -0.219529     0.381589    -0.005051   \n",
       "population_s         0.159572 -0.159572     0.158702    -0.009456   \n",
       "population_v        -0.443722  0.443722    -0.168381    -0.022075   \n",
       "population_y         0.107055 -0.107055    -0.120154    -0.011469   \n",
       "habitat_d            0.126123 -0.126123    -0.182037    -0.017653   \n",
       "habitat_g            0.165004 -0.165004     0.149151    -0.013306   \n",
       "habitat_l           -0.155150  0.155150     0.010113     0.065707   \n",
       "habitat_m            0.138627 -0.138627     0.374316    -0.004286   \n",
       "habitat_p           -0.323346  0.323346    -0.095178    -0.008985   \n",
       "habitat_u           -0.112078  0.112078    -0.052871    -0.004835   \n",
       "habitat_w            0.150087 -0.150087    -0.037764    -0.003453   \n",
       "\n",
       "                     cap-shape_f  cap-shape_k  cap-shape_s  cap-shape_x  \\\n",
       "class_e                -0.018526    -0.163565     0.060664     0.026886   \n",
       "class_p                 0.018526     0.163565    -0.060664    -0.026886   \n",
       "cap-shape_b            -0.193260    -0.081769    -0.015264    -0.219564   \n",
       "cap-shape_c            -0.017672    -0.007477    -0.001396    -0.020077   \n",
       "cap-shape_f             1.000000    -0.268226    -0.050070    -0.720235   \n",
       "cap-shape_k            -0.268226     1.000000    -0.021185    -0.304733   \n",
       "cap-shape_s            -0.050070    -0.021185     1.000000    -0.056884   \n",
       "cap-shape_x            -0.720235    -0.304733    -0.056884     1.000000   \n",
       "cap-surface_f           0.064801    -0.158942     0.099464     0.063511   \n",
       "cap-surface_g          -0.006285     0.010863    -0.001396    -0.020077   \n",
       "cap-surface_s          -0.093397     0.137988    -0.042607    -0.040634   \n",
       "cap-surface_y           0.029076     0.015261    -0.051272    -0.019137   \n",
       "cap-color_b             0.019203    -0.003209    -0.009138    -0.020175   \n",
       "cap-color_c            -0.003687     0.041662    -0.004641    -0.012814   \n",
       "cap-color_e             0.009128     0.162657    -0.029925    -0.050400   \n",
       "cap-color_g             0.056794    -0.135632     0.041093     0.054357   \n",
       "cap-color_n             0.019014     0.125992     0.030614    -0.059361   \n",
       "cap-color_p            -0.045696     0.004081    -0.008447     0.035996   \n",
       "cap-color_r             0.010211    -0.014965    -0.002794     0.004462   \n",
       "cap-color_u             0.010211    -0.014965    -0.002794     0.004462   \n",
       "cap-color_w            -0.088841    -0.068190    -0.024095     0.032565   \n",
       "cap-color_y            -0.010390    -0.124132    -0.024518     0.033317   \n",
       "bruises?_f             -0.045188     0.229578     0.053026    -0.048557   \n",
       "bruises?_t              0.045188    -0.229578    -0.053026     0.048557   \n",
       "odor_a                 -0.097130    -0.076662    -0.014311     0.022860   \n",
       "odor_c                 -0.123876    -0.052412    -0.009784     0.171994   \n",
       "odor_f                  0.083449    -0.025921    -0.037845     0.006691   \n",
       "odor_l                 -0.097130    -0.076662    -0.014311     0.022860   \n",
       "odor_m                 -0.007483     0.051031    -0.004195    -0.015649   \n",
       "odor_n                  0.066856    -0.098152     0.071775    -0.015817   \n",
       "...                          ...          ...          ...          ...   \n",
       "ring-number_n          -0.007483     0.051031    -0.004195    -0.015649   \n",
       "ring-number_o           0.107916    -0.168392     0.018327     0.086780   \n",
       "ring-number_t          -0.108940     0.159995    -0.017758    -0.085158   \n",
       "ring-type_e            -0.014407     0.328613    -0.045307    -0.104998   \n",
       "ring-type_f             0.017722    -0.025971    -0.004848     0.007744   \n",
       "ring-type_l             0.100147    -0.146767    -0.027397     0.043765   \n",
       "ring-type_n            -0.007483     0.051031    -0.004195    -0.015649   \n",
       "ring-type_p            -0.061414    -0.207080     0.064357     0.068457   \n",
       "spore-print-color_b    -0.021831     0.037734    -0.004848    -0.030997   \n",
       "spore-print-color_h     0.115253    -0.168905    -0.031530     0.050366   \n",
       "spore-print-color_k     0.015410    -0.184339     0.040256     0.078470   \n",
       "spore-print-color_n     0.014411    -0.179079     0.037832     0.072967   \n",
       "spore-print-color_o    -0.021831     0.037734    -0.004848    -0.030997   \n",
       "spore-print-color_r     0.021737    -0.031856    -0.005946    -0.085538   \n",
       "spore-print-color_u     0.017722    -0.025971    -0.004848     0.007744   \n",
       "spore-print-color_w    -0.125597     0.479240    -0.040575    -0.153515   \n",
       "spore-print-color_y    -0.021831     0.037734    -0.004848    -0.030997   \n",
       "population_a            0.051201    -0.075036    -0.014007     0.022375   \n",
       "population_c           -0.035214     0.140896    -0.013143    -0.065496   \n",
       "population_n           -0.181191     0.013599    -0.014311    -0.004586   \n",
       "population_s           -0.075804    -0.089360    -0.026791     0.059264   \n",
       "population_v            0.034625     0.172707     0.000341    -0.060421   \n",
       "population_y            0.111346    -0.170081     0.044603     0.044626   \n",
       "habitat_d               0.074986    -0.089230    -0.050018     0.071773   \n",
       "habitat_g              -0.017982    -0.113404    -0.037702     0.023197   \n",
       "habitat_l              -0.052326     0.235108    -0.021242    -0.096639   \n",
       "habitat_m              -0.129312    -0.065047    -0.012142    -0.004529   \n",
       "habitat_p               0.021891     0.090538    -0.025458    -0.029042   \n",
       "habitat_u               0.030636    -0.073380     0.288697     0.002845   \n",
       "habitat_w              -0.017450     0.119003    -0.009784    -0.036493   \n",
       "\n",
       "                     cap-surface_f  cap-surface_g    ...      population_s  \\\n",
       "class_e                   0.195415      -0.023007    ...          0.159572   \n",
       "class_p                  -0.195415       0.023007    ...         -0.159572   \n",
       "cap-shape_b              -0.091638       0.018820    ...          0.158702   \n",
       "cap-shape_c              -0.014032       0.249631    ...         -0.009456   \n",
       "cap-shape_f               0.064801      -0.006285    ...         -0.075804   \n",
       "cap-shape_k              -0.158942       0.010863    ...         -0.089360   \n",
       "cap-shape_s               0.099464      -0.001396    ...         -0.026791   \n",
       "cap-shape_x               0.063511      -0.020077    ...          0.059264   \n",
       "cap-surface_f             1.000000      -0.014032    ...         -0.033553   \n",
       "cap-surface_g            -0.014032       1.000000    ...         -0.009456   \n",
       "cap-surface_s            -0.428362      -0.015038    ...          0.187716   \n",
       "cap-surface_y            -0.515479      -0.018096    ...         -0.146611   \n",
       "cap-color_b              -0.091873      -0.003225    ...          0.053234   \n",
       "cap-color_c              -0.002099      -0.001638    ...         -0.031438   \n",
       "cap-color_e              -0.098583      -0.010562    ...         -0.202733   \n",
       "cap-color_g               0.238650      -0.012010    ...         -0.002168   \n",
       "cap-color_n              -0.101991      -0.013880    ...         -0.084185   \n",
       "cap-color_p              -0.018841      -0.002981    ...          0.025558   \n",
       "cap-color_r              -0.028086      -0.000986    ...         -0.018925   \n",
       "cap-color_u              -0.028086      -0.000986    ...         -0.018925   \n",
       "cap-color_w              -0.033439       0.057926    ...          0.319023   \n",
       "cap-color_y               0.040152      -0.008654    ...          0.011418   \n",
       "bruises?_f                0.028808      -0.026321    ...         -0.072997   \n",
       "bruises?_t               -0.028808       0.026321    ...          0.072997   \n",
       "odor_a                   -0.113647      -0.005051    ...          0.180737   \n",
       "odor_c                    0.073858      -0.003453    ...          0.149454   \n",
       "odor_f                    0.019221      -0.013357    ...         -0.145122   \n",
       "odor_l                   -0.113647      -0.005051    ...          0.180737   \n",
       "odor_m                   -0.042180      -0.001481    ...         -0.028423   \n",
       "odor_n                    0.286171       0.025332    ...         -0.009620   \n",
       "...                            ...            ...    ...               ...   \n",
       "ring-number_n            -0.042180      -0.001481    ...         -0.028423   \n",
       "ring-number_o             0.038170       0.006468    ...         -0.058837   \n",
       "ring-number_t            -0.028492      -0.006268    ...          0.067650   \n",
       "ring-type_e              -0.211881      -0.015991    ...         -0.030551   \n",
       "ring-type_f              -0.048742      -0.001711    ...         -0.032844   \n",
       "ring-type_l               0.206822      -0.009670    ...         -0.185607   \n",
       "ring-type_n              -0.042180      -0.001481    ...         -0.028423   \n",
       "ring-type_p               0.062610       0.022715    ...          0.173763   \n",
       "spore-print-color_b      -0.048742      -0.001711    ...         -0.032844   \n",
       "spore-print-color_h       0.123751      -0.011128    ...         -0.090915   \n",
       "spore-print-color_k       0.119984      -0.012145    ...          0.155989   \n",
       "spore-print-color_n       0.115758      -0.012549    ...          0.141568   \n",
       "spore-print-color_o      -0.048742      -0.001711    ...         -0.032844   \n",
       "spore-print-color_r      -0.059785      -0.002099    ...         -0.040286   \n",
       "spore-print-color_u       0.036598      -0.001711    ...         -0.032844   \n",
       "spore-print-color_w      -0.297869       0.034398    ...         -0.166982   \n",
       "spore-print-color_y      -0.048742      -0.001711    ...         -0.032844   \n",
       "population_a              0.105739      -0.004944    ...         -0.094893   \n",
       "population_c             -0.132135       0.106197    ...         -0.089038   \n",
       "population_n             -0.053190      -0.005051    ...         -0.096950   \n",
       "population_s             -0.033553      -0.009456    ...          1.000000   \n",
       "population_v             -0.116485      -0.022075    ...         -0.423728   \n",
       "population_y              0.210552      -0.011469    ...         -0.220138   \n",
       "habitat_d                 0.190756      -0.017653    ...         -0.271589   \n",
       "habitat_g                 0.080694      -0.013306    ...          0.394789   \n",
       "habitat_l                -0.191987       0.065707    ...         -0.143906   \n",
       "habitat_m                -0.122077      -0.004286    ...          0.152473   \n",
       "habitat_p                -0.086727      -0.008985    ...         -0.125366   \n",
       "habitat_u                -0.011913      -0.004835    ...          0.130450   \n",
       "habitat_w                -0.098365      -0.003453    ...         -0.066282   \n",
       "\n",
       "                     population_v  population_y  habitat_d  habitat_g  \\\n",
       "class_e                 -0.443722      0.107055   0.126123   0.165004   \n",
       "class_p                  0.443722     -0.107055  -0.126123  -0.165004   \n",
       "cap-shape_b             -0.168381     -0.120154  -0.182037   0.149151   \n",
       "cap-shape_c             -0.022075     -0.011469  -0.017653  -0.013306   \n",
       "cap-shape_f              0.034625      0.111346   0.074986  -0.017982   \n",
       "cap-shape_k              0.172707     -0.170081  -0.089230  -0.113404   \n",
       "cap-shape_s              0.000341      0.044603  -0.050018  -0.037702   \n",
       "cap-shape_x             -0.060421      0.044626   0.071773   0.023197   \n",
       "cap-surface_f           -0.116485      0.210552   0.190756   0.080694   \n",
       "cap-surface_g           -0.022075     -0.011469  -0.017653  -0.013306   \n",
       "cap-surface_s            0.019574     -0.339696  -0.301670   0.123932   \n",
       "cap-surface_y            0.089870      0.128418   0.110902  -0.191326   \n",
       "cap-color_b             -0.019972     -0.075087  -0.115580   0.030558   \n",
       "cap-color_c              0.020526     -0.021681  -0.017384  -0.044242   \n",
       "cap-color_e              0.257646     -0.021859   0.191944  -0.285297   \n",
       "cap-color_g             -0.114705      0.181897   0.086329   0.118364   \n",
       "cap-color_n              0.133721     -0.068021   0.008410  -0.146457   \n",
       "cap-color_p             -0.021661     -0.060263   0.015703  -0.055153   \n",
       "cap-color_r              0.000241      0.031508   0.055850  -0.026633   \n",
       "cap-color_u              0.000241      0.031508   0.055850  -0.026633   \n",
       "cap-color_w             -0.216033     -0.190758  -0.207960   0.314962   \n",
       "cap-color_y             -0.105546      0.130286  -0.101078   0.089530   \n",
       "bruises?_f               0.179268     -0.162030  -0.264457   0.131746   \n",
       "bruises?_t              -0.179268      0.162030   0.264457  -0.131746   \n",
       "odor_a                  -0.171721     -0.050629  -0.124950   0.090610   \n",
       "odor_c                   0.000843     -0.080392   0.195606  -0.093276   \n",
       "odor_f                   0.163744      0.131725  -0.121806   0.003091   \n",
       "odor_l                  -0.171721     -0.050629  -0.124950   0.090610   \n",
       "odor_m                  -0.066356     -0.034474   0.083879  -0.039998   \n",
       "odor_n                  -0.275386      0.136724   0.228838   0.089642   \n",
       "...                           ...           ...        ...        ...   \n",
       "ring-number_n           -0.066356     -0.034474   0.083879  -0.039998   \n",
       "ring-number_o            0.209213      0.114637   0.190419  -0.161926   \n",
       "ring-number_t           -0.198030     -0.108988  -0.216881   0.176472   \n",
       "ring-type_e              0.221914     -0.372280  -0.249149   0.020021   \n",
       "ring-type_f              0.000418      0.054682   0.096927  -0.046220   \n",
       "ring-type_l              0.002360      0.309012  -0.048434   0.068096   \n",
       "ring-type_n             -0.066356     -0.034474   0.083879  -0.039998   \n",
       "ring-type_p             -0.203531      0.123061   0.245869  -0.056477   \n",
       "spore-print-color_b      0.000418     -0.039836  -0.061320  -0.046220   \n",
       "spore-print-color_h      0.002716      0.247147  -0.096099   0.100660   \n",
       "spore-print-color_k     -0.212177      0.078487   0.140766   0.085528   \n",
       "spore-print-color_n     -0.194604      0.062892   0.144726   0.067528   \n",
       "spore-print-color_o      0.000418     -0.039836  -0.061320  -0.046220   \n",
       "spore-print-color_r      0.095075     -0.048862  -0.075213   0.050517   \n",
       "spore-print-color_u      0.077513     -0.039836   0.096927  -0.046220   \n",
       "spore-print-color_w      0.343946     -0.312201  -0.151596  -0.210385   \n",
       "spore-print-color_y      0.000418     -0.039836  -0.061320  -0.046220   \n",
       "population_a            -0.221535     -0.115093  -0.177163   0.371521   \n",
       "population_c            -0.207867     -0.107992  -0.120809  -0.125300   \n",
       "population_n            -0.226338     -0.117588  -0.181003   0.214452   \n",
       "population_s            -0.423728     -0.220138  -0.271589   0.394789   \n",
       "population_v             1.000000     -0.513929   0.171068  -0.379699   \n",
       "population_y            -0.513929      1.000000   0.277929  -0.129113   \n",
       "habitat_d                0.171068      0.277929   1.000000  -0.476858   \n",
       "habitat_g               -0.379699     -0.129113  -0.476858   1.000000   \n",
       "habitat_l                0.248675     -0.174539  -0.268668  -0.202512   \n",
       "habitat_m               -0.144434     -0.099772  -0.153579  -0.115762   \n",
       "habitat_p                0.169228      0.040714  -0.322005  -0.242715   \n",
       "habitat_u                0.001180     -0.042888  -0.173254  -0.130592   \n",
       "habitat_w               -0.154742     -0.080392  -0.123748  -0.093276   \n",
       "\n",
       "                     habitat_l  habitat_m  habitat_p  habitat_u  habitat_w  \n",
       "class_e              -0.155150   0.138627  -0.323346  -0.112078   0.150087  \n",
       "class_p               0.155150  -0.138627   0.323346   0.112078  -0.150087  \n",
       "cap-shape_b           0.010113   0.374316  -0.095178  -0.052871  -0.037764  \n",
       "cap-shape_c           0.065707  -0.004286  -0.008985  -0.004835  -0.003453  \n",
       "cap-shape_f          -0.052326  -0.129312   0.021891   0.030636  -0.017450  \n",
       "cap-shape_k           0.235108  -0.065047   0.090538  -0.073380   0.119003  \n",
       "cap-shape_s          -0.021242  -0.012142  -0.025458   0.288697  -0.009784  \n",
       "cap-shape_x          -0.096639  -0.004529  -0.029042   0.002845  -0.036493  \n",
       "cap-surface_f        -0.191987  -0.122077  -0.086727  -0.011913  -0.098365  \n",
       "cap-surface_g         0.065707  -0.004286  -0.008985  -0.004835  -0.003453  \n",
       "cap-surface_s         0.190799   0.077081  -0.039574   0.117548   0.062109  \n",
       "cap-surface_y        -0.006819   0.039697   0.117915  -0.100248   0.031986  \n",
       "cap-color_b          -0.049085   0.027701  -0.058829   0.167996   0.250709  \n",
       "cap-color_c           0.107833  -0.014249   0.008698  -0.016074  -0.011481  \n",
       "cap-color_e           0.140610  -0.091884   0.070022  -0.103655   0.026209  \n",
       "cap-color_g          -0.182780  -0.104483  -0.029680   0.017892  -0.084188  \n",
       "cap-color_n           0.243915  -0.120753   0.023909   0.011244  -0.010778  \n",
       "cap-color_p          -0.045375   0.034199  -0.032928  -0.029261   0.273873  \n",
       "cap-color_r          -0.015005  -0.008577  -0.017984  -0.009676  -0.006911  \n",
       "cap-color_u          -0.015005  -0.008577  -0.017984  -0.009676  -0.006911  \n",
       "cap-color_w          -0.119703   0.203103  -0.155118   0.114961  -0.059612  \n",
       "cap-color_y          -0.122101   0.174808   0.118201  -0.084927  -0.060660  \n",
       "bruises?_f            0.278238  -0.228986   0.249460  -0.143017  -0.184507  \n",
       "bruises?_t           -0.278238   0.228986  -0.249460   0.143017   0.184507  \n",
       "odor_a               -0.076868   0.347262  -0.013620  -0.049569  -0.035405  \n",
       "odor_c               -0.052553  -0.030041  -0.062986  -0.033889  -0.024206  \n",
       "odor_f               -0.026843  -0.116202   0.256188   0.061839  -0.093630  \n",
       "odor_l               -0.076868   0.347262  -0.013620  -0.049569  -0.035405  \n",
       "odor_m               -0.022536  -0.012882  -0.027009  -0.014532  -0.010380  \n",
       "odor_n               -0.086260  -0.121145  -0.326140  -0.076202   0.177576  \n",
       "...                        ...        ...        ...        ...        ...  \n",
       "ring-number_n        -0.022536  -0.012882  -0.027009  -0.014532  -0.010380  \n",
       "ring-number_o         0.098443  -0.032347   0.065290   0.063482  -0.533843  \n",
       "ring-number_t        -0.095387   0.036495  -0.060200  -0.061511   0.550945  \n",
       "ring-type_e           0.297637  -0.139113   0.138105  -0.156935   0.215946  \n",
       "ring-type_f          -0.026041  -0.014886  -0.031211  -0.016793  -0.011994  \n",
       "ring-type_l          -0.147161  -0.084122   0.241130  -0.094899  -0.067782  \n",
       "ring-type_n          -0.022536  -0.012882  -0.027009  -0.014532  -0.010380  \n",
       "ring-type_p          -0.167616   0.197609  -0.299297   0.222924  -0.152022  \n",
       "spore-print-color_b   0.228236  -0.014886  -0.031211  -0.016793  -0.011994  \n",
       "spore-print-color_h  -0.169359  -0.096811   0.178579   0.103522  -0.078006  \n",
       "spore-print-color_k  -0.184834   0.095340  -0.181191   0.038236  -0.085134  \n",
       "spore-print-color_n  -0.145501   0.088382  -0.189255   0.031574  -0.087968  \n",
       "spore-print-color_o   0.228236  -0.014886  -0.031211  -0.016793  -0.011994  \n",
       "spore-print-color_r  -0.031941   0.235737  -0.038282  -0.020598  -0.014712  \n",
       "spore-print-color_u  -0.026041  -0.014886  -0.031211  -0.016793  -0.011994  \n",
       "spore-print-color_w   0.352405  -0.124586   0.217292  -0.140546   0.241127  \n",
       "spore-print-color_y   0.228236  -0.014886  -0.031211  -0.016793  -0.011994  \n",
       "population_a         -0.075237  -0.043008  -0.090174  -0.048518  -0.034654  \n",
       "population_c          0.156476  -0.040355  -0.084610  -0.045524   0.744425  \n",
       "population_n         -0.076868   0.347262  -0.092129  -0.049569  -0.035405  \n",
       "population_s         -0.143906   0.152473  -0.125366   0.130450  -0.066282  \n",
       "population_v          0.248675  -0.144434   0.169228   0.001180  -0.154742  \n",
       "population_y         -0.174539  -0.099772   0.040714  -0.042888  -0.080392  \n",
       "habitat_d            -0.268668  -0.153579  -0.322005  -0.173254  -0.123748  \n",
       "habitat_g            -0.202512  -0.115762  -0.242715  -0.130592  -0.093276  \n",
       "habitat_l             1.000000  -0.065222  -0.136749  -0.073577  -0.052553  \n",
       "habitat_m            -0.065222   1.000000  -0.078170  -0.042059  -0.030041  \n",
       "habitat_p            -0.136749  -0.078170   1.000000  -0.088184  -0.062986  \n",
       "habitat_u            -0.073577  -0.042059  -0.088184   1.000000  -0.033889  \n",
       "habitat_w            -0.052553  -0.030041  -0.062986  -0.033889   1.000000  \n",
       "\n",
       "[118 rows x 118 columns]"
      ]
     },
     "execution_count": 29,
     "metadata": {},
     "output_type": "execute_result"
    }
   ],
   "source": [
    "df_enc.corr(method ='pearson')"
   ]
  },
  {
   "cell_type": "code",
   "execution_count": 18,
   "metadata": {},
   "outputs": [
    {
     "data": {
      "text/plain": [
       "-0.0935516440240362"
      ]
     },
     "execution_count": 18,
     "metadata": {},
     "output_type": "execute_result"
    }
   ],
   "source": [
    "#testing single features against class\n",
    "df['class'].corr(df['odor'])"
   ]
  },
  {
   "cell_type": "code",
   "execution_count": 13,
   "metadata": {
    "scrolled": true
   },
   "outputs": [
    {
     "data": {
      "text/plain": [
       "-0.3793609848063973"
      ]
     },
     "execution_count": 13,
     "metadata": {},
     "output_type": "execute_result"
    }
   ],
   "source": [
    "df['class'].corr(df['stalk-root'])"
   ]
  },
  {
   "cell_type": "code",
   "execution_count": 12,
   "metadata": {},
   "outputs": [
    {
     "data": {
      "text/html": [
       "<div>\n",
       "<style scoped>\n",
       "    .dataframe tbody tr th:only-of-type {\n",
       "        vertical-align: middle;\n",
       "    }\n",
       "\n",
       "    .dataframe tbody tr th {\n",
       "        vertical-align: top;\n",
       "    }\n",
       "\n",
       "    .dataframe thead th {\n",
       "        text-align: right;\n",
       "    }\n",
       "</style>\n",
       "<table border=\"1\" class=\"dataframe\">\n",
       "  <thead>\n",
       "    <tr style=\"text-align: right;\">\n",
       "      <th></th>\n",
       "      <th>class</th>\n",
       "      <th>stalk-root</th>\n",
       "    </tr>\n",
       "  </thead>\n",
       "  <tbody>\n",
       "    <tr>\n",
       "      <th>class</th>\n",
       "      <td>1.000000</td>\n",
       "      <td>-0.379361</td>\n",
       "    </tr>\n",
       "    <tr>\n",
       "      <th>stalk-root</th>\n",
       "      <td>-0.379361</td>\n",
       "      <td>1.000000</td>\n",
       "    </tr>\n",
       "  </tbody>\n",
       "</table>\n",
       "</div>"
      ],
      "text/plain": [
       "               class  stalk-root\n",
       "class       1.000000   -0.379361\n",
       "stalk-root -0.379361    1.000000"
      ]
     },
     "execution_count": 12,
     "metadata": {},
     "output_type": "execute_result"
    }
   ],
   "source": [
    "df[['class','stalk-root']].corr()"
   ]
  },
  {
   "cell_type": "code",
   "execution_count": 30,
   "metadata": {},
   "outputs": [
    {
     "name": "stderr",
     "output_type": "stream",
     "text": [
      "/usr/lib/python3.5/importlib/_bootstrap.py:222: RuntimeWarning: numpy.dtype size changed, may indicate binary incompatibility. Expected 96, got 88\n",
      "  return f(*args, **kwds)\n"
     ]
    },
    {
     "data": {
      "text/plain": [
       "<matplotlib.axes._subplots.AxesSubplot at 0x7fdeaaee1898>"
      ]
     },
     "execution_count": 30,
     "metadata": {},
     "output_type": "execute_result"
    },
    {
     "data": {
      "image/png": "[encoded data removed]",
      "text/plain": [
       "<Figure size 792x648 with 2 Axes>"
      ]
     },
     "metadata": {},
     "output_type": "display_data"
    }
   ],
   "source": [
    "import numpy as np\n",
    "import pandas as pd\n",
    "import seaborn as sns\n",
    "import matplotlib.pyplot as plt\n",
    "\n",
    "sns.set(style=\"white\")\n",
    "\n",
    "# Compute the correlation matrix\n",
    "corr = df_enc.corr()\n",
    "\n",
    "# Generate a mask for the upper triangle\n",
    "mask = np.zeros_like(corr, dtype=np.bool)\n",
    "mask[np.triu_indices_from(mask)] = True\n",
    "\n",
    "# Set up the matplotlib figure\n",
    "f, ax = plt.subplots(figsize=(11, 9))\n",
    "\n",
    "# Generate a custom diverging colormap\n",
    "cmap = sns.diverging_palette(220, 10, as_cmap=True)\n",
    "\n",
    "# Draw the heatmap with the mask and correct aspect ratio\n",
    "sns.heatmap(corr, mask=mask, cmap=cmap, vmax=.3, center=0,\n",
    "            square=True, linewidths=.5, cbar_kws={\"shrink\": .5})"
   ]
  },
  {
   "cell_type": "markdown",
   "metadata": {},
   "source": [
    "<font color='MediumVioletRed'>\n",
    "Since the mushroom dataset has categorical features, we need to use one hot encoding to convert the categories into numerical attribtues in order to run a Pearson R correlation test on all the features. However, this renders an extra large matrix that expanded 22 features to 112 that does not fully capture useful insights about feature correlation due to the encoding. Therefore, we switch to a Theil's U below to calculate the correlation coefficient without one-hot encoding the features."
   ]
  },
  {
   "cell_type": "code",
   "execution_count": 5,
   "metadata": {},
   "outputs": [
    {
     "name": "stderr",
     "output_type": "stream",
     "text": [
      "/usr/lib/python3.5/importlib/_bootstrap.py:222: RuntimeWarning: numpy.dtype size changed, may indicate binary incompatibility. Expected 96, got 88\n",
      "  return f(*args, **kwds)\n",
      "/usr/lib/python3.5/importlib/_bootstrap.py:222: RuntimeWarning: numpy.dtype size changed, may indicate binary incompatibility. Expected 96, got 88\n",
      "  return f(*args, **kwds)\n",
      "/usr/lib/python3.5/importlib/_bootstrap.py:222: RuntimeWarning: numpy.dtype size changed, may indicate binary incompatibility. Expected 96, got 88\n",
      "  return f(*args, **kwds)\n"
     ]
    }
   ],
   "source": [
    "import pandas as pd\n",
    "from dython import nominal"
   ]
  },
  {
   "cell_type": "code",
   "execution_count": 89,
   "metadata": {},
   "outputs": [
    {
     "data": {
      "image/png": "[encoded data removed]",
      "text/plain": [
       "<Figure size 864x864 with 2 Axes>"
      ]
     },
     "metadata": {},
     "output_type": "display_data"
    }
   ],
   "source": [
    "nominal.associations(df, theil_u=True, nominal_columns='all', figsize=(12,12))"
   ]
  },
  {
   "cell_type": "markdown",
   "metadata": {},
   "source": [
    "Resource: Theil's U heatmap citation: https://github.com/shakedzy/dython "
   ]
  },
  {
   "cell_type": "markdown",
   "metadata": {},
   "source": [
    "<font color='MediumVioletRed'>\n",
    "Fortunately, Dython on GitHub already created a Theil's U correlation matrix and heat map visualization. From this, we can see that odor is the top indicator of class at 0.91 correlation coefficient, followed by spore print color 0.48 and gill color 0.42."
   ]
  },
  {
   "cell_type": "markdown",
   "metadata": {},
   "source": [
    "<font color='PaleVioletRed'> \n",
    "### Prepare Data for Modeling"
   ]
  },
  {
   "cell_type": "code",
   "execution_count": 12,
   "metadata": {},
   "outputs": [
    {
     "data": {
      "text/plain": [
       "class                       0\n",
       "cap-shape                   0\n",
       "cap-surface                 0\n",
       "cap-color                   0\n",
       "bruises?                    0\n",
       "odor                        0\n",
       "gill-attachment             0\n",
       "gill-spacing                0\n",
       "gill-size                   0\n",
       "gill-color                  0\n",
       "stalk-shape                 0\n",
       "stalk-root                  0\n",
       "stalk-surface-above-ring    0\n",
       "stalk-surface-below-ring    0\n",
       "stalk-color-above-ring      0\n",
       "stalk-color-below-ring      0\n",
       "veil-color                  0\n",
       "ring-number                 0\n",
       "ring-type                   0\n",
       "spore-print-color           0\n",
       "population                  0\n",
       "habitat                     0\n",
       "dtype: int64"
      ]
     },
     "execution_count": 12,
     "metadata": {},
     "output_type": "execute_result"
    }
   ],
   "source": [
    "df.isnull().sum() #search for missing values"
   ]
  },
  {
   "cell_type": "markdown",
   "metadata": {},
   "source": [
    "<font color='MediumVioletRed'>\n",
    "It would appear that there are no empty cells. However, the data description indicates that one of the features has missing values; stalk root has missing data labeled as '?' in the dataset. When we run value counts, we find that 2480 mushrooms have missing values, which is a 30% large share of the total 8124 data. Deleting missing values results in a more accurate prediction model, if there is enough data (70-75%) of the remaining dataset. However, removing 30% could result in a less accurate prediction model by loss of significant data."
   ]
  },
  {
   "cell_type": "markdown",
   "metadata": {},
   "source": [
    "<font color='PaleVioletRed'> \n",
    "Dealing with missing data:\n",
    "- Delete rows: if the loss is less than 30% of the entire dataset (discussed above)\n",
    "- Replace with mean/median/mode: works on smaller, numerical datasets, but can add bias. The mushroom dataset, however, is categorial so this soolution doesn't fit this dataset.\n",
    "- Assign a unique category: good for categorical datasets, which the missing values were replaced with '?' to fill in empty cells. This negates a loss of data, but it adds less variance by introducing another feature which can result in poor performance of the prediction model.\n",
    "- Predict the missing values: use sklearn's linear regression model to predict the missing values. This is good unless the missing value is expected to have a high variance. However, some bias arises from an incomplete dataset and the predicted alues are only viewed as a proxy. \n",
    "- Use prediction algorithm that supports missing values: the Randon Forest model is the best option as it works well on non-linear and categorical data. It takes into account the high variance / or bias, working well on large datasets. The drawback is it can be time consuming. "
   ]
  },
  {
   "cell_type": "code",
   "execution_count": 13,
   "metadata": {},
   "outputs": [
    {
     "data": {
      "text/plain": [
       "b    3776\n",
       "?    2480\n",
       "e    1120\n",
       "c     556\n",
       "r     192\n",
       "Name: stalk-root, dtype: int64"
      ]
     },
     "execution_count": 13,
     "metadata": {},
     "output_type": "execute_result"
    }
   ],
   "source": [
    "df['stalk-root'].value_counts() #find the missing values with the categorical feature '?'"
   ]
  },
  {
   "cell_type": "markdown",
   "metadata": {},
   "source": [
    "<font color='MediumVioletRed'>\n",
    "Therefore, we will keep the missing data that has been replaced with the categorical feature '?' and start with the Random Forest algorithm. \n",
    "    \n",
    "As mentioned before, the feautres in the dataset are categories, not numbers. Thus the encoding process to prepare the data for machine learning has an extra step. If the features were all numbers, we could encode the features directly into an array."
   ]
  },
  {
   "cell_type": "markdown",
   "metadata": {},
   "source": [
    "<font color='PaleVioletRed'> \n",
    "### Encode Labels"
   ]
  },
  {
   "cell_type": "markdown",
   "metadata": {},
   "source": [
    "<font color='MediumVioletRed'>\n",
    "\n",
    "#### Using Label Encoder"
   ]
  },
  {
   "cell_type": "code",
   "execution_count": 161,
   "metadata": {},
   "outputs": [],
   "source": [
    "df1=df"
   ]
  },
  {
   "cell_type": "code",
   "execution_count": 162,
   "metadata": {},
   "outputs": [],
   "source": [
    "from sklearn import preprocessing\n",
    "le = preprocessing.LabelEncoder()\n",
    "#encode all column features into array\n",
    "for col in df1.columns:\n",
    "    df1[col]=le.fit_transform(df1[col])  "
   ]
  },
  {
   "cell_type": "code",
   "execution_count": 163,
   "metadata": {},
   "outputs": [
    {
     "data": {
      "text/html": [
       "<div>\n",
       "<style scoped>\n",
       "    .dataframe tbody tr th:only-of-type {\n",
       "        vertical-align: middle;\n",
       "    }\n",
       "\n",
       "    .dataframe tbody tr th {\n",
       "        vertical-align: top;\n",
       "    }\n",
       "\n",
       "    .dataframe thead th {\n",
       "        text-align: right;\n",
       "    }\n",
       "</style>\n",
       "<table border=\"1\" class=\"dataframe\">\n",
       "  <thead>\n",
       "    <tr style=\"text-align: right;\">\n",
       "      <th></th>\n",
       "      <th>class</th>\n",
       "      <th>cap-shape</th>\n",
       "      <th>cap-surface</th>\n",
       "      <th>cap-color</th>\n",
       "      <th>bruises?</th>\n",
       "      <th>odor</th>\n",
       "      <th>gill-attachment</th>\n",
       "      <th>gill-spacing</th>\n",
       "      <th>gill-size</th>\n",
       "      <th>gill-color</th>\n",
       "      <th>...</th>\n",
       "      <th>stalk-surface-below-ring</th>\n",
       "      <th>stalk-color-above-ring</th>\n",
       "      <th>stalk-color-below-ring</th>\n",
       "      <th>veil-type</th>\n",
       "      <th>veil-color</th>\n",
       "      <th>ring-number</th>\n",
       "      <th>ring-type</th>\n",
       "      <th>spore-print-color</th>\n",
       "      <th>population</th>\n",
       "      <th>habitat</th>\n",
       "    </tr>\n",
       "  </thead>\n",
       "  <tbody>\n",
       "    <tr>\n",
       "      <th>0</th>\n",
       "      <td>1</td>\n",
       "      <td>5</td>\n",
       "      <td>2</td>\n",
       "      <td>4</td>\n",
       "      <td>1</td>\n",
       "      <td>6</td>\n",
       "      <td>1</td>\n",
       "      <td>0</td>\n",
       "      <td>1</td>\n",
       "      <td>4</td>\n",
       "      <td>...</td>\n",
       "      <td>2</td>\n",
       "      <td>7</td>\n",
       "      <td>7</td>\n",
       "      <td>0</td>\n",
       "      <td>2</td>\n",
       "      <td>1</td>\n",
       "      <td>4</td>\n",
       "      <td>2</td>\n",
       "      <td>3</td>\n",
       "      <td>5</td>\n",
       "    </tr>\n",
       "    <tr>\n",
       "      <th>1</th>\n",
       "      <td>0</td>\n",
       "      <td>5</td>\n",
       "      <td>2</td>\n",
       "      <td>9</td>\n",
       "      <td>1</td>\n",
       "      <td>0</td>\n",
       "      <td>1</td>\n",
       "      <td>0</td>\n",
       "      <td>0</td>\n",
       "      <td>4</td>\n",
       "      <td>...</td>\n",
       "      <td>2</td>\n",
       "      <td>7</td>\n",
       "      <td>7</td>\n",
       "      <td>0</td>\n",
       "      <td>2</td>\n",
       "      <td>1</td>\n",
       "      <td>4</td>\n",
       "      <td>3</td>\n",
       "      <td>2</td>\n",
       "      <td>1</td>\n",
       "    </tr>\n",
       "    <tr>\n",
       "      <th>2</th>\n",
       "      <td>0</td>\n",
       "      <td>0</td>\n",
       "      <td>2</td>\n",
       "      <td>8</td>\n",
       "      <td>1</td>\n",
       "      <td>3</td>\n",
       "      <td>1</td>\n",
       "      <td>0</td>\n",
       "      <td>0</td>\n",
       "      <td>5</td>\n",
       "      <td>...</td>\n",
       "      <td>2</td>\n",
       "      <td>7</td>\n",
       "      <td>7</td>\n",
       "      <td>0</td>\n",
       "      <td>2</td>\n",
       "      <td>1</td>\n",
       "      <td>4</td>\n",
       "      <td>3</td>\n",
       "      <td>2</td>\n",
       "      <td>3</td>\n",
       "    </tr>\n",
       "    <tr>\n",
       "      <th>3</th>\n",
       "      <td>1</td>\n",
       "      <td>5</td>\n",
       "      <td>3</td>\n",
       "      <td>8</td>\n",
       "      <td>1</td>\n",
       "      <td>6</td>\n",
       "      <td>1</td>\n",
       "      <td>0</td>\n",
       "      <td>1</td>\n",
       "      <td>5</td>\n",
       "      <td>...</td>\n",
       "      <td>2</td>\n",
       "      <td>7</td>\n",
       "      <td>7</td>\n",
       "      <td>0</td>\n",
       "      <td>2</td>\n",
       "      <td>1</td>\n",
       "      <td>4</td>\n",
       "      <td>2</td>\n",
       "      <td>3</td>\n",
       "      <td>5</td>\n",
       "    </tr>\n",
       "    <tr>\n",
       "      <th>4</th>\n",
       "      <td>0</td>\n",
       "      <td>5</td>\n",
       "      <td>2</td>\n",
       "      <td>3</td>\n",
       "      <td>0</td>\n",
       "      <td>5</td>\n",
       "      <td>1</td>\n",
       "      <td>1</td>\n",
       "      <td>0</td>\n",
       "      <td>4</td>\n",
       "      <td>...</td>\n",
       "      <td>2</td>\n",
       "      <td>7</td>\n",
       "      <td>7</td>\n",
       "      <td>0</td>\n",
       "      <td>2</td>\n",
       "      <td>1</td>\n",
       "      <td>0</td>\n",
       "      <td>3</td>\n",
       "      <td>0</td>\n",
       "      <td>1</td>\n",
       "    </tr>\n",
       "  </tbody>\n",
       "</table>\n",
       "<p>5 rows × 23 columns</p>\n",
       "</div>"
      ],
      "text/plain": [
       "   class  cap-shape  cap-surface  cap-color  bruises?  odor  gill-attachment  \\\n",
       "0      1          5            2          4         1     6                1   \n",
       "1      0          5            2          9         1     0                1   \n",
       "2      0          0            2          8         1     3                1   \n",
       "3      1          5            3          8         1     6                1   \n",
       "4      0          5            2          3         0     5                1   \n",
       "\n",
       "   gill-spacing  gill-size  gill-color   ...     stalk-surface-below-ring  \\\n",
       "0             0          1           4   ...                            2   \n",
       "1             0          0           4   ...                            2   \n",
       "2             0          0           5   ...                            2   \n",
       "3             0          1           5   ...                            2   \n",
       "4             1          0           4   ...                            2   \n",
       "\n",
       "   stalk-color-above-ring  stalk-color-below-ring  veil-type  veil-color  \\\n",
       "0                       7                       7          0           2   \n",
       "1                       7                       7          0           2   \n",
       "2                       7                       7          0           2   \n",
       "3                       7                       7          0           2   \n",
       "4                       7                       7          0           2   \n",
       "\n",
       "   ring-number  ring-type  spore-print-color  population  habitat  \n",
       "0            1          4                  2           3        5  \n",
       "1            1          4                  3           2        1  \n",
       "2            1          4                  3           2        3  \n",
       "3            1          4                  2           3        5  \n",
       "4            1          0                  3           0        1  \n",
       "\n",
       "[5 rows x 23 columns]"
      ]
     },
     "execution_count": 163,
     "metadata": {},
     "output_type": "execute_result"
    }
   ],
   "source": [
    "df1.head()"
   ]
  },
  {
   "cell_type": "markdown",
   "metadata": {},
   "source": [
    "<font color='MediumVioletRed'>\n",
    "All data needs to be encoded into an array for the mathematic calculations in a prediction model. Textual and categorical data also need to be encoded with numbers. In DF1, we encode using sklearn's Label Encoder for the purpse of comparison. However, the purple cap color is not worth 5x the value of the brown color. As an alternative, we will use .get_dummies to encode categorical data and compare against the label encoding."
   ]
  },
  {
   "cell_type": "code",
   "execution_count": 164,
   "metadata": {},
   "outputs": [],
   "source": [
    "y=df1['class']\n",
    "X=df1.iloc[:,1:23]"
   ]
  },
  {
   "cell_type": "code",
   "execution_count": 165,
   "metadata": {},
   "outputs": [
    {
     "data": {
      "text/plain": [
       "(8124, 22)"
      ]
     },
     "metadata": {},
     "output_type": "display_data"
    },
    {
     "data": {
      "text/plain": [
       "(8124,)"
      ]
     },
     "metadata": {},
     "output_type": "display_data"
    }
   ],
   "source": [
    "display(X.shape)\n",
    "display(y.shape)"
   ]
  },
  {
   "cell_type": "markdown",
   "metadata": {},
   "source": [
    "<font color='PaleVioletRed'> \n",
    "### Split Data into Train and Test Groups"
   ]
  },
  {
   "cell_type": "code",
   "execution_count": 166,
   "metadata": {},
   "outputs": [],
   "source": [
    "from sklearn.model_selection import train_test_split\n",
    "\n",
    "# Split dataset into training set and test set\n",
    "X_train, X_test, y_train, y_test = train_test_split(X,y, test_size=0.25,random_state=109) # 60% training and 40% test"
   ]
  },
  {
   "cell_type": "code",
   "execution_count": 167,
   "metadata": {},
   "outputs": [
    {
     "name": "stdout",
     "output_type": "stream",
     "text": [
      "Training X_train Shape: (6093, 22)\n",
      "Training y_train Shape: (6093,)\n",
      "Testing X_test Shape: (2031, 22)\n",
      "Testing y_test Shape: (2031,)\n"
     ]
    }
   ],
   "source": [
    "print('Training X_train Shape:', X_train.shape)\n",
    "print('Training y_train Shape:', y_train.shape)\n",
    "print('Testing X_test Shape:', X_test.shape)\n",
    "print('Testing y_test Shape:', y_test.shape)"
   ]
  },
  {
   "cell_type": "markdown",
   "metadata": {},
   "source": [
    "<font color='PaleVioletRed'> \n",
    "### Random Forest Classification Model"
   ]
  },
  {
   "cell_type": "markdown",
   "metadata": {},
   "source": [
    "<font color='MediumVioletRed'>\n",
    "\n",
    "##### Random Forest\n",
    "Random Forest Classifier was selected as the first classifier in the last section because it works well with categorical data and missing data. In this first example, we will use the categorical data with the missing data filled in with a new category '?'."
   ]
  },
  {
   "cell_type": "code",
   "execution_count": 168,
   "metadata": {
    "scrolled": true
   },
   "outputs": [],
   "source": [
    "from sklearn.ensemble import RandomForestClassifier\n",
    "clf = RandomForestClassifier(n_estimators=100, random_state=0)\n",
    "\n",
    "clf.fit(X_train, y_train)\n",
    "\n",
    "predicted= clf.predict(X_test) "
   ]
  },
  {
   "cell_type": "code",
   "execution_count": 169,
   "metadata": {},
   "outputs": [
    {
     "name": "stdout",
     "output_type": "stream",
     "text": [
      "Accuracy: 1.0\n"
     ]
    }
   ],
   "source": [
    "from sklearn import metrics\n",
    "print(\"Accuracy:\",metrics.accuracy_score(y_test, predicted))"
   ]
  },
  {
   "cell_type": "code",
   "execution_count": 170,
   "metadata": {},
   "outputs": [
    {
     "name": "stdout",
     "output_type": "stream",
     "text": [
      "              precision    recall  f1-score   support\n",
      "\n",
      "           0       1.00      1.00      1.00      1040\n",
      "           1       1.00      1.00      1.00       991\n",
      "\n",
      "   micro avg       1.00      1.00      1.00      2031\n",
      "   macro avg       1.00      1.00      1.00      2031\n",
      "weighted avg       1.00      1.00      1.00      2031\n",
      "\n"
     ]
    }
   ],
   "source": [
    "print(metrics.classification_report(y_test, predicted))"
   ]
  },
  {
   "cell_type": "code",
   "execution_count": 171,
   "metadata": {},
   "outputs": [
    {
     "name": "stdout",
     "output_type": "stream",
     "text": [
      "[[1040    0]\n",
      " [   0  991]]\n",
      "1.0\n"
     ]
    },
    {
     "name": "stderr",
     "output_type": "stream",
     "text": [
      "/home/ariggs/myENV/lib/python3.5/site-packages/sklearn/ensemble/forest.py:248: FutureWarning: The default value of n_estimators will change from 10 in version 0.20 to 100 in 0.22.\n",
      "  \"10 in version 0.20 to 100 in 0.22.\", FutureWarning)\n"
     ]
    }
   ],
   "source": [
    "#set the max depth to 10 trees\n",
    "from sklearn.ensemble import RandomForestClassifier\n",
    "from sklearn.metrics import confusion_matrix, accuracy_score\n",
    "rf = RandomForestClassifier(max_depth=10) #10 trees\n",
    "rf.fit(X_train, y_train)\n",
    "rf_predict = rf.predict(X_test)\n",
    "rf_predict_prob = rf.predict_proba(X_test)\n",
    "\n",
    "rf_conf_matrix = confusion_matrix(y_test,rf_predict)\n",
    "rf_accuracy_score = accuracy_score(y_test, rf_predict)\n",
    "\n",
    "print(rf_conf_matrix)\n",
    "print(rf_accuracy_score)"
   ]
  },
  {
   "cell_type": "markdown",
   "metadata": {},
   "source": [
    "<font color='MediumVioletRed'>\n",
    "Random Forest classifier rendered 100% accuracy, so let's cross validate it to explore why."
   ]
  },
  {
   "cell_type": "code",
   "execution_count": 172,
   "metadata": {},
   "outputs": [],
   "source": [
    "from sklearn.model_selection import cross_val_predict\n",
    "\n",
    "y_pred_cv = cross_val_predict(rf, X_test, y_test, cv=5)"
   ]
  },
  {
   "cell_type": "code",
   "execution_count": 173,
   "metadata": {},
   "outputs": [
    {
     "data": {
      "text/plain": [
       "array([[1040,    0],\n",
       "       [   0,  991]])"
      ]
     },
     "execution_count": 173,
     "metadata": {},
     "output_type": "execute_result"
    }
   ],
   "source": [
    "confusion_matrix(y_pred_cv, y_test)"
   ]
  },
  {
   "cell_type": "code",
   "execution_count": 174,
   "metadata": {},
   "outputs": [
    {
     "name": "stdout",
     "output_type": "stream",
     "text": [
      "[1. 1. 1. 1. 1. 1. 1. 1. 1. 1. 1. 1. 1. 1. 1. 1. 1. 1. 1. 1. 1. 1. 1. 1.\n",
      " 1. 1. 1. 1. 1. 1.]\n",
      "Accuracy: 1.00 (+/- 0.00)\n"
     ]
    }
   ],
   "source": [
    "from sklearn.model_selection import cross_val_score\n",
    "cv_score = cross_val_score(rf, X_train, y_train, cv = 30)\n",
    "print(cv_score)\n",
    "print(\"Accuracy: %0.2f (+/- %0.2f)\" % (cv_score.mean(), cv_score.std() * 2))"
   ]
  },
  {
   "cell_type": "markdown",
   "metadata": {},
   "source": [
    "<font color='MediumVioletRed'>\n",
    "Let's test the entire dataset now for accuracy."
   ]
  },
  {
   "cell_type": "code",
   "execution_count": 175,
   "metadata": {},
   "outputs": [
    {
     "name": "stdout",
     "output_type": "stream",
     "text": [
      "Accuracy: 0.97 (+/- 0.19)\n"
     ]
    }
   ],
   "source": [
    "scores = cross_val_score(rf, X, y, cv=10)\n",
    "print(\"Accuracy: %0.2f (+/- %0.2f)\" % (scores.mean(), scores.std() * 2))"
   ]
  },
  {
   "cell_type": "markdown",
   "metadata": {},
   "source": [
    "<font color='MediumVioletRed'>\n",
    "\n",
    "#### Perform one-hot encoding using .get_dummies"
   ]
  },
  {
   "cell_type": "code",
   "execution_count": 194,
   "metadata": {},
   "outputs": [
    {
     "data": {
      "text/html": [
       "<div>\n",
       "<style scoped>\n",
       "    .dataframe tbody tr th:only-of-type {\n",
       "        vertical-align: middle;\n",
       "    }\n",
       "\n",
       "    .dataframe tbody tr th {\n",
       "        vertical-align: top;\n",
       "    }\n",
       "\n",
       "    .dataframe thead th {\n",
       "        text-align: right;\n",
       "    }\n",
       "</style>\n",
       "<table border=\"1\" class=\"dataframe\">\n",
       "  <thead>\n",
       "    <tr style=\"text-align: right;\">\n",
       "      <th></th>\n",
       "      <th>class</th>\n",
       "      <th>cap-shape</th>\n",
       "      <th>cap-surface</th>\n",
       "      <th>cap-color</th>\n",
       "      <th>bruises?</th>\n",
       "      <th>odor</th>\n",
       "      <th>gill-attachment</th>\n",
       "      <th>gill-spacing</th>\n",
       "      <th>gill-size</th>\n",
       "      <th>gill-color</th>\n",
       "      <th>...</th>\n",
       "      <th>stalk-surface-above-ring</th>\n",
       "      <th>stalk-surface-below-ring</th>\n",
       "      <th>stalk-color-above-ring</th>\n",
       "      <th>stalk-color-below-ring</th>\n",
       "      <th>veil-color</th>\n",
       "      <th>ring-number</th>\n",
       "      <th>ring-type</th>\n",
       "      <th>spore-print-color</th>\n",
       "      <th>population</th>\n",
       "      <th>habitat</th>\n",
       "    </tr>\n",
       "  </thead>\n",
       "  <tbody>\n",
       "    <tr>\n",
       "      <th>0</th>\n",
       "      <td>p</td>\n",
       "      <td>x</td>\n",
       "      <td>s</td>\n",
       "      <td>n</td>\n",
       "      <td>t</td>\n",
       "      <td>p</td>\n",
       "      <td>f</td>\n",
       "      <td>c</td>\n",
       "      <td>n</td>\n",
       "      <td>k</td>\n",
       "      <td>...</td>\n",
       "      <td>s</td>\n",
       "      <td>s</td>\n",
       "      <td>w</td>\n",
       "      <td>w</td>\n",
       "      <td>w</td>\n",
       "      <td>o</td>\n",
       "      <td>p</td>\n",
       "      <td>k</td>\n",
       "      <td>s</td>\n",
       "      <td>u</td>\n",
       "    </tr>\n",
       "    <tr>\n",
       "      <th>1</th>\n",
       "      <td>e</td>\n",
       "      <td>x</td>\n",
       "      <td>s</td>\n",
       "      <td>y</td>\n",
       "      <td>t</td>\n",
       "      <td>a</td>\n",
       "      <td>f</td>\n",
       "      <td>c</td>\n",
       "      <td>b</td>\n",
       "      <td>k</td>\n",
       "      <td>...</td>\n",
       "      <td>s</td>\n",
       "      <td>s</td>\n",
       "      <td>w</td>\n",
       "      <td>w</td>\n",
       "      <td>w</td>\n",
       "      <td>o</td>\n",
       "      <td>p</td>\n",
       "      <td>n</td>\n",
       "      <td>n</td>\n",
       "      <td>g</td>\n",
       "    </tr>\n",
       "    <tr>\n",
       "      <th>2</th>\n",
       "      <td>e</td>\n",
       "      <td>b</td>\n",
       "      <td>s</td>\n",
       "      <td>w</td>\n",
       "      <td>t</td>\n",
       "      <td>l</td>\n",
       "      <td>f</td>\n",
       "      <td>c</td>\n",
       "      <td>b</td>\n",
       "      <td>n</td>\n",
       "      <td>...</td>\n",
       "      <td>s</td>\n",
       "      <td>s</td>\n",
       "      <td>w</td>\n",
       "      <td>w</td>\n",
       "      <td>w</td>\n",
       "      <td>o</td>\n",
       "      <td>p</td>\n",
       "      <td>n</td>\n",
       "      <td>n</td>\n",
       "      <td>m</td>\n",
       "    </tr>\n",
       "    <tr>\n",
       "      <th>3</th>\n",
       "      <td>p</td>\n",
       "      <td>x</td>\n",
       "      <td>y</td>\n",
       "      <td>w</td>\n",
       "      <td>t</td>\n",
       "      <td>p</td>\n",
       "      <td>f</td>\n",
       "      <td>c</td>\n",
       "      <td>n</td>\n",
       "      <td>n</td>\n",
       "      <td>...</td>\n",
       "      <td>s</td>\n",
       "      <td>s</td>\n",
       "      <td>w</td>\n",
       "      <td>w</td>\n",
       "      <td>w</td>\n",
       "      <td>o</td>\n",
       "      <td>p</td>\n",
       "      <td>k</td>\n",
       "      <td>s</td>\n",
       "      <td>u</td>\n",
       "    </tr>\n",
       "    <tr>\n",
       "      <th>4</th>\n",
       "      <td>e</td>\n",
       "      <td>x</td>\n",
       "      <td>s</td>\n",
       "      <td>g</td>\n",
       "      <td>f</td>\n",
       "      <td>n</td>\n",
       "      <td>f</td>\n",
       "      <td>w</td>\n",
       "      <td>b</td>\n",
       "      <td>k</td>\n",
       "      <td>...</td>\n",
       "      <td>s</td>\n",
       "      <td>s</td>\n",
       "      <td>w</td>\n",
       "      <td>w</td>\n",
       "      <td>w</td>\n",
       "      <td>o</td>\n",
       "      <td>e</td>\n",
       "      <td>n</td>\n",
       "      <td>a</td>\n",
       "      <td>g</td>\n",
       "    </tr>\n",
       "  </tbody>\n",
       "</table>\n",
       "<p>5 rows × 22 columns</p>\n",
       "</div>"
      ],
      "text/plain": [
       "  class cap-shape cap-surface cap-color bruises? odor gill-attachment  \\\n",
       "0     p         x           s         n        t    p               f   \n",
       "1     e         x           s         y        t    a               f   \n",
       "2     e         b           s         w        t    l               f   \n",
       "3     p         x           y         w        t    p               f   \n",
       "4     e         x           s         g        f    n               f   \n",
       "\n",
       "  gill-spacing gill-size gill-color   ...   stalk-surface-above-ring  \\\n",
       "0            c         n          k   ...                          s   \n",
       "1            c         b          k   ...                          s   \n",
       "2            c         b          n   ...                          s   \n",
       "3            c         n          n   ...                          s   \n",
       "4            w         b          k   ...                          s   \n",
       "\n",
       "  stalk-surface-below-ring stalk-color-above-ring stalk-color-below-ring  \\\n",
       "0                        s                      w                      w   \n",
       "1                        s                      w                      w   \n",
       "2                        s                      w                      w   \n",
       "3                        s                      w                      w   \n",
       "4                        s                      w                      w   \n",
       "\n",
       "  veil-color ring-number ring-type spore-print-color population habitat  \n",
       "0          w           o         p                 k          s       u  \n",
       "1          w           o         p                 n          n       g  \n",
       "2          w           o         p                 n          n       m  \n",
       "3          w           o         p                 k          s       u  \n",
       "4          w           o         e                 n          a       g  \n",
       "\n",
       "[5 rows x 22 columns]"
      ]
     },
     "execution_count": 194,
     "metadata": {},
     "output_type": "execute_result"
    }
   ],
   "source": [
    "df.head()"
   ]
  },
  {
   "cell_type": "code",
   "execution_count": 195,
   "metadata": {},
   "outputs": [],
   "source": [
    "y=df['class'] #segments our target\n",
    "X=df.iloc[:,1:23] #from rest of the data"
   ]
  },
  {
   "cell_type": "code",
   "execution_count": 196,
   "metadata": {},
   "outputs": [
    {
     "data": {
      "text/html": [
       "<div>\n",
       "<style scoped>\n",
       "    .dataframe tbody tr th:only-of-type {\n",
       "        vertical-align: middle;\n",
       "    }\n",
       "\n",
       "    .dataframe tbody tr th {\n",
       "        vertical-align: top;\n",
       "    }\n",
       "\n",
       "    .dataframe thead th {\n",
       "        text-align: right;\n",
       "    }\n",
       "</style>\n",
       "<table border=\"1\" class=\"dataframe\">\n",
       "  <thead>\n",
       "    <tr style=\"text-align: right;\">\n",
       "      <th></th>\n",
       "      <th>cap-shape_b</th>\n",
       "      <th>cap-shape_c</th>\n",
       "      <th>cap-shape_f</th>\n",
       "      <th>cap-shape_k</th>\n",
       "      <th>cap-shape_s</th>\n",
       "      <th>cap-shape_x</th>\n",
       "      <th>cap-surface_f</th>\n",
       "      <th>cap-surface_g</th>\n",
       "      <th>cap-surface_s</th>\n",
       "      <th>cap-surface_y</th>\n",
       "      <th>...</th>\n",
       "      <th>population_s</th>\n",
       "      <th>population_v</th>\n",
       "      <th>population_y</th>\n",
       "      <th>habitat_d</th>\n",
       "      <th>habitat_g</th>\n",
       "      <th>habitat_l</th>\n",
       "      <th>habitat_m</th>\n",
       "      <th>habitat_p</th>\n",
       "      <th>habitat_u</th>\n",
       "      <th>habitat_w</th>\n",
       "    </tr>\n",
       "  </thead>\n",
       "  <tbody>\n",
       "    <tr>\n",
       "      <th>0</th>\n",
       "      <td>0</td>\n",
       "      <td>0</td>\n",
       "      <td>0</td>\n",
       "      <td>0</td>\n",
       "      <td>0</td>\n",
       "      <td>1</td>\n",
       "      <td>0</td>\n",
       "      <td>0</td>\n",
       "      <td>1</td>\n",
       "      <td>0</td>\n",
       "      <td>...</td>\n",
       "      <td>1</td>\n",
       "      <td>0</td>\n",
       "      <td>0</td>\n",
       "      <td>0</td>\n",
       "      <td>0</td>\n",
       "      <td>0</td>\n",
       "      <td>0</td>\n",
       "      <td>0</td>\n",
       "      <td>1</td>\n",
       "      <td>0</td>\n",
       "    </tr>\n",
       "    <tr>\n",
       "      <th>1</th>\n",
       "      <td>0</td>\n",
       "      <td>0</td>\n",
       "      <td>0</td>\n",
       "      <td>0</td>\n",
       "      <td>0</td>\n",
       "      <td>1</td>\n",
       "      <td>0</td>\n",
       "      <td>0</td>\n",
       "      <td>1</td>\n",
       "      <td>0</td>\n",
       "      <td>...</td>\n",
       "      <td>0</td>\n",
       "      <td>0</td>\n",
       "      <td>0</td>\n",
       "      <td>0</td>\n",
       "      <td>1</td>\n",
       "      <td>0</td>\n",
       "      <td>0</td>\n",
       "      <td>0</td>\n",
       "      <td>0</td>\n",
       "      <td>0</td>\n",
       "    </tr>\n",
       "    <tr>\n",
       "      <th>2</th>\n",
       "      <td>1</td>\n",
       "      <td>0</td>\n",
       "      <td>0</td>\n",
       "      <td>0</td>\n",
       "      <td>0</td>\n",
       "      <td>0</td>\n",
       "      <td>0</td>\n",
       "      <td>0</td>\n",
       "      <td>1</td>\n",
       "      <td>0</td>\n",
       "      <td>...</td>\n",
       "      <td>0</td>\n",
       "      <td>0</td>\n",
       "      <td>0</td>\n",
       "      <td>0</td>\n",
       "      <td>0</td>\n",
       "      <td>0</td>\n",
       "      <td>1</td>\n",
       "      <td>0</td>\n",
       "      <td>0</td>\n",
       "      <td>0</td>\n",
       "    </tr>\n",
       "    <tr>\n",
       "      <th>3</th>\n",
       "      <td>0</td>\n",
       "      <td>0</td>\n",
       "      <td>0</td>\n",
       "      <td>0</td>\n",
       "      <td>0</td>\n",
       "      <td>1</td>\n",
       "      <td>0</td>\n",
       "      <td>0</td>\n",
       "      <td>0</td>\n",
       "      <td>1</td>\n",
       "      <td>...</td>\n",
       "      <td>1</td>\n",
       "      <td>0</td>\n",
       "      <td>0</td>\n",
       "      <td>0</td>\n",
       "      <td>0</td>\n",
       "      <td>0</td>\n",
       "      <td>0</td>\n",
       "      <td>0</td>\n",
       "      <td>1</td>\n",
       "      <td>0</td>\n",
       "    </tr>\n",
       "    <tr>\n",
       "      <th>4</th>\n",
       "      <td>0</td>\n",
       "      <td>0</td>\n",
       "      <td>0</td>\n",
       "      <td>0</td>\n",
       "      <td>0</td>\n",
       "      <td>1</td>\n",
       "      <td>0</td>\n",
       "      <td>0</td>\n",
       "      <td>1</td>\n",
       "      <td>0</td>\n",
       "      <td>...</td>\n",
       "      <td>0</td>\n",
       "      <td>0</td>\n",
       "      <td>0</td>\n",
       "      <td>0</td>\n",
       "      <td>1</td>\n",
       "      <td>0</td>\n",
       "      <td>0</td>\n",
       "      <td>0</td>\n",
       "      <td>0</td>\n",
       "      <td>0</td>\n",
       "    </tr>\n",
       "  </tbody>\n",
       "</table>\n",
       "<p>5 rows × 116 columns</p>\n",
       "</div>"
      ],
      "text/plain": [
       "   cap-shape_b  cap-shape_c  cap-shape_f  cap-shape_k  cap-shape_s  \\\n",
       "0            0            0            0            0            0   \n",
       "1            0            0            0            0            0   \n",
       "2            1            0            0            0            0   \n",
       "3            0            0            0            0            0   \n",
       "4            0            0            0            0            0   \n",
       "\n",
       "   cap-shape_x  cap-surface_f  cap-surface_g  cap-surface_s  cap-surface_y  \\\n",
       "0            1              0              0              1              0   \n",
       "1            1              0              0              1              0   \n",
       "2            0              0              0              1              0   \n",
       "3            1              0              0              0              1   \n",
       "4            1              0              0              1              0   \n",
       "\n",
       "     ...      population_s  population_v  population_y  habitat_d  habitat_g  \\\n",
       "0    ...                 1             0             0          0          0   \n",
       "1    ...                 0             0             0          0          1   \n",
       "2    ...                 0             0             0          0          0   \n",
       "3    ...                 1             0             0          0          0   \n",
       "4    ...                 0             0             0          0          1   \n",
       "\n",
       "   habitat_l  habitat_m  habitat_p  habitat_u  habitat_w  \n",
       "0          0          0          0          1          0  \n",
       "1          0          0          0          0          0  \n",
       "2          0          1          0          0          0  \n",
       "3          0          0          0          1          0  \n",
       "4          0          0          0          0          0  \n",
       "\n",
       "[5 rows x 116 columns]"
      ]
     },
     "execution_count": 196,
     "metadata": {},
     "output_type": "execute_result"
    }
   ],
   "source": [
    "X_enc = pd.get_dummies(X)\n",
    "X_enc.head()"
   ]
  },
  {
   "cell_type": "code",
   "execution_count": 197,
   "metadata": {},
   "outputs": [],
   "source": [
    "#target uses Label Encoder since we only have two classes\n",
    "from sklearn import preprocessing\n",
    "le = preprocessing.LabelEncoder()\n",
    "y_enc = le.fit_transform(y)"
   ]
  },
  {
   "cell_type": "code",
   "execution_count": 198,
   "metadata": {},
   "outputs": [
    {
     "data": {
      "text/plain": [
       "(8124, 116)"
      ]
     },
     "metadata": {},
     "output_type": "display_data"
    },
    {
     "data": {
      "text/plain": [
       "(8124,)"
      ]
     },
     "metadata": {},
     "output_type": "display_data"
    }
   ],
   "source": [
    "display(X_enc.shape) #renders 117 features, up from 22 -> could lead to overfitting, so need to test this later\n",
    "display(y_enc.shape)"
   ]
  },
  {
   "cell_type": "markdown",
   "metadata": {},
   "source": [
    "<font color='MediumVioletRed'>\n",
    "\n",
    "##### Random Forest"
   ]
  },
  {
   "cell_type": "code",
   "execution_count": 199,
   "metadata": {},
   "outputs": [
    {
     "name": "stdout",
     "output_type": "stream",
     "text": [
      "Training X_train Shape: (6093, 116)\n",
      "Training y_train Shape: (6093,)\n",
      "Testing X_test Shape: (2031, 116)\n",
      "Testing y_test Shape: (2031,)\n"
     ]
    }
   ],
   "source": [
    "from sklearn.model_selection import train_test_split\n",
    "X_train, X_test, y_train, y_test = train_test_split(X_enc,y_enc, test_size=0.25,random_state=109) # 60% training and 40% test\n",
    "\n",
    "print('Training X_train Shape:', X_train.shape)\n",
    "print('Training y_train Shape:', y_train.shape)\n",
    "print('Testing X_test Shape:', X_test.shape)\n",
    "print('Testing y_test Shape:', y_test.shape)"
   ]
  },
  {
   "cell_type": "code",
   "execution_count": 200,
   "metadata": {},
   "outputs": [],
   "source": [
    "from sklearn.ensemble import RandomForestClassifier\n",
    "clf = RandomForestClassifier(n_estimators=100, random_state=0)\n",
    "\n",
    "clf.fit(X_train, y_train)\n",
    "\n",
    "predicted= clf.predict(X_test) "
   ]
  },
  {
   "cell_type": "code",
   "execution_count": 201,
   "metadata": {},
   "outputs": [
    {
     "name": "stdout",
     "output_type": "stream",
     "text": [
      "Accuracy: 1.0\n"
     ]
    }
   ],
   "source": [
    "from sklearn import metrics\n",
    "print(\"Accuracy:\",metrics.accuracy_score(y_test, predicted))"
   ]
  },
  {
   "cell_type": "code",
   "execution_count": 202,
   "metadata": {},
   "outputs": [
    {
     "name": "stdout",
     "output_type": "stream",
     "text": [
      "              precision    recall  f1-score   support\n",
      "\n",
      "           0       1.00      1.00      1.00      1040\n",
      "           1       1.00      1.00      1.00       991\n",
      "\n",
      "   micro avg       1.00      1.00      1.00      2031\n",
      "   macro avg       1.00      1.00      1.00      2031\n",
      "weighted avg       1.00      1.00      1.00      2031\n",
      "\n"
     ]
    }
   ],
   "source": [
    "print(metrics.classification_report(y_test, predicted))"
   ]
  },
  {
   "cell_type": "code",
   "execution_count": 203,
   "metadata": {},
   "outputs": [
    {
     "name": "stdout",
     "output_type": "stream",
     "text": [
      "[[1040    0]\n",
      " [   0  991]]\n",
      "1.0\n"
     ]
    },
    {
     "name": "stderr",
     "output_type": "stream",
     "text": [
      "/home/ariggs/myENV/lib/python3.5/site-packages/sklearn/ensemble/forest.py:248: FutureWarning: The default value of n_estimators will change from 10 in version 0.20 to 100 in 0.22.\n",
      "  \"10 in version 0.20 to 100 in 0.22.\", FutureWarning)\n"
     ]
    }
   ],
   "source": [
    "#set the max depth to 10 trees\n",
    "from sklearn.ensemble import RandomForestClassifier\n",
    "from sklearn.metrics import confusion_matrix, accuracy_score\n",
    "rf = RandomForestClassifier(max_depth=10) #10 trees\n",
    "rf.fit(X_train, y_train)\n",
    "rf_predict = rf.predict(X_test)\n",
    "rf_predict_prob = rf.predict_proba(X_test)\n",
    "\n",
    "rf_conf_matrix = confusion_matrix(y_test,rf_predict)\n",
    "rf_accuracy_score = accuracy_score(y_test, rf_predict)\n",
    "\n",
    "print(rf_conf_matrix)\n",
    "print(rf_accuracy_score)"
   ]
  },
  {
   "cell_type": "code",
   "execution_count": 204,
   "metadata": {},
   "outputs": [],
   "source": [
    "#cross validating again\n",
    "from sklearn.model_selection import cross_val_predict\n",
    "\n",
    "y_pred_cv = cross_val_predict(rf, X_test, y_test, cv=5)"
   ]
  },
  {
   "cell_type": "code",
   "execution_count": 205,
   "metadata": {},
   "outputs": [
    {
     "data": {
      "text/plain": [
       "array([[1040,    1],\n",
       "       [   0,  990]])"
      ]
     },
     "execution_count": 205,
     "metadata": {},
     "output_type": "execute_result"
    }
   ],
   "source": [
    "confusion_matrix(y_pred_cv, y_test)"
   ]
  },
  {
   "cell_type": "code",
   "execution_count": 206,
   "metadata": {},
   "outputs": [
    {
     "name": "stdout",
     "output_type": "stream",
     "text": [
      "[1. 1. 1. 1. 1. 1. 1. 1. 1. 1. 1. 1. 1. 1. 1. 1. 1. 1. 1. 1. 1. 1. 1. 1.\n",
      " 1. 1. 1. 1. 1. 1.]\n",
      "Accuracy: 1.00 (+/- 0.00)\n"
     ]
    }
   ],
   "source": [
    "from sklearn.model_selection import cross_val_score\n",
    "cv_score = cross_val_score(rf, X_train, y_train, cv = 30)\n",
    "print(cv_score)\n",
    "print(\"Accuracy: %0.2f (+/- %0.2f)\" % (cv_score.mean(), cv_score.std() * 2))"
   ]
  },
  {
   "cell_type": "markdown",
   "metadata": {},
   "source": [
    "<font color='MediumVioletRed'>\n",
    "Let's test the entire dataset again."
   ]
  },
  {
   "cell_type": "code",
   "execution_count": 208,
   "metadata": {},
   "outputs": [
    {
     "name": "stdout",
     "output_type": "stream",
     "text": [
      "Accuracy: 0.97 (+/- 0.19)\n"
     ]
    }
   ],
   "source": [
    "scores = cross_val_score(rf, X_enc, y_enc, cv=10)\n",
    "print(\"Accuracy: %0.2f (+/- %0.2f)\" % (scores.mean(), scores.std() * 2))"
   ]
  },
  {
   "cell_type": "markdown",
   "metadata": {},
   "source": [
    "<font color='MediumVioletRed'>\n",
    "Both Random Forest models with different encoding systems rendered 100% accuracy score. When cross validated, the one-hot encoding and label encoding both had an accuracy score of 97%. "
   ]
  },
  {
   "cell_type": "markdown",
   "metadata": {},
   "source": [
    "<font color='PaleVioletRed'> \n",
    "### Impute Missing Values"
   ]
  },
  {
   "cell_type": "code",
   "execution_count": 101,
   "metadata": {},
   "outputs": [
    {
     "data": {
      "text/html": [
       "<div>\n",
       "<style scoped>\n",
       "    .dataframe tbody tr th:only-of-type {\n",
       "        vertical-align: middle;\n",
       "    }\n",
       "\n",
       "    .dataframe tbody tr th {\n",
       "        vertical-align: top;\n",
       "    }\n",
       "\n",
       "    .dataframe thead th {\n",
       "        text-align: right;\n",
       "    }\n",
       "</style>\n",
       "<table border=\"1\" class=\"dataframe\">\n",
       "  <thead>\n",
       "    <tr style=\"text-align: right;\">\n",
       "      <th></th>\n",
       "      <th>class</th>\n",
       "      <th>cap-shape</th>\n",
       "      <th>cap-surface</th>\n",
       "      <th>cap-color</th>\n",
       "      <th>bruises?</th>\n",
       "      <th>odor</th>\n",
       "      <th>gill-attachment</th>\n",
       "      <th>gill-spacing</th>\n",
       "      <th>gill-size</th>\n",
       "      <th>gill-color</th>\n",
       "      <th>...</th>\n",
       "      <th>stalk-surface-above-ring</th>\n",
       "      <th>stalk-surface-below-ring</th>\n",
       "      <th>stalk-color-above-ring</th>\n",
       "      <th>stalk-color-below-ring</th>\n",
       "      <th>veil-color</th>\n",
       "      <th>ring-number</th>\n",
       "      <th>ring-type</th>\n",
       "      <th>spore-print-color</th>\n",
       "      <th>population</th>\n",
       "      <th>habitat</th>\n",
       "    </tr>\n",
       "  </thead>\n",
       "  <tbody>\n",
       "    <tr>\n",
       "      <th>0</th>\n",
       "      <td>p</td>\n",
       "      <td>x</td>\n",
       "      <td>s</td>\n",
       "      <td>n</td>\n",
       "      <td>t</td>\n",
       "      <td>p</td>\n",
       "      <td>f</td>\n",
       "      <td>c</td>\n",
       "      <td>n</td>\n",
       "      <td>k</td>\n",
       "      <td>...</td>\n",
       "      <td>s</td>\n",
       "      <td>s</td>\n",
       "      <td>w</td>\n",
       "      <td>w</td>\n",
       "      <td>w</td>\n",
       "      <td>o</td>\n",
       "      <td>p</td>\n",
       "      <td>k</td>\n",
       "      <td>s</td>\n",
       "      <td>u</td>\n",
       "    </tr>\n",
       "    <tr>\n",
       "      <th>1</th>\n",
       "      <td>e</td>\n",
       "      <td>x</td>\n",
       "      <td>s</td>\n",
       "      <td>y</td>\n",
       "      <td>t</td>\n",
       "      <td>a</td>\n",
       "      <td>f</td>\n",
       "      <td>c</td>\n",
       "      <td>b</td>\n",
       "      <td>k</td>\n",
       "      <td>...</td>\n",
       "      <td>s</td>\n",
       "      <td>s</td>\n",
       "      <td>w</td>\n",
       "      <td>w</td>\n",
       "      <td>w</td>\n",
       "      <td>o</td>\n",
       "      <td>p</td>\n",
       "      <td>n</td>\n",
       "      <td>n</td>\n",
       "      <td>g</td>\n",
       "    </tr>\n",
       "    <tr>\n",
       "      <th>2</th>\n",
       "      <td>e</td>\n",
       "      <td>b</td>\n",
       "      <td>s</td>\n",
       "      <td>w</td>\n",
       "      <td>t</td>\n",
       "      <td>l</td>\n",
       "      <td>f</td>\n",
       "      <td>c</td>\n",
       "      <td>b</td>\n",
       "      <td>n</td>\n",
       "      <td>...</td>\n",
       "      <td>s</td>\n",
       "      <td>s</td>\n",
       "      <td>w</td>\n",
       "      <td>w</td>\n",
       "      <td>w</td>\n",
       "      <td>o</td>\n",
       "      <td>p</td>\n",
       "      <td>n</td>\n",
       "      <td>n</td>\n",
       "      <td>m</td>\n",
       "    </tr>\n",
       "    <tr>\n",
       "      <th>3</th>\n",
       "      <td>p</td>\n",
       "      <td>x</td>\n",
       "      <td>y</td>\n",
       "      <td>w</td>\n",
       "      <td>t</td>\n",
       "      <td>p</td>\n",
       "      <td>f</td>\n",
       "      <td>c</td>\n",
       "      <td>n</td>\n",
       "      <td>n</td>\n",
       "      <td>...</td>\n",
       "      <td>s</td>\n",
       "      <td>s</td>\n",
       "      <td>w</td>\n",
       "      <td>w</td>\n",
       "      <td>w</td>\n",
       "      <td>o</td>\n",
       "      <td>p</td>\n",
       "      <td>k</td>\n",
       "      <td>s</td>\n",
       "      <td>u</td>\n",
       "    </tr>\n",
       "    <tr>\n",
       "      <th>4</th>\n",
       "      <td>e</td>\n",
       "      <td>x</td>\n",
       "      <td>s</td>\n",
       "      <td>g</td>\n",
       "      <td>f</td>\n",
       "      <td>n</td>\n",
       "      <td>f</td>\n",
       "      <td>w</td>\n",
       "      <td>b</td>\n",
       "      <td>k</td>\n",
       "      <td>...</td>\n",
       "      <td>s</td>\n",
       "      <td>s</td>\n",
       "      <td>w</td>\n",
       "      <td>w</td>\n",
       "      <td>w</td>\n",
       "      <td>o</td>\n",
       "      <td>e</td>\n",
       "      <td>n</td>\n",
       "      <td>a</td>\n",
       "      <td>g</td>\n",
       "    </tr>\n",
       "  </tbody>\n",
       "</table>\n",
       "<p>5 rows × 22 columns</p>\n",
       "</div>"
      ],
      "text/plain": [
       "  class cap-shape cap-surface cap-color bruises? odor gill-attachment  \\\n",
       "0     p         x           s         n        t    p               f   \n",
       "1     e         x           s         y        t    a               f   \n",
       "2     e         b           s         w        t    l               f   \n",
       "3     p         x           y         w        t    p               f   \n",
       "4     e         x           s         g        f    n               f   \n",
       "\n",
       "  gill-spacing gill-size gill-color   ...   stalk-surface-above-ring  \\\n",
       "0            c         n          k   ...                          s   \n",
       "1            c         b          k   ...                          s   \n",
       "2            c         b          n   ...                          s   \n",
       "3            c         n          n   ...                          s   \n",
       "4            w         b          k   ...                          s   \n",
       "\n",
       "  stalk-surface-below-ring stalk-color-above-ring stalk-color-below-ring  \\\n",
       "0                        s                      w                      w   \n",
       "1                        s                      w                      w   \n",
       "2                        s                      w                      w   \n",
       "3                        s                      w                      w   \n",
       "4                        s                      w                      w   \n",
       "\n",
       "  veil-color ring-number ring-type spore-print-color population habitat  \n",
       "0          w           o         p                 k          s       u  \n",
       "1          w           o         p                 n          n       g  \n",
       "2          w           o         p                 n          n       m  \n",
       "3          w           o         p                 k          s       u  \n",
       "4          w           o         e                 n          a       g  \n",
       "\n",
       "[5 rows x 22 columns]"
      ]
     },
     "execution_count": 101,
     "metadata": {},
     "output_type": "execute_result"
    }
   ],
   "source": [
    "df.head() #back to our original dataset"
   ]
  },
  {
   "cell_type": "markdown",
   "metadata": {},
   "source": [
    "<font color='MediumVioletRed'>\n",
    "\n",
    "##### Pandas Imputer"
   ]
  },
  {
   "cell_type": "code",
   "execution_count": 102,
   "metadata": {
    "scrolled": true
   },
   "outputs": [],
   "source": [
    "import numpy as np\n",
    "df['stalk-root'].replace('?', np.NaN, inplace=True) #replace categorical place holder ? with NaN"
   ]
  },
  {
   "cell_type": "code",
   "execution_count": 103,
   "metadata": {},
   "outputs": [
    {
     "data": {
      "text/plain": [
       "b    3776\n",
       "e    1120\n",
       "c     556\n",
       "r     192\n",
       "Name: stalk-root, dtype: int64"
      ]
     },
     "execution_count": 103,
     "metadata": {},
     "output_type": "execute_result"
    }
   ],
   "source": [
    "df['stalk-root'].value_counts()"
   ]
  },
  {
   "cell_type": "code",
   "execution_count": 104,
   "metadata": {
    "scrolled": true
   },
   "outputs": [
    {
     "data": {
      "text/plain": [
       "2480"
      ]
     },
     "execution_count": 104,
     "metadata": {},
     "output_type": "execute_result"
    }
   ],
   "source": [
    "df['stalk-root'].isnull().sum()"
   ]
  },
  {
   "cell_type": "code",
   "execution_count": 109,
   "metadata": {
    "scrolled": true
   },
   "outputs": [],
   "source": [
    "df['stalk-root'].fillna(method='ffill', inplace=True) #replace NaNs with forward (ffill) or backwards (bfill) values ->pandas imputer"
   ]
  },
  {
   "cell_type": "markdown",
   "metadata": {},
   "source": [
    "<font color='MediumVioletRed'>\n",
    "Pandas has the option of adding a forward fill or backward fill, meaning it takes the value before or after to fill in the missing values. Since the mushroom dataset has cateogies, this is not the best option as the forward and backward options are choosen at random and the '?' could have a more significant correlation to the other features. For now, we will use forward fill to compare with the imputed '?' category. "
   ]
  },
  {
   "cell_type": "code",
   "execution_count": 110,
   "metadata": {},
   "outputs": [
    {
     "data": {
      "text/plain": [
       "8119    c\n",
       "8120    c\n",
       "8121    c\n",
       "8122    c\n",
       "8123    c\n",
       "Name: stalk-root, dtype: object"
      ]
     },
     "execution_count": 110,
     "metadata": {},
     "output_type": "execute_result"
    }
   ],
   "source": [
    "df['stalk-root'].tail()"
   ]
  },
  {
   "cell_type": "code",
   "execution_count": 114,
   "metadata": {},
   "outputs": [],
   "source": [
    "y=df['class'] #segments our target\n",
    "X=df.iloc[:,1:23] #from rest of the data"
   ]
  },
  {
   "cell_type": "code",
   "execution_count": 115,
   "metadata": {},
   "outputs": [],
   "source": [
    "X_enc = pd.get_dummies(X)"
   ]
  },
  {
   "cell_type": "code",
   "execution_count": 116,
   "metadata": {},
   "outputs": [],
   "source": [
    "#target uses Label Encoder since we only have two classes\n",
    "from sklearn import preprocessing\n",
    "le = preprocessing.LabelEncoder()\n",
    "y_enc = le.fit_transform(y)"
   ]
  },
  {
   "cell_type": "code",
   "execution_count": 118,
   "metadata": {},
   "outputs": [
    {
     "data": {
      "text/plain": [
       "(8124, 115)"
      ]
     },
     "metadata": {},
     "output_type": "display_data"
    },
    {
     "data": {
      "text/plain": [
       "(8124,)"
      ]
     },
     "metadata": {},
     "output_type": "display_data"
    }
   ],
   "source": [
    "display(X_enc.shape)\n",
    "display(y_enc.shape)"
   ]
  },
  {
   "cell_type": "markdown",
   "metadata": {},
   "source": [
    "<font color='MediumVioletRed'>\n",
    "\n",
    "##### Random Forest"
   ]
  },
  {
   "cell_type": "code",
   "execution_count": 119,
   "metadata": {},
   "outputs": [
    {
     "name": "stdout",
     "output_type": "stream",
     "text": [
      "Training X_train Shape: (6093, 115)\n",
      "Training y_train Shape: (6093,)\n",
      "Testing X_test Shape: (2031, 115)\n",
      "Testing y_test Shape: (2031,)\n"
     ]
    }
   ],
   "source": [
    "from sklearn.model_selection import train_test_split\n",
    "X_train, X_test, y_train, y_test = train_test_split(X_enc,y_enc, test_size=0.25,random_state=109) # 60% training and 40% test\n",
    "\n",
    "print('Training X_train Shape:', X_train.shape)\n",
    "print('Training y_train Shape:', y_train.shape)\n",
    "print('Testing X_test Shape:', X_test.shape)\n",
    "print('Testing y_test Shape:', y_test.shape)"
   ]
  },
  {
   "cell_type": "code",
   "execution_count": 120,
   "metadata": {},
   "outputs": [],
   "source": [
    "from sklearn.ensemble import RandomForestClassifier\n",
    "clf = RandomForestClassifier(n_estimators=100, random_state=0)\n",
    "\n",
    "clf.fit(X_train, y_train)\n",
    "\n",
    "predicted= clf.predict(X_test) "
   ]
  },
  {
   "cell_type": "code",
   "execution_count": 121,
   "metadata": {},
   "outputs": [
    {
     "name": "stdout",
     "output_type": "stream",
     "text": [
      "Accuracy: 1.0\n"
     ]
    }
   ],
   "source": [
    "from sklearn import metrics\n",
    "print(\"Accuracy:\",metrics.accuracy_score(y_test, predicted))"
   ]
  },
  {
   "cell_type": "code",
   "execution_count": 122,
   "metadata": {},
   "outputs": [
    {
     "name": "stdout",
     "output_type": "stream",
     "text": [
      "              precision    recall  f1-score   support\n",
      "\n",
      "           0       1.00      1.00      1.00      1040\n",
      "           1       1.00      1.00      1.00       991\n",
      "\n",
      "   micro avg       1.00      1.00      1.00      2031\n",
      "   macro avg       1.00      1.00      1.00      2031\n",
      "weighted avg       1.00      1.00      1.00      2031\n",
      "\n"
     ]
    }
   ],
   "source": [
    "print(metrics.classification_report(y_test, predicted))"
   ]
  },
  {
   "cell_type": "code",
   "execution_count": 123,
   "metadata": {},
   "outputs": [
    {
     "name": "stdout",
     "output_type": "stream",
     "text": [
      "[[1040    0]\n",
      " [   0  991]]\n",
      "1.0\n"
     ]
    },
    {
     "name": "stderr",
     "output_type": "stream",
     "text": [
      "/home/ariggs/myENV/lib/python3.5/site-packages/sklearn/ensemble/forest.py:248: FutureWarning: The default value of n_estimators will change from 10 in version 0.20 to 100 in 0.22.\n",
      "  \"10 in version 0.20 to 100 in 0.22.\", FutureWarning)\n"
     ]
    }
   ],
   "source": [
    "#set the max depth to 10 trees\n",
    "from sklearn.ensemble import RandomForestClassifier\n",
    "from sklearn.metrics import confusion_matrix, accuracy_score\n",
    "rf = RandomForestClassifier(max_depth=10) #10 trees\n",
    "rf.fit(X_train, y_train)\n",
    "rf_predict = rf.predict(X_test)\n",
    "rf_predict_prob = rf.predict_proba(X_test)\n",
    "\n",
    "rf_conf_matrix = confusion_matrix(y_test,rf_predict)\n",
    "rf_accuracy_score = accuracy_score(y_test, rf_predict)\n",
    "\n",
    "print(rf_conf_matrix)\n",
    "print(rf_accuracy_score)"
   ]
  },
  {
   "cell_type": "code",
   "execution_count": 124,
   "metadata": {},
   "outputs": [
    {
     "data": {
      "text/plain": [
       "array([[1040,    1],\n",
       "       [   0,  990]])"
      ]
     },
     "execution_count": 124,
     "metadata": {},
     "output_type": "execute_result"
    }
   ],
   "source": [
    "#cross validating \n",
    "from sklearn.model_selection import cross_val_predict\n",
    "\n",
    "y_pred_cv = cross_val_predict(rf, X_test, y_test, cv=5)\n",
    "\n",
    "confusion_matrix(y_pred_cv, y_test)"
   ]
  },
  {
   "cell_type": "code",
   "execution_count": 125,
   "metadata": {},
   "outputs": [
    {
     "name": "stdout",
     "output_type": "stream",
     "text": [
      "[1. 1. 1. 1. 1. 1. 1. 1. 1. 1. 1. 1. 1. 1. 1. 1. 1. 1. 1. 1. 1. 1. 1. 1.\n",
      " 1. 1. 1. 1. 1. 1.]\n",
      "Accuracy: 1.00 (+/- 0.00)\n"
     ]
    }
   ],
   "source": [
    "from sklearn.model_selection import cross_val_score\n",
    "cv_score = cross_val_score(rf, X_train, y_train, cv = 30)\n",
    "print(cv_score)\n",
    "print(\"Accuracy: %0.2f (+/- %0.2f)\" % (cv_score.mean(), cv_score.std() * 2))"
   ]
  },
  {
   "cell_type": "markdown",
   "metadata": {},
   "source": [
    "<font color='MediumVioletRed'>\n",
    "Let's test the entire dataset again."
   ]
  },
  {
   "cell_type": "code",
   "execution_count": 126,
   "metadata": {},
   "outputs": [
    {
     "name": "stdout",
     "output_type": "stream",
     "text": [
      "Accuracy: 0.97 (+/- 0.18)\n"
     ]
    }
   ],
   "source": [
    "scores = cross_val_score(rf, X_enc, y_enc, cv=10)\n",
    "print(\"Accuracy: %0.2f (+/- %0.2f)\" % (scores.mean(), scores.std() * 2))"
   ]
  },
  {
   "cell_type": "markdown",
   "metadata": {},
   "source": [
    "<font color='MediumVioletRed'>\n",
    "Using forward fill for the missing values rendered 100% accuracy with Random Forest classifier and a 97% cross validation score."
   ]
  },
  {
   "cell_type": "markdown",
   "metadata": {},
   "source": [
    "<font color='PaleVioletRed'> \n",
    "### Model Comparison"
   ]
  },
  {
   "cell_type": "markdown",
   "metadata": {},
   "source": [
    "<font color='MediumVioletRed'>\n",
    "\n",
    "##### Logistic Regression"
   ]
  },
  {
   "cell_type": "code",
   "execution_count": 127,
   "metadata": {},
   "outputs": [],
   "source": [
    "y=df['class'] #segments our target\n",
    "X=df.iloc[:,1:23] #from rest of the data"
   ]
  },
  {
   "cell_type": "code",
   "execution_count": 128,
   "metadata": {},
   "outputs": [
    {
     "data": {
      "text/html": [
       "<div>\n",
       "<style scoped>\n",
       "    .dataframe tbody tr th:only-of-type {\n",
       "        vertical-align: middle;\n",
       "    }\n",
       "\n",
       "    .dataframe tbody tr th {\n",
       "        vertical-align: top;\n",
       "    }\n",
       "\n",
       "    .dataframe thead th {\n",
       "        text-align: right;\n",
       "    }\n",
       "</style>\n",
       "<table border=\"1\" class=\"dataframe\">\n",
       "  <thead>\n",
       "    <tr style=\"text-align: right;\">\n",
       "      <th></th>\n",
       "      <th>cap-shape_b</th>\n",
       "      <th>cap-shape_c</th>\n",
       "      <th>cap-shape_f</th>\n",
       "      <th>cap-shape_k</th>\n",
       "      <th>cap-shape_s</th>\n",
       "      <th>cap-shape_x</th>\n",
       "      <th>cap-surface_f</th>\n",
       "      <th>cap-surface_g</th>\n",
       "      <th>cap-surface_s</th>\n",
       "      <th>cap-surface_y</th>\n",
       "      <th>...</th>\n",
       "      <th>population_s</th>\n",
       "      <th>population_v</th>\n",
       "      <th>population_y</th>\n",
       "      <th>habitat_d</th>\n",
       "      <th>habitat_g</th>\n",
       "      <th>habitat_l</th>\n",
       "      <th>habitat_m</th>\n",
       "      <th>habitat_p</th>\n",
       "      <th>habitat_u</th>\n",
       "      <th>habitat_w</th>\n",
       "    </tr>\n",
       "  </thead>\n",
       "  <tbody>\n",
       "    <tr>\n",
       "      <th>0</th>\n",
       "      <td>0</td>\n",
       "      <td>0</td>\n",
       "      <td>0</td>\n",
       "      <td>0</td>\n",
       "      <td>0</td>\n",
       "      <td>1</td>\n",
       "      <td>0</td>\n",
       "      <td>0</td>\n",
       "      <td>1</td>\n",
       "      <td>0</td>\n",
       "      <td>...</td>\n",
       "      <td>1</td>\n",
       "      <td>0</td>\n",
       "      <td>0</td>\n",
       "      <td>0</td>\n",
       "      <td>0</td>\n",
       "      <td>0</td>\n",
       "      <td>0</td>\n",
       "      <td>0</td>\n",
       "      <td>1</td>\n",
       "      <td>0</td>\n",
       "    </tr>\n",
       "    <tr>\n",
       "      <th>1</th>\n",
       "      <td>0</td>\n",
       "      <td>0</td>\n",
       "      <td>0</td>\n",
       "      <td>0</td>\n",
       "      <td>0</td>\n",
       "      <td>1</td>\n",
       "      <td>0</td>\n",
       "      <td>0</td>\n",
       "      <td>1</td>\n",
       "      <td>0</td>\n",
       "      <td>...</td>\n",
       "      <td>0</td>\n",
       "      <td>0</td>\n",
       "      <td>0</td>\n",
       "      <td>0</td>\n",
       "      <td>1</td>\n",
       "      <td>0</td>\n",
       "      <td>0</td>\n",
       "      <td>0</td>\n",
       "      <td>0</td>\n",
       "      <td>0</td>\n",
       "    </tr>\n",
       "    <tr>\n",
       "      <th>2</th>\n",
       "      <td>1</td>\n",
       "      <td>0</td>\n",
       "      <td>0</td>\n",
       "      <td>0</td>\n",
       "      <td>0</td>\n",
       "      <td>0</td>\n",
       "      <td>0</td>\n",
       "      <td>0</td>\n",
       "      <td>1</td>\n",
       "      <td>0</td>\n",
       "      <td>...</td>\n",
       "      <td>0</td>\n",
       "      <td>0</td>\n",
       "      <td>0</td>\n",
       "      <td>0</td>\n",
       "      <td>0</td>\n",
       "      <td>0</td>\n",
       "      <td>1</td>\n",
       "      <td>0</td>\n",
       "      <td>0</td>\n",
       "      <td>0</td>\n",
       "    </tr>\n",
       "    <tr>\n",
       "      <th>3</th>\n",
       "      <td>0</td>\n",
       "      <td>0</td>\n",
       "      <td>0</td>\n",
       "      <td>0</td>\n",
       "      <td>0</td>\n",
       "      <td>1</td>\n",
       "      <td>0</td>\n",
       "      <td>0</td>\n",
       "      <td>0</td>\n",
       "      <td>1</td>\n",
       "      <td>...</td>\n",
       "      <td>1</td>\n",
       "      <td>0</td>\n",
       "      <td>0</td>\n",
       "      <td>0</td>\n",
       "      <td>0</td>\n",
       "      <td>0</td>\n",
       "      <td>0</td>\n",
       "      <td>0</td>\n",
       "      <td>1</td>\n",
       "      <td>0</td>\n",
       "    </tr>\n",
       "    <tr>\n",
       "      <th>4</th>\n",
       "      <td>0</td>\n",
       "      <td>0</td>\n",
       "      <td>0</td>\n",
       "      <td>0</td>\n",
       "      <td>0</td>\n",
       "      <td>1</td>\n",
       "      <td>0</td>\n",
       "      <td>0</td>\n",
       "      <td>1</td>\n",
       "      <td>0</td>\n",
       "      <td>...</td>\n",
       "      <td>0</td>\n",
       "      <td>0</td>\n",
       "      <td>0</td>\n",
       "      <td>0</td>\n",
       "      <td>1</td>\n",
       "      <td>0</td>\n",
       "      <td>0</td>\n",
       "      <td>0</td>\n",
       "      <td>0</td>\n",
       "      <td>0</td>\n",
       "    </tr>\n",
       "  </tbody>\n",
       "</table>\n",
       "<p>5 rows × 115 columns</p>\n",
       "</div>"
      ],
      "text/plain": [
       "   cap-shape_b  cap-shape_c  cap-shape_f  cap-shape_k  cap-shape_s  \\\n",
       "0            0            0            0            0            0   \n",
       "1            0            0            0            0            0   \n",
       "2            1            0            0            0            0   \n",
       "3            0            0            0            0            0   \n",
       "4            0            0            0            0            0   \n",
       "\n",
       "   cap-shape_x  cap-surface_f  cap-surface_g  cap-surface_s  cap-surface_y  \\\n",
       "0            1              0              0              1              0   \n",
       "1            1              0              0              1              0   \n",
       "2            0              0              0              1              0   \n",
       "3            1              0              0              0              1   \n",
       "4            1              0              0              1              0   \n",
       "\n",
       "     ...      population_s  population_v  population_y  habitat_d  habitat_g  \\\n",
       "0    ...                 1             0             0          0          0   \n",
       "1    ...                 0             0             0          0          1   \n",
       "2    ...                 0             0             0          0          0   \n",
       "3    ...                 1             0             0          0          0   \n",
       "4    ...                 0             0             0          0          1   \n",
       "\n",
       "   habitat_l  habitat_m  habitat_p  habitat_u  habitat_w  \n",
       "0          0          0          0          1          0  \n",
       "1          0          0          0          0          0  \n",
       "2          0          1          0          0          0  \n",
       "3          0          0          0          1          0  \n",
       "4          0          0          0          0          0  \n",
       "\n",
       "[5 rows x 115 columns]"
      ]
     },
     "execution_count": 128,
     "metadata": {},
     "output_type": "execute_result"
    }
   ],
   "source": [
    "X_enc = pd.get_dummies(X)\n",
    "X_enc.head()"
   ]
  },
  {
   "cell_type": "code",
   "execution_count": 129,
   "metadata": {},
   "outputs": [],
   "source": [
    "#target uses Label Encoder since we only have two classes\n",
    "le = preprocessing.LabelEncoder()\n",
    "y_enc = le.fit_transform(y)"
   ]
  },
  {
   "cell_type": "code",
   "execution_count": 130,
   "metadata": {},
   "outputs": [
    {
     "data": {
      "text/plain": [
       "(8124, 115)"
      ]
     },
     "metadata": {},
     "output_type": "display_data"
    },
    {
     "data": {
      "text/plain": [
       "(8124,)"
      ]
     },
     "metadata": {},
     "output_type": "display_data"
    }
   ],
   "source": [
    "display(X_enc.shape) #renders 117 features, up from 22 -> could lead to overfitting, so need to test this later\n",
    "display(y_enc.shape)"
   ]
  },
  {
   "cell_type": "code",
   "execution_count": 131,
   "metadata": {},
   "outputs": [
    {
     "name": "stdout",
     "output_type": "stream",
     "text": [
      "Training X_train Shape: (6093, 115)\n",
      "Training y_train Shape: (6093,)\n",
      "Testing X_test Shape: (2031, 115)\n",
      "Testing y_test Shape: (2031,)\n"
     ]
    }
   ],
   "source": [
    "X_train, X_test, y_train, y_test = train_test_split(X_enc,y_enc, test_size=0.25,random_state=109) # 60% training and 40% test\n",
    "\n",
    "print('Training X_train Shape:', X_train.shape)\n",
    "print('Training y_train Shape:', y_train.shape)\n",
    "print('Testing X_test Shape:', X_test.shape)\n",
    "print('Testing y_test Shape:', y_test.shape)"
   ]
  },
  {
   "cell_type": "code",
   "execution_count": 132,
   "metadata": {},
   "outputs": [
    {
     "name": "stderr",
     "output_type": "stream",
     "text": [
      "/home/ariggs/myENV/lib/python3.5/site-packages/sklearn/linear_model/logistic.py:432: FutureWarning: Default solver will be changed to 'lbfgs' in 0.22. Specify a solver to silence this warning.\n",
      "  FutureWarning)\n"
     ]
    }
   ],
   "source": [
    "from sklearn.linear_model import LogisticRegression\n",
    "lr = LogisticRegression()\n",
    "lr.fit(X_train, y_train)\n",
    "lr_predict =lr.predict(X_test)"
   ]
  },
  {
   "cell_type": "code",
   "execution_count": 133,
   "metadata": {},
   "outputs": [],
   "source": [
    "lr_predict_prob = lr.predict_proba(X_test)"
   ]
  },
  {
   "cell_type": "code",
   "execution_count": 134,
   "metadata": {},
   "outputs": [
    {
     "name": "stdout",
     "output_type": "stream",
     "text": [
      "[[1040    0]\n",
      " [   0  991]]\n",
      "1.0\n"
     ]
    }
   ],
   "source": [
    "lr_conf_matrix = confusion_matrix(y_test, lr_predict)\n",
    "lr_accuracy = accuracy_score(y_test, lr_predict)\n",
    "print(lr_conf_matrix)\n",
    "print(lr_accuracy)"
   ]
  },
  {
   "cell_type": "code",
   "execution_count": 135,
   "metadata": {},
   "outputs": [
    {
     "data": {
      "text/plain": [
       "1.0"
      ]
     },
     "execution_count": 135,
     "metadata": {},
     "output_type": "execute_result"
    }
   ],
   "source": [
    "metrics.f1_score(y_test, lr_predict) "
   ]
  },
  {
   "cell_type": "markdown",
   "metadata": {},
   "source": [
    "<font color='MediumVioletRed'>\n",
    "F1 scoring is used as another performance metric other than accuracy score alone. It also render 100% accuracy. "
   ]
  },
  {
   "cell_type": "markdown",
   "metadata": {},
   "source": [
    "<font color='MediumVioletRed'>\n",
    "\n",
    "##### Decision Tree Classifier"
   ]
  },
  {
   "cell_type": "code",
   "execution_count": 136,
   "metadata": {},
   "outputs": [
    {
     "name": "stdout",
     "output_type": "stream",
     "text": [
      "[[1040    0]\n",
      " [   0  991]]\n",
      "1.0\n"
     ]
    }
   ],
   "source": [
    "from sklearn.tree import DecisionTreeClassifier\n",
    "dt = DecisionTreeClassifier(max_depth=10)\n",
    "\n",
    "dt.fit(X_train,y_train)\n",
    "dt_predict = dt.predict(X_test)\n",
    "dt_predict_prob = dt.predict_proba(X_test)\n",
    "\n",
    "dt_conf_matrix = confusion_matrix(y_test, dt_predict)\n",
    "dt_accuracy_score = accuracy_score(y_test, dt_predict)\n",
    "\n",
    "print(dt_conf_matrix)\n",
    "print(dt_accuracy_score)"
   ]
  },
  {
   "cell_type": "markdown",
   "metadata": {},
   "source": [
    "<font color='MediumVioletRed'>\n",
    "\n",
    "##### GaussianNB"
   ]
  },
  {
   "cell_type": "code",
   "execution_count": 137,
   "metadata": {},
   "outputs": [
    {
     "name": "stdout",
     "output_type": "stream",
     "text": [
      "[[984  56]\n",
      " [  1 990]]\n",
      "0.9719350073855244\n"
     ]
    }
   ],
   "source": [
    "from sklearn.naive_bayes import GaussianNB\n",
    "gnb = GaussianNB()\n",
    "gnb.fit(X_train, y_train)\n",
    "gnb_predict = gnb.predict(X_test)\n",
    "gnb_predict_prob = gnb.predict_proba(X_test)\n",
    "\n",
    "gnb_conf_matrix = confusion_matrix(y_test, gnb_predict)\n",
    "gnb_accuracy_score = accuracy_score(y_test, gnb_predict)\n",
    "\n",
    "print(gnb_conf_matrix)\n",
    "print(gnb_accuracy_score)"
   ]
  },
  {
   "cell_type": "markdown",
   "metadata": {},
   "source": [
    "<font color='PaleVioletRed'> \n",
    "### Conclusion\n",
    "\n",
    "\n",
    "It is unusual that all predicitve modeling tests with classifiers rednered a 100% accuracy score. Using the Random Forest classifier to predict edibility, with four different methods - using the original dataset where missing values for stalk root feature had been imputed with a new category, imputing the missing values with a forward fill category, encoding the labels, and one hot encoding the labels - all received a 100% accuracy score on their predictive models. When comparing, the Decision Tree classifier also received a 100% accuracy score. Cross validating on the test datasets produced 96-97% accuracy scores as well. The Gaussian Naive Bayes model was the only one that produced an accuracy score of 97%. Usually a 100% accuracy score indicates that some input in the model is incorrect, but it is unclear why this particular dataset continues to produce high accuracy scores on the models. There could be an underlying cause for data leakage. \n",
    "    \n",
    "Please note that one should take much more into account when eating mushrooms and one should consult an expert on types of mushrooms with which they are unfamiliar. "
   ]
  },
  {
   "cell_type": "markdown",
   "metadata": {},
   "source": [
    "<font color='MediumVioletRed'>\n",
    "\n",
    "##### N-Estimators"
   ]
  },
  {
   "cell_type": "code",
   "execution_count": 209,
   "metadata": {},
   "outputs": [
    {
     "data": {
      "text/plain": [
       "GridSearchCV(cv=10, error_score='raise-deprecating',\n",
       "       estimator=RandomForestClassifier(bootstrap=True, class_weight=None, criterion='gini',\n",
       "            max_depth=None, max_features='auto', max_leaf_nodes=None,\n",
       "            min_impurity_decrease=0.0, min_impurity_split=None,\n",
       "            min_samples_leaf=1, min_samples_split=2,\n",
       "            min_weight_fraction_leaf=0.0, n_estimators=100, n_jobs=None,\n",
       "            oob_score=False, random_state=0, verbose=0, warm_start=False),\n",
       "       fit_params=None, iid='warn', n_jobs=None,\n",
       "       param_grid=[{'max_features': [2, 4, 6, 8], 'n_estimators': [3, 10, 30, 50, 100]}],\n",
       "       pre_dispatch='2*n_jobs', refit=True, return_train_score='warn',\n",
       "       scoring='f1', verbose=0)"
      ]
     },
     "execution_count": 209,
     "metadata": {},
     "output_type": "execute_result"
    }
   ],
   "source": [
    "from sklearn.model_selection import GridSearchCV\n",
    "\n",
    "param_grid = [\n",
    "{'n_estimators': [3, 10, 30, 50, 100], 'max_features': [2, 4, 6, 8]},\n",
    "]\n",
    "\n",
    "grid_search = GridSearchCV(clf, param_grid, cv=10, scoring='f1')\n",
    "\n",
    "grid_search.fit(X_enc, y_enc)"
   ]
  },
  {
   "cell_type": "code",
   "execution_count": 210,
   "metadata": {},
   "outputs": [
    {
     "data": {
      "text/plain": [
       "{'max_features': 4, 'n_estimators': 3}"
      ]
     },
     "execution_count": 210,
     "metadata": {},
     "output_type": "execute_result"
    }
   ],
   "source": [
    "grid_search.best_params_"
   ]
  },
  {
   "cell_type": "markdown",
   "metadata": {},
   "source": [
    "<font color='MediumVioletRed'>\n",
    "\n",
    "##### Feature Importance"
   ]
  },
  {
   "cell_type": "code",
   "execution_count": 211,
   "metadata": {},
   "outputs": [],
   "source": [
    "feat_score=[]\n",
    "for name, score in zip(X_train.columns, grid_search.best_estimator_.feature_importances_):\n",
    "    feat_score.append([name, score])"
   ]
  },
  {
   "cell_type": "code",
   "execution_count": 212,
   "metadata": {},
   "outputs": [
    {
     "name": "stdout",
     "output_type": "stream",
     "text": [
      "['spore-print-color_h', 0.14493416354862018]\n",
      "['spore-print-color_n', 0.08821606932744992]\n",
      "['stalk-surface-below-ring_k', 0.0707309017301942]\n",
      "['odor_n', 0.07058861589151127]\n",
      "['gill-size_n', 0.05302560472232717]\n",
      "['bruises?_t', 0.04850995612665985]\n",
      "['bruises?_f', 0.047619653615080804]\n",
      "['gill-size_b', 0.042976446696595096]\n",
      "['stalk-surface-above-ring_s', 0.03203810641861422]\n",
      "['gill-spacing_w', 0.02864167172963031]\n",
      "['stalk-shape_t', 0.0279765387515233]\n",
      "['spore-print-color_k', 0.023970046365563363]\n",
      "['stalk-shape_e', 0.019317322319534414]\n",
      "['stalk-color-above-ring_p', 0.018857859920992807]\n",
      "['stalk-color-below-ring_p', 0.018402256427399517]\n",
      "['stalk-color-above-ring_o', 0.016711447731915824]\n",
      "['stalk-surface-below-ring_f', 0.016214404755204474]\n",
      "['stalk-surface-above-ring_f', 0.015277025626487813]\n",
      "['habitat_d', 0.015070162641795342]\n",
      "['ring-number_o', 0.013129074511212724]\n",
      "['cap-surface_f', 0.012462975464833768]\n",
      "['stalk-root_b', 0.012024878064268186]\n",
      "['veil-color_o', 0.011111269915647681]\n",
      "['spore-print-color_r', 0.009500991880241534]\n",
      "['stalk-color-below-ring_c', 0.00891585218973985]\n",
      "['cap-color_n', 0.008516852444319841]\n",
      "['ring-type_f', 0.0070449081562239295]\n",
      "['cap-surface_s', 0.006738165545062859]\n",
      "['stalk-root_e', 0.006422599213385266]\n",
      "['odor_f', 0.0059595635205351065]\n",
      "['odor_y', 0.005917757772323067]\n",
      "['odor_c', 0.005855826275795913]\n",
      "['habitat_l', 0.005686737464556661]\n",
      "['cap-color_w', 0.005621007688695043]\n",
      "['population_v', 0.00501768319784747]\n",
      "['ring-type_l', 0.0049956814050015775]\n",
      "['gill-color_g', 0.004537166259277543]\n",
      "['veil-color_n', 0.004159031979394458]\n",
      "['stalk-root_c', 0.004017561432578906]\n",
      "['cap-shape_f', 0.0038060690821873863]\n",
      "['population_c', 0.0038035817474143907]\n",
      "['population_y', 0.00348761061254879]\n",
      "['cap-color_c', 0.0033615024625881073]\n",
      "['stalk-color-below-ring_n', 0.003337877703492692]\n",
      "['gill-spacing_c', 0.003178359120276456]\n",
      "['stalk-surface-below-ring_y', 0.0030354186441803204]\n",
      "['population_n', 0.0028813060414027065]\n",
      "['stalk-root_?', 0.002734992862114287]\n",
      "['habitat_u', 0.0022512437989615866]\n",
      "['stalk-color-below-ring_w', 0.0022265556198063554]\n",
      "['ring-type_p', 0.0017211926663762015]\n",
      "['spore-print-color_u', 0.0016255929096662904]\n",
      "['stalk-surface-below-ring_s', 0.001608684547262161]\n",
      "['stalk-root_r', 0.0015286690566575763]\n",
      "['cap-color_e', 0.0015017634569323777]\n",
      "['cap-color_p', 0.0012072617279478548]\n",
      "['cap-shape_b', 0.0010744604584402371]\n",
      "['gill-color_p', 0.0009622364230204532]\n",
      "['population_s', 0.0009133304317011124]\n",
      "['spore-print-color_w', 0.0008944698273027894]\n",
      "['cap-shape_x', 0.0008817152324699442]\n",
      "['odor_a', 0.0008572460591931364]\n",
      "['gill-color_e', 0.0007883823228245498]\n",
      "['stalk-surface-above-ring_k', 0.0005346179675208694]\n",
      "['stalk-color-below-ring_g', 0.0005209194664818911]\n",
      "['gill-color_n', 0.0004473037658000427]\n",
      "['gill-color_r', 0.0004278630044992387]\n",
      "['habitat_g', 0.0004100296101183802]\n",
      "['cap-surface_y', 0.00035895432514581666]\n",
      "['habitat_m', 0.0003288370254386623]\n",
      "['odor_s', 0.00019192981846846325]\n",
      "['odor_p', 0.00012322417790634784]\n",
      "['gill-color_w', 8.807654616927618e-05]\n",
      "['gill-color_h', 8.680070599825168e-05]\n",
      "['stalk-surface-above-ring_y', 3.9694576092341864e-05]\n",
      "['cap-color_y', 2.347743727556392e-05]\n",
      "['habitat_p', 1.940368473724208e-05]\n",
      "['gill-color_u', 8.713443031164324e-06]\n",
      "['cap-color_g', 5.65846683694551e-06]\n",
      "['cap-shape_k', 1.1344356705719564e-06]\n",
      "['cap-shape_c', 0.0]\n",
      "['cap-shape_s', 0.0]\n",
      "['cap-surface_g', 0.0]\n",
      "['cap-color_b', 0.0]\n",
      "['cap-color_r', 0.0]\n",
      "['cap-color_u', 0.0]\n",
      "['odor_l', 0.0]\n",
      "['odor_m', 0.0]\n",
      "['gill-attachment_a', 0.0]\n",
      "['gill-attachment_f', 0.0]\n",
      "['gill-color_b', 0.0]\n",
      "['gill-color_k', 0.0]\n",
      "['gill-color_o', 0.0]\n",
      "['gill-color_y', 0.0]\n",
      "['stalk-color-above-ring_b', 0.0]\n",
      "['stalk-color-above-ring_c', 0.0]\n",
      "['stalk-color-above-ring_e', 0.0]\n",
      "['stalk-color-above-ring_g', 0.0]\n",
      "['stalk-color-above-ring_n', 0.0]\n",
      "['stalk-color-above-ring_w', 0.0]\n",
      "['stalk-color-above-ring_y', 0.0]\n",
      "['stalk-color-below-ring_b', 0.0]\n",
      "['stalk-color-below-ring_e', 0.0]\n",
      "['stalk-color-below-ring_o', 0.0]\n",
      "['stalk-color-below-ring_y', 0.0]\n",
      "['veil-color_w', 0.0]\n",
      "['veil-color_y', 0.0]\n",
      "['ring-number_n', 0.0]\n",
      "['ring-number_t', 0.0]\n",
      "['ring-type_e', 0.0]\n",
      "['ring-type_n', 0.0]\n",
      "['spore-print-color_b', 0.0]\n",
      "['spore-print-color_o', 0.0]\n",
      "['spore-print-color_y', 0.0]\n",
      "['population_a', 0.0]\n",
      "['habitat_w', 0.0]\n"
     ]
    }
   ],
   "source": [
    "feat_score.sort(reverse=True, key= lambda x:x[1])\n",
    "for char in feat_score:\n",
    "    print(char)"
   ]
  },
  {
   "cell_type": "markdown",
   "metadata": {},
   "source": [
    "<font color='MediumVioletRed'>\n",
    "Changed the scoring from f1 to roc_auc scoring becasue f1 keeps changing and isn't stable."
   ]
  },
  {
   "cell_type": "code",
   "execution_count": 213,
   "metadata": {},
   "outputs": [],
   "source": [
    "param_grid = [\n",
    "{'n_estimators': [3, 10, 30, 50, 100], 'max_features': [2, 4, 6, 8]},\n",
    "]"
   ]
  },
  {
   "cell_type": "code",
   "execution_count": 214,
   "metadata": {},
   "outputs": [],
   "source": [
    "grid_search = GridSearchCV(clf, param_grid, cv=10, scoring='roc_auc')\n",
    "#using ROC Area Under Curve to evaluate this time round"
   ]
  },
  {
   "cell_type": "code",
   "execution_count": 215,
   "metadata": {},
   "outputs": [
    {
     "data": {
      "text/plain": [
       "{'max_features': 2, 'n_estimators': 30}"
      ]
     },
     "execution_count": 215,
     "metadata": {},
     "output_type": "execute_result"
    }
   ],
   "source": [
    "grid_search.fit(X_enc, y_enc)\n",
    "grid_search.best_params_"
   ]
  },
  {
   "cell_type": "code",
   "execution_count": 216,
   "metadata": {},
   "outputs": [],
   "source": [
    "feat_score=[]\n",
    "for name, score in zip(X_train.columns, grid_search.best_estimator_.feature_importances_):\n",
    "    feat_score.append([name, score])"
   ]
  },
  {
   "cell_type": "code",
   "execution_count": 217,
   "metadata": {},
   "outputs": [
    {
     "name": "stdout",
     "output_type": "stream",
     "text": [
      "['odor_n', 0.06773848193230061]\n",
      "['gill-size_b', 0.04785502803927193]\n",
      "['spore-print-color_w', 0.04555598095458768]\n",
      "['gill-color_b', 0.039175723476567254]\n",
      "['odor_f', 0.036159212561521055]\n",
      "['ring-type_l', 0.030692286886018535]\n",
      "['stalk-surface-below-ring_k', 0.026828574136870585]\n",
      "['spore-print-color_h', 0.025854630119939017]\n",
      "['population_v', 0.024449177540691702]\n",
      "['stalk-root_b', 0.024304411167679243]\n",
      "['stalk-shape_t', 0.023293299005620802]\n",
      "['gill-size_n', 0.022947310480236537]\n",
      "['stalk-surface-above-ring_k', 0.021608833591238424]\n",
      "['bruises?_t', 0.02106039552645326]\n",
      "['stalk-surface-above-ring_s', 0.019090896228893397]\n",
      "['ring-type_e', 0.018554849435655704]\n",
      "['spore-print-color_k', 0.01853678672897809]\n",
      "['habitat_d', 0.018382134115452458]\n",
      "['stalk-root_e', 0.01792732472651377]\n",
      "['ring-type_p', 0.017616923200338135]\n",
      "['stalk-surface-below-ring_s', 0.017072726963676333]\n",
      "['stalk-root_?', 0.015870639023898174]\n",
      "['gill-spacing_w', 0.01545162014647394]\n",
      "['bruises?_f', 0.01533041764787835]\n",
      "['gill-color_w', 0.012703357207523193]\n",
      "['habitat_g', 0.012653820732848622]\n",
      "['spore-print-color_n', 0.012642689568743396]\n",
      "['cap-surface_s', 0.012408068670213813]\n",
      "['stalk-root_c', 0.011905807886775406]\n",
      "['gill-spacing_c', 0.01185398550313636]\n",
      "['stalk-color-above-ring_w', 0.011601483680942956]\n",
      "['stalk-color-below-ring_w', 0.011481139896450582]\n",
      "['stalk-shape_e', 0.01147005707405768]\n",
      "['odor_p', 0.00986741788356508]\n",
      "['habitat_u', 0.009552812091457728]\n",
      "['odor_y', 0.009491792737735287]\n",
      "['cap-surface_f', 0.009350334623900914]\n",
      "['stalk-color-above-ring_b', 0.008877749718054757]\n",
      "['odor_l', 0.008104287467004536]\n",
      "['stalk-color-above-ring_n', 0.007507007472520329]\n",
      "['stalk-color-above-ring_g', 0.006942473502063747]\n",
      "['gill-color_h', 0.00669023766445072]\n",
      "['cap-shape_b', 0.0063904313758143426]\n",
      "['population_s', 0.00610287989808184]\n",
      "['gill-color_g', 0.006098636065163962]\n",
      "['cap-color_e', 0.006038802269033135]\n",
      "['population_y', 0.005798530866924368]\n",
      "['stalk-surface-below-ring_f', 0.005517136546792932]\n",
      "['stalk-color-below-ring_n', 0.005514682427886779]\n",
      "['gill-color_n', 0.005481438921653035]\n",
      "['stalk-surface-above-ring_f', 0.005453163419103826]\n",
      "['odor_a', 0.005391608292650894]\n",
      "['ring-number_t', 0.0053703237091266695]\n",
      "['stalk-color-above-ring_o', 0.0052451361790265]\n",
      "['gill-color_p', 0.0045970406573247555]\n",
      "['stalk-color-below-ring_g', 0.004510100750939921]\n",
      "['population_c', 0.004248469417049331]\n",
      "['cap-color_n', 0.003937653414899552]\n",
      "['habitat_m', 0.0039150797765183576]\n",
      "['population_n', 0.0038890232104721472]\n",
      "['cap-color_g', 0.0038413833733555998]\n",
      "['cap-color_w', 0.0037088812240792706]\n",
      "['stalk-color-above-ring_p', 0.0036826818152095073]\n",
      "['stalk-surface-below-ring_y', 0.0036683744094298467]\n",
      "['population_a', 0.003493589880727756]\n",
      "['odor_c', 0.0034133755925572266]\n",
      "['cap-color_y', 0.0033908001692151074]\n",
      "['habitat_p', 0.003270619695223132]\n",
      "['spore-print-color_r', 0.003207988059863102]\n",
      "['cap-surface_y', 0.0031583295631488987]\n",
      "['habitat_l', 0.003017259797733546]\n",
      "['ring-number_o', 0.0029631797292208307]\n",
      "['stalk-color-above-ring_e', 0.0029227084639689314]\n",
      "['odor_s', 0.002771647580015314]\n",
      "['stalk-color-below-ring_o', 0.0026369813235118476]\n",
      "['gill-attachment_f', 0.0025796449887176714]\n",
      "['gill-color_k', 0.0024444569392530085]\n",
      "['gill-attachment_a', 0.002378483690991692]\n",
      "['gill-color_u', 0.0023438215050007884]\n",
      "['cap-color_b', 0.002050823839002322]\n",
      "['ring-type_f', 0.0020224552913176955]\n",
      "['stalk-root_r', 0.0020211019065947767]\n",
      "['habitat_w', 0.0019342669581767996]\n",
      "['cap-shape_k', 0.001864354084545693]\n",
      "['stalk-color-below-ring_p', 0.001649038588308746]\n",
      "['gill-color_o', 0.0016050602878391847]\n",
      "['cap-shape_f', 0.0015790802984500404]\n",
      "['veil-color_w', 0.0015758130426538233]\n",
      "['stalk-color-below-ring_e', 0.001478878313673229]\n",
      "['cap-shape_x', 0.001295123737425491]\n",
      "['cap-color_p', 0.0009495755746482781]\n",
      "['spore-print-color_u', 0.0008579178192088633]\n",
      "['gill-color_e', 0.0007530732533644445]\n",
      "['gill-color_y', 0.0007381852337903321]\n",
      "['ring-number_n', 0.0007363951957138332]\n",
      "['stalk-surface-above-ring_y', 0.0006711337953811232]\n",
      "['stalk-color-above-ring_c', 0.0006266594728484837]\n",
      "['odor_m', 0.0005878510400211095]\n",
      "['veil-color_n', 0.0005651520998099007]\n",
      "['stalk-color-below-ring_y', 0.0005507150774627201]\n",
      "['cap-color_c', 0.0005291135615427885]\n",
      "['gill-color_r', 0.0005286742855639799]\n",
      "['ring-type_n', 0.0005249567719387585]\n",
      "['stalk-color-below-ring_c', 0.0005238828152513262]\n",
      "['cap-shape_s', 0.0004855367638192005]\n",
      "['veil-color_o', 0.00046745507028690263]\n",
      "['stalk-color-below-ring_b', 0.0003906166914029155]\n",
      "['spore-print-color_y', 0.0003900615821322761]\n",
      "['veil-color_y', 0.0003102685740548851]\n",
      "['spore-print-color_o', 0.0002525130090829966]\n",
      "['cap-shape_c', 0.00020183384239666596]\n",
      "['cap-surface_g', 0.000196882418115617]\n",
      "['cap-color_u', 0.00012575328743447128]\n",
      "['cap-color_r', 0.00010254039014213357]\n",
      "['stalk-color-above-ring_y', 7.240087127272906e-07]\n",
      "['spore-print-color_b', 0.0]\n"
     ]
    }
   ],
   "source": [
    "feat_score.sort(reverse=True, key= lambda x:x[1])\n",
    "for char in feat_score:\n",
    "    print(char)"
   ]
  },
  {
   "cell_type": "markdown",
   "metadata": {},
   "source": [
    "<font color='MediumVioletRed'>\n",
    "The best features were more stable this time using roc_auc than f1 scoring."
   ]
  },
  {
   "cell_type": "markdown",
   "metadata": {},
   "source": [
    "<font color='PaleVioletRed'> \n",
    "### Visializations"
   ]
  },
  {
   "cell_type": "code",
   "execution_count": 316,
   "metadata": {},
   "outputs": [
    {
     "data": {
      "image/png": "[encoded data removed]",
      "text/plain": [
       "<Figure size 720x576 with 1 Axes>"
      ]
     },
     "metadata": {
      "needs_background": "light"
     },
     "output_type": "display_data"
    }
   ],
   "source": [
    "import matplotlib.pyplot as plt\n",
    "odor_labels = df['odor'].value_counts().axes[0]\n",
    "edible_o =[]\n",
    "poi_o = []\n",
    "N =0\n",
    "for odor in odor_labels:\n",
    "    size = len(df[df['odor'] == odor].index)\n",
    "    edibles = len(df[(df['odor'] == odor) & (df['class'] == 'e')].index)\n",
    "    edible_o.append(edibles)\n",
    "    poi_o.append(size-edibles)\n",
    "    N=N+1\n",
    "\n",
    "#Plotting\n",
    "ind = np.arange(N)\n",
    "width = 0.35\n",
    "\n",
    "fig, ax = plt.subplots(figsize=(10,8))\n",
    "\n",
    "rects1 = ax.bar(ind, poi_o, width, color='b')\n",
    "rects2 = ax.bar(ind + width, edible_o, width, color='cyan')\n",
    "\n",
    "# Labels and Ticks along the axes.\n",
    "ax.set_ylabel('Counts')\n",
    "ax.set_title('Poisonous and Edible Mushrooms by Odor')\n",
    "ax.set_xticks(ind + width / 2)\n",
    "ax.set_xticklabels(('None', 'Foul', 'Fishy', 'Spicy', 'Almond', 'Anise', 'Pungent', 'Creosote', 'Musty'))\n",
    "\n",
    "ax.legend((rects1[0], rects2[0]), ('Poisonous', 'Edible'))\n",
    "\n",
    "\n",
    "def autolabel(rects):\n",
    "    \n",
    "    for rect in rects:\n",
    "        height = rect.get_height()\n",
    "        ax.text(rect.get_x() + rect.get_width()/2., 1.05*height,\n",
    "                '%d' % int(height),\n",
    "                ha='center', va='bottom')\n",
    "\n",
    "autolabel(rects1)\n",
    "autolabel(rects2)\n",
    "\n",
    "plt.show()"
   ]
  },
  {
   "cell_type": "code",
   "execution_count": 315,
   "metadata": {},
   "outputs": [
    {
     "data": {
      "image/png": "[encoded data removed]",
      "text/plain": [
       "<Figure size 864x432 with 1 Axes>"
      ]
     },
     "metadata": {
      "needs_background": "light"
     },
     "output_type": "display_data"
    }
   ],
   "source": [
    "sporecolor_labels = df['spore-print-color'].value_counts().axes[0]\n",
    "\n",
    "edible_o =[]\n",
    "poi_o = []\n",
    "N =0\n",
    "for spc in sporecolor_labels:\n",
    "    size = len(df[df['spore-print-color'] == spc].index)\n",
    "    edibles = len(df[(df['spore-print-color'] == spc) & (df['class'] == 'e')].index)\n",
    "    edible_o.append(edibles)\n",
    "    poi_o.append(size-edibles)\n",
    "    N=N+1\n",
    "    \n",
    "#Plotting\n",
    "ind = np.arange(N)\n",
    "width = 0.35\n",
    "\n",
    "fig, ax = plt.subplots(figsize=(12,6))\n",
    "\n",
    "rects1 = ax.bar(ind, poi_o, width, color='m')\n",
    "rects2 = ax.bar(ind + width, edible_o, width, color='yellow')\n",
    "\n",
    "# Labels and Ticks along the axes.\n",
    "plt.ylim(0,4500)\n",
    "ax.set_ylabel('Counts')\n",
    "ax.set_title('Poisonous and Edible Mushrooms by the Spore Print Color')\n",
    "ax.set_xticks(ind + width / 2)\n",
    "ax.set_xticklabels(('White','Brown','Black','Chocolate','Green','Yellow','Purple','Buff','Orange',))\n",
    "\n",
    "ax.legend((rects1[0], rects2[0]), ('Poisonous', 'Edible'))\n",
    "\n",
    "\n",
    "def autolabel(rects):\n",
    "     #To plot the labels on top of the bars.\n",
    "    for rect in rects:\n",
    "        height = rect.get_height()\n",
    "        ax.text(rect.get_x() + rect.get_width()/2., 1.05*height,\n",
    "                '%d' % int(height),\n",
    "                ha='center', va='bottom')\n",
    "\n",
    "autolabel(rects1)\n",
    "autolabel(rects2)\n",
    "\n",
    "plt.show()"
   ]
  },
  {
   "cell_type": "code",
   "execution_count": 317,
   "metadata": {},
   "outputs": [
    {
     "data": {
      "image/png": "[encoded data removed]",
      "text/plain": [
       "<Figure size 576x432 with 1 Axes>"
      ]
     },
     "metadata": {
      "needs_background": "light"
     },
     "output_type": "display_data"
    }
   ],
   "source": [
    "bruises = df['bruises?'].value_counts().axes[0]\n",
    "\n",
    "edible_o =[]\n",
    "poi_o = []\n",
    "N =0\n",
    "for brus in bruises:\n",
    "    size = len(df[df['bruises?'] == brus].index)\n",
    "    edibles = len(df[(df['bruises?'] == brus) & (df['class'] == 'e')].index)\n",
    "    edible_o.append(edibles)\n",
    "    poi_o.append(size-edibles)\n",
    "    N=N+1\n",
    "    \n",
    "#Plotting\n",
    "ind = np.arange(N)\n",
    "width = 0.35\n",
    "\n",
    "fig, ax = plt.subplots(figsize=(8,6))\n",
    "\n",
    "rects1 = ax.bar(ind, poi_o, width, color='lime')\n",
    "rects2 = ax.bar(ind + width, edible_o, width, color='g')\n",
    "\n",
    "# Labels and Ticks along the axes.\n",
    "plt.ylim(0,4500)\n",
    "ax.set_ylabel('Counts')\n",
    "ax.set_title('Poisonous and Edible Mushrooms by Bruising')\n",
    "ax.set_xticks(ind + width / 2)\n",
    "ax.set_xticklabels(('Yes','No'))\n",
    "\n",
    "ax.legend((rects1[0], rects2[0]), ('Poisonous', 'Edible'))\n",
    "\n",
    "\n",
    "def autolabel(rects):\n",
    "     #To plot the labels on top of the bars.\n",
    "    for rect in rects:\n",
    "        height = rect.get_height()\n",
    "        ax.text(rect.get_x() + rect.get_width()/2., 1.05*height,\n",
    "                '%d' % int(height),\n",
    "                ha='center', va='bottom')\n",
    "\n",
    "autolabel(rects1)\n",
    "autolabel(rects2)\n",
    "\n",
    "plt.show()"
   ]
  },
  {
   "cell_type": "markdown",
   "metadata": {},
   "source": [
    "Chart Citation:\n",
    "- https://www.kaggle.com/patshot/mushroom-classification - https://xkcd.com/color/rgb/"
   ]
  },
  {
   "cell_type": "markdown",
   "metadata": {},
   "source": [
    "Resources:\n",
    "- https://datascienceplus.com/mushrooms-classification-part-1/\n",
    "- https://inmachineswetrust.com/posts/mushroom-classification/\n",
    "- https://www.kaggle.com/madhurisivalenka/basic-machine-learning-using-mushroom-dataset\n",
    "- https://www.kaggle.com/patshot/mushroom-classification\n",
    "- https://towardsdatascience.com/applying-the-universal-machine-learning-workflow-to-the-uci-mushroom-dataset-1939442d44e7"
   ]
  }
 ],
 "metadata": {
  "kernelspec": {
   "display_name": "Python (myENV)",
   "language": "python",
   "name": "myenv"
  },
  "language_info": {
   "codemirror_mode": {
    "name": "ipython",
    "version": 3
   },
   "file_extension": ".py",
   "mimetype": "text/x-python",
   "name": "python",
   "nbconvert_exporter": "python",
   "pygments_lexer": "ipython3",
   "version": "3.5.2"
  }
 },
 "nbformat": 4,
 "nbformat_minor": 2
}
